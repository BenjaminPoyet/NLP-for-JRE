{
 "cells": [
  {
   "cell_type": "markdown",
   "metadata": {},
   "source": [
    "## Topic modelling  "
   ]
  },
  {
   "cell_type": "markdown",
   "metadata": {},
   "source": [
    "The purpose of this notebook is to understand more precisely which topic is recurrent in the podcast, using topic modelling method."
   ]
  },
  {
   "cell_type": "markdown",
   "metadata": {},
   "source": [
    "### I. Set up"
   ]
  },
  {
   "cell_type": "code",
   "execution_count": 27,
   "metadata": {},
   "outputs": [
    {
     "name": "stdout",
     "output_type": "stream",
     "text": [
      "Collecting package metadata (current_repodata.json): ...working... done\n",
      "Solving environment: ...working... done\n",
      "\n",
      "# All requested packages already installed.\n",
      "\n",
      "\n",
      "Note: you may need to restart the kernel to use updated packages.\n"
     ]
    }
   ],
   "source": [
    "conda install -c conda-forge gensim"
   ]
  },
  {
   "cell_type": "code",
   "execution_count": 1,
   "metadata": {},
   "outputs": [],
   "source": [
    "from gensim import matutils, models\n",
    "import scipy.sparse\n",
    "import logging\n",
    "logging.basicConfig(format='%(asctime)s : %(levelname)s : %(message)s', level=logging.INFO)\n",
    "import pandas as pd\n",
    "import requests\n",
    "from bs4 import BeautifulSoup\n",
    "import pickle\n",
    "import pandas as pd\n",
    "from sklearn.feature_extraction import text \n",
    "from sklearn.feature_extraction.text import CountVectorizer\n",
    "from wordcloud import WordCloud\n",
    "import matplotlib.pyplot as plt"
   ]
  },
  {
   "cell_type": "code",
   "execution_count": 2,
   "metadata": {},
   "outputs": [
    {
     "data": {
      "text/html": [
       "<div>\n",
       "<style scoped>\n",
       "    .dataframe tbody tr th:only-of-type {\n",
       "        vertical-align: middle;\n",
       "    }\n",
       "\n",
       "    .dataframe tbody tr th {\n",
       "        vertical-align: top;\n",
       "    }\n",
       "\n",
       "    .dataframe thead th {\n",
       "        text-align: right;\n",
       "    }\n",
       "</style>\n",
       "<table border=\"1\" class=\"dataframe\">\n",
       "  <thead>\n",
       "    <tr style=\"text-align: right;\">\n",
       "      <th></th>\n",
       "      <th>Unnamed: 0</th>\n",
       "      <th>date</th>\n",
       "      <th>guest</th>\n",
       "      <th>duration</th>\n",
       "      <th>text</th>\n",
       "    </tr>\n",
       "  </thead>\n",
       "  <tbody>\n",
       "    <tr>\n",
       "      <th>0</th>\n",
       "      <td>13</td>\n",
       "      <td>2020-05-13</td>\n",
       "      <td>Tom Papa</td>\n",
       "      <td>3:14:57</td>\n",
       "      <td>\"hello. friends, welcome to the show this up, ...</td>\n",
       "    </tr>\n",
       "    <tr>\n",
       "      <th>1</th>\n",
       "      <td>16</td>\n",
       "      <td>2020-05-07</td>\n",
       "      <td>Tony Hinchcliffe</td>\n",
       "      <td>3:07:32</td>\n",
       "      <td>hello, friends. welcome to the show this episo...</td>\n",
       "    </tr>\n",
       "    <tr>\n",
       "      <th>2</th>\n",
       "      <td>23</td>\n",
       "      <td>2020-04-25</td>\n",
       "      <td>Duncan Trussell</td>\n",
       "      <td>3:17:17</td>\n",
       "      <td>oh hello, friends, welcome to the show this ep...</td>\n",
       "    </tr>\n",
       "    <tr>\n",
       "      <th>3</th>\n",
       "      <td>36</td>\n",
       "      <td>2020-04-02</td>\n",
       "      <td>Greg Fitzsimmons</td>\n",
       "      <td>3:21:42</td>\n",
       "      <td>hey friends. welcome to the show this episode ...</td>\n",
       "    </tr>\n",
       "    <tr>\n",
       "      <th>4</th>\n",
       "      <td>38</td>\n",
       "      <td>2020-03-31</td>\n",
       "      <td>Brian Redban</td>\n",
       "      <td>3:31:47</td>\n",
       "      <td>hello, friends, and welcome to the show this e...</td>\n",
       "    </tr>\n",
       "  </tbody>\n",
       "</table>\n",
       "</div>"
      ],
      "text/plain": [
       "   Unnamed: 0        date              guest duration  \\\n",
       "0          13  2020-05-13           Tom Papa  3:14:57   \n",
       "1          16  2020-05-07   Tony Hinchcliffe  3:07:32   \n",
       "2          23  2020-04-25    Duncan Trussell  3:17:17   \n",
       "3          36  2020-04-02   Greg Fitzsimmons  3:21:42   \n",
       "4          38  2020-03-31       Brian Redban  3:31:47   \n",
       "\n",
       "                                                text  \n",
       "0  \"hello. friends, welcome to the show this up, ...  \n",
       "1  hello, friends. welcome to the show this episo...  \n",
       "2  oh hello, friends, welcome to the show this ep...  \n",
       "3  hey friends. welcome to the show this episode ...  \n",
       "4  hello, friends, and welcome to the show this e...  "
      ]
     },
     "execution_count": 2,
     "metadata": {},
     "output_type": "execute_result"
    }
   ],
   "source": [
    "df= pd.read_csv('dfguestdataeda.csv')\n",
    "df.head()"
   ]
  },
  {
   "cell_type": "code",
   "execution_count": 3,
   "metadata": {},
   "outputs": [],
   "source": [
    "add_stop_words = ['like', 'im','guy','hi','ha','kind','want', 'man','good','great','sort','sort of','oh','probably','real',\n",
    "                  'lot','of','lot of','kind of','doing','way','come','saying','maybe','better','stuff','use','yes',\n",
    "                  'ok','mean','did','going', 'know', 'make', 'day','gotta', 'let', 'need','doe', 'theyre',\n",
    "                  'just', 'dont', 'thats', 'right', 'people','youre', 'got','thing','thing ','look','yes ','didnt ','actually ',\n",
    "                  'say','does','really', 'gonna', 'time', 'think', 'yeah','ive','year', 'said', ' way',' yeah',\n",
    "                  'thats','people','think', 'right', 'really', 'got', 'im','right','know', 'think', ' fucking',' theres',\n",
    "                  'gon','fuckin','fuck', 'shit', 'shes', 'fucking', 'guess','theres','hes', 'things', 'guys','point', 'hey', 'body','fight']\n",
    "# Add new stop words\n",
    "stop_words = text.ENGLISH_STOP_WORDS.union(add_stop_words)"
   ]
  },
  {
   "cell_type": "markdown",
   "metadata": {},
   "source": [
    "### III. Topic Modelling on the whole text"
   ]
  },
  {
   "cell_type": "code",
   "execution_count": 40,
   "metadata": {},
   "outputs": [],
   "source": [
    "cv = CountVectorizer(stop_words='english')\n",
    "data_cv = cv.fit_transform(df.text)\n",
    "data_dtm = pd.DataFrame(data_cv.toarray(), columns=cv.get_feature_names())\n",
    "data_dtm.index = df.index\n",
    "data = data_dtm.transpose()"
   ]
  },
  {
   "cell_type": "code",
   "execution_count": 41,
   "metadata": {},
   "outputs": [],
   "source": [
    "sparse_counts = scipy.sparse.csr_matrix(data)\n",
    "corpus = matutils.Sparse2Corpus(sparse_counts)"
   ]
  },
  {
   "cell_type": "code",
   "execution_count": 42,
   "metadata": {},
   "outputs": [],
   "source": [
    "id2word = dict((v, k) for k, v in cv.vocabulary_.items())"
   ]
  },
  {
   "cell_type": "code",
   "execution_count": 43,
   "metadata": {},
   "outputs": [
    {
     "name": "stderr",
     "output_type": "stream",
     "text": [
      "2020-06-13 11:13:15,046 : INFO : using symmetric alpha at 0.125\n",
      "2020-06-13 11:13:15,049 : INFO : using symmetric eta at 0.125\n",
      "2020-06-13 11:13:15,065 : INFO : using serial LDA version on this node\n",
      "2020-06-13 11:13:15,115 : INFO : running online (multi-pass) LDA training, 8 topics, 20 passes over the supplied corpus of 114 documents, updating model once every 114 documents, evaluating perplexity every 114 documents, iterating 50x with a convergence threshold of 0.001000\n",
      "2020-06-13 11:13:18,363 : INFO : -11.149 per-word bound, 2271.3 perplexity estimate based on a held-out corpus of 114 documents with 293507 words\n",
      "2020-06-13 11:13:18,365 : INFO : PROGRESS: pass 0, at document #114/114\n",
      "2020-06-13 11:13:19,002 : INFO : topic #1 (0.125): 0.043*\"like\" + 0.014*\"know\" + 0.014*\"yeah\" + 0.013*\"thats\" + 0.012*\"just\" + 0.011*\"think\" + 0.010*\"people\" + 0.009*\"im\" + 0.009*\"dont\" + 0.007*\"right\"\n",
      "2020-06-13 11:13:19,005 : INFO : topic #2 (0.125): 0.030*\"like\" + 0.017*\"just\" + 0.016*\"know\" + 0.011*\"right\" + 0.011*\"thats\" + 0.010*\"dont\" + 0.009*\"people\" + 0.009*\"yeah\" + 0.008*\"im\" + 0.007*\"think\"\n",
      "2020-06-13 11:13:19,008 : INFO : topic #3 (0.125): 0.023*\"like\" + 0.011*\"just\" + 0.011*\"yeah\" + 0.010*\"im\" + 0.008*\"dont\" + 0.008*\"thats\" + 0.008*\"think\" + 0.008*\"know\" + 0.008*\"really\" + 0.007*\"right\"\n",
      "2020-06-13 11:13:19,010 : INFO : topic #4 (0.125): 0.044*\"like\" + 0.016*\"just\" + 0.016*\"know\" + 0.011*\"people\" + 0.011*\"yeah\" + 0.010*\"dont\" + 0.010*\"thats\" + 0.010*\"right\" + 0.009*\"really\" + 0.009*\"think\"\n",
      "2020-06-13 11:13:19,013 : INFO : topic #5 (0.125): 0.039*\"like\" + 0.022*\"know\" + 0.015*\"people\" + 0.013*\"yeah\" + 0.012*\"just\" + 0.011*\"thats\" + 0.010*\"think\" + 0.009*\"dont\" + 0.008*\"im\" + 0.008*\"youre\"\n",
      "2020-06-13 11:13:19,015 : INFO : topic diff=2.955663, rho=1.000000\n",
      "2020-06-13 11:13:22,252 : INFO : -8.275 per-word bound, 309.8 perplexity estimate based on a held-out corpus of 114 documents with 293507 words\n",
      "2020-06-13 11:13:22,254 : INFO : PROGRESS: pass 1, at document #114/114\n",
      "2020-06-13 11:13:22,900 : INFO : topic #5 (0.125): 0.039*\"like\" + 0.023*\"know\" + 0.015*\"yeah\" + 0.014*\"people\" + 0.014*\"just\" + 0.012*\"thats\" + 0.010*\"think\" + 0.010*\"dont\" + 0.008*\"im\" + 0.008*\"right\"\n",
      "2020-06-13 11:13:22,905 : INFO : topic #7 (0.125): 0.035*\"like\" + 0.014*\"just\" + 0.012*\"people\" + 0.011*\"know\" + 0.008*\"thats\" + 0.008*\"yeah\" + 0.008*\"dont\" + 0.007*\"youre\" + 0.007*\"think\" + 0.007*\"right\"\n",
      "2020-06-13 11:13:22,914 : INFO : topic #0 (0.125): 0.029*\"like\" + 0.018*\"know\" + 0.014*\"just\" + 0.011*\"yeah\" + 0.010*\"right\" + 0.010*\"thats\" + 0.007*\"think\" + 0.007*\"people\" + 0.007*\"dont\" + 0.006*\"really\"\n",
      "2020-06-13 11:13:22,918 : INFO : topic #2 (0.125): 0.025*\"like\" + 0.016*\"just\" + 0.015*\"know\" + 0.011*\"thats\" + 0.010*\"right\" + 0.009*\"dont\" + 0.008*\"people\" + 0.007*\"yeah\" + 0.007*\"im\" + 0.007*\"think\"\n",
      "2020-06-13 11:13:22,925 : INFO : topic #3 (0.125): 0.019*\"like\" + 0.010*\"just\" + 0.009*\"yeah\" + 0.008*\"im\" + 0.007*\"dont\" + 0.007*\"thats\" + 0.007*\"think\" + 0.007*\"know\" + 0.006*\"really\" + 0.006*\"right\"\n",
      "2020-06-13 11:13:22,930 : INFO : topic diff=0.803049, rho=0.577350\n",
      "2020-06-13 11:13:26,318 : INFO : -8.095 per-word bound, 273.4 perplexity estimate based on a held-out corpus of 114 documents with 293507 words\n",
      "2020-06-13 11:13:26,320 : INFO : PROGRESS: pass 2, at document #114/114\n",
      "2020-06-13 11:13:27,000 : INFO : topic #5 (0.125): 0.040*\"like\" + 0.023*\"know\" + 0.016*\"yeah\" + 0.015*\"just\" + 0.014*\"people\" + 0.012*\"thats\" + 0.010*\"think\" + 0.010*\"dont\" + 0.009*\"right\" + 0.009*\"im\"\n",
      "2020-06-13 11:13:27,003 : INFO : topic #2 (0.125): 0.022*\"like\" + 0.015*\"know\" + 0.015*\"just\" + 0.010*\"thats\" + 0.009*\"right\" + 0.009*\"dont\" + 0.008*\"people\" + 0.007*\"yeah\" + 0.006*\"im\" + 0.006*\"think\"\n",
      "2020-06-13 11:13:27,005 : INFO : topic #6 (0.125): 0.022*\"like\" + 0.014*\"know\" + 0.011*\"just\" + 0.008*\"thats\" + 0.006*\"people\" + 0.006*\"dont\" + 0.006*\"think\" + 0.006*\"yeah\" + 0.005*\"im\" + 0.005*\"really\"\n",
      "2020-06-13 11:13:27,008 : INFO : topic #0 (0.125): 0.023*\"like\" + 0.015*\"know\" + 0.011*\"just\" + 0.009*\"right\" + 0.008*\"yeah\" + 0.008*\"thats\" + 0.006*\"think\" + 0.006*\"people\" + 0.006*\"dont\" + 0.005*\"really\"\n",
      "2020-06-13 11:13:27,010 : INFO : topic #3 (0.125): 0.015*\"like\" + 0.007*\"just\" + 0.007*\"yeah\" + 0.006*\"im\" + 0.005*\"dont\" + 0.005*\"thats\" + 0.005*\"think\" + 0.005*\"know\" + 0.005*\"really\" + 0.005*\"right\"\n",
      "2020-06-13 11:13:27,013 : INFO : topic diff=0.645633, rho=0.500000\n",
      "2020-06-13 11:13:30,241 : INFO : -7.999 per-word bound, 255.9 perplexity estimate based on a held-out corpus of 114 documents with 293507 words\n",
      "2020-06-13 11:13:30,243 : INFO : PROGRESS: pass 3, at document #114/114\n",
      "2020-06-13 11:13:30,837 : INFO : topic #6 (0.125): 0.017*\"like\" + 0.011*\"know\" + 0.009*\"just\" + 0.007*\"thats\" + 0.005*\"people\" + 0.005*\"dont\" + 0.005*\"think\" + 0.004*\"yeah\" + 0.004*\"im\" + 0.004*\"really\"\n",
      "2020-06-13 11:13:30,840 : INFO : topic #3 (0.125): 0.011*\"like\" + 0.005*\"just\" + 0.005*\"yeah\" + 0.005*\"im\" + 0.004*\"dont\" + 0.004*\"thats\" + 0.004*\"think\" + 0.004*\"know\" + 0.004*\"really\" + 0.003*\"right\"\n",
      "2020-06-13 11:13:30,844 : INFO : topic #4 (0.125): 0.040*\"like\" + 0.016*\"just\" + 0.014*\"know\" + 0.011*\"thats\" + 0.010*\"people\" + 0.009*\"yeah\" + 0.009*\"right\" + 0.009*\"think\" + 0.009*\"dont\" + 0.008*\"really\"\n",
      "2020-06-13 11:13:30,846 : INFO : topic #1 (0.125): 0.036*\"like\" + 0.012*\"just\" + 0.012*\"yeah\" + 0.012*\"know\" + 0.011*\"thats\" + 0.009*\"think\" + 0.008*\"people\" + 0.008*\"im\" + 0.008*\"dont\" + 0.007*\"right\"\n",
      "2020-06-13 11:13:30,850 : INFO : topic #5 (0.125): 0.041*\"like\" + 0.023*\"know\" + 0.016*\"yeah\" + 0.015*\"just\" + 0.014*\"people\" + 0.012*\"thats\" + 0.011*\"dont\" + 0.011*\"think\" + 0.009*\"right\" + 0.009*\"im\"\n",
      "2020-06-13 11:13:30,855 : INFO : topic diff=0.480372, rho=0.447214\n",
      "2020-06-13 11:13:34,115 : INFO : -7.950 per-word bound, 247.3 perplexity estimate based on a held-out corpus of 114 documents with 293507 words\n",
      "2020-06-13 11:13:34,118 : INFO : PROGRESS: pass 4, at document #114/114\n",
      "2020-06-13 11:13:34,826 : INFO : topic #1 (0.125): 0.035*\"like\" + 0.012*\"just\" + 0.011*\"know\" + 0.011*\"yeah\" + 0.011*\"thats\" + 0.008*\"im\" + 0.008*\"think\" + 0.008*\"people\" + 0.008*\"dont\" + 0.007*\"right\"\n",
      "2020-06-13 11:13:34,828 : INFO : topic #4 (0.125): 0.040*\"like\" + 0.016*\"just\" + 0.014*\"know\" + 0.011*\"thats\" + 0.010*\"people\" + 0.009*\"think\" + 0.009*\"yeah\" + 0.009*\"right\" + 0.008*\"dont\" + 0.008*\"really\"\n",
      "2020-06-13 11:13:34,832 : INFO : topic #2 (0.125): 0.019*\"like\" + 0.016*\"know\" + 0.014*\"just\" + 0.010*\"thats\" + 0.009*\"dont\" + 0.008*\"right\" + 0.007*\"people\" + 0.006*\"yeah\" + 0.006*\"im\" + 0.005*\"going\"\n",
      "2020-06-13 11:13:34,834 : INFO : topic #5 (0.125): 0.042*\"like\" + 0.023*\"know\" + 0.016*\"yeah\" + 0.015*\"just\" + 0.013*\"people\" + 0.012*\"thats\" + 0.011*\"dont\" + 0.011*\"think\" + 0.009*\"right\" + 0.009*\"im\"\n",
      "2020-06-13 11:13:34,837 : INFO : topic #0 (0.125): 0.016*\"like\" + 0.012*\"know\" + 0.008*\"right\" + 0.007*\"just\" + 0.007*\"thats\" + 0.005*\"yeah\" + 0.005*\"think\" + 0.005*\"years\" + 0.005*\"dont\" + 0.005*\"people\"\n",
      "2020-06-13 11:13:34,841 : INFO : topic diff=0.352147, rho=0.408248\n",
      "2020-06-13 11:13:37,985 : INFO : -7.923 per-word bound, 242.8 perplexity estimate based on a held-out corpus of 114 documents with 293507 words\n",
      "2020-06-13 11:13:37,987 : INFO : PROGRESS: pass 5, at document #114/114\n",
      "2020-06-13 11:13:38,573 : INFO : topic #2 (0.125): 0.018*\"like\" + 0.016*\"know\" + 0.013*\"just\" + 0.010*\"thats\" + 0.008*\"dont\" + 0.008*\"right\" + 0.007*\"people\" + 0.006*\"yeah\" + 0.006*\"im\" + 0.005*\"going\"\n",
      "2020-06-13 11:13:38,576 : INFO : topic #4 (0.125): 0.039*\"like\" + 0.016*\"just\" + 0.014*\"know\" + 0.011*\"thats\" + 0.010*\"people\" + 0.009*\"think\" + 0.009*\"right\" + 0.009*\"yeah\" + 0.008*\"dont\" + 0.008*\"really\"\n",
      "2020-06-13 11:13:38,580 : INFO : topic #5 (0.125): 0.042*\"like\" + 0.023*\"know\" + 0.017*\"yeah\" + 0.016*\"just\" + 0.013*\"people\" + 0.012*\"thats\" + 0.011*\"dont\" + 0.011*\"think\" + 0.009*\"right\" + 0.009*\"im\"\n",
      "2020-06-13 11:13:38,583 : INFO : topic #1 (0.125): 0.034*\"like\" + 0.012*\"just\" + 0.011*\"know\" + 0.011*\"yeah\" + 0.010*\"thats\" + 0.008*\"im\" + 0.008*\"dont\" + 0.008*\"people\" + 0.008*\"think\" + 0.007*\"right\"\n",
      "2020-06-13 11:13:38,586 : INFO : topic #3 (0.125): 0.005*\"like\" + 0.003*\"just\" + 0.003*\"yeah\" + 0.002*\"im\" + 0.002*\"dont\" + 0.002*\"thats\" + 0.002*\"think\" + 0.002*\"know\" + 0.002*\"really\" + 0.002*\"right\"\n",
      "2020-06-13 11:13:38,589 : INFO : topic diff=0.257756, rho=0.377964\n",
      "2020-06-13 11:13:41,854 : INFO : -7.908 per-word bound, 240.2 perplexity estimate based on a held-out corpus of 114 documents with 293507 words\n",
      "2020-06-13 11:13:41,856 : INFO : PROGRESS: pass 6, at document #114/114\n",
      "2020-06-13 11:13:42,510 : INFO : topic #6 (0.125): 0.007*\"like\" + 0.004*\"know\" + 0.003*\"just\" + 0.003*\"thats\" + 0.002*\"people\" + 0.002*\"dont\" + 0.002*\"think\" + 0.002*\"yeah\" + 0.002*\"im\" + 0.002*\"really\"\n",
      "2020-06-13 11:13:42,512 : INFO : topic #0 (0.125): 0.012*\"like\" + 0.011*\"know\" + 0.008*\"right\" + 0.006*\"years\" + 0.006*\"thats\" + 0.005*\"just\" + 0.005*\"thousand\" + 0.005*\"think\" + 0.004*\"got\" + 0.004*\"did\"\n",
      "2020-06-13 11:13:42,518 : INFO : topic #5 (0.125): 0.042*\"like\" + 0.023*\"know\" + 0.017*\"yeah\" + 0.016*\"just\" + 0.013*\"people\" + 0.012*\"thats\" + 0.011*\"dont\" + 0.011*\"think\" + 0.009*\"right\" + 0.009*\"im\"\n",
      "2020-06-13 11:13:42,520 : INFO : topic #3 (0.125): 0.004*\"like\" + 0.002*\"just\" + 0.002*\"yeah\" + 0.002*\"im\" + 0.001*\"dont\" + 0.001*\"thats\" + 0.001*\"think\" + 0.001*\"know\" + 0.001*\"really\" + 0.001*\"right\"\n",
      "2020-06-13 11:13:42,524 : INFO : topic #1 (0.125): 0.033*\"like\" + 0.012*\"just\" + 0.010*\"know\" + 0.010*\"yeah\" + 0.010*\"thats\" + 0.008*\"im\" + 0.008*\"dont\" + 0.007*\"people\" + 0.007*\"right\" + 0.007*\"think\"\n",
      "2020-06-13 11:13:42,529 : INFO : topic diff=0.188844, rho=0.353553\n",
      "2020-06-13 11:13:45,738 : INFO : -7.898 per-word bound, 238.6 perplexity estimate based on a held-out corpus of 114 documents with 293507 words\n",
      "2020-06-13 11:13:45,741 : INFO : PROGRESS: pass 7, at document #114/114\n",
      "2020-06-13 11:13:46,375 : INFO : topic #6 (0.125): 0.005*\"like\" + 0.003*\"know\" + 0.002*\"just\" + 0.002*\"thats\" + 0.001*\"people\" + 0.001*\"dont\" + 0.001*\"think\" + 0.001*\"yeah\" + 0.001*\"im\" + 0.001*\"really\"\n",
      "2020-06-13 11:13:46,378 : INFO : topic #4 (0.125): 0.039*\"like\" + 0.015*\"just\" + 0.014*\"know\" + 0.011*\"thats\" + 0.010*\"people\" + 0.009*\"think\" + 0.009*\"right\" + 0.008*\"yeah\" + 0.008*\"dont\" + 0.008*\"really\"\n",
      "2020-06-13 11:13:46,382 : INFO : topic #0 (0.125): 0.010*\"like\" + 0.010*\"know\" + 0.008*\"right\" + 0.006*\"years\" + 0.005*\"thats\" + 0.005*\"thousand\" + 0.005*\"just\" + 0.004*\"think\" + 0.004*\"got\" + 0.004*\"did\"\n",
      "2020-06-13 11:13:46,385 : INFO : topic #1 (0.125): 0.033*\"like\" + 0.012*\"just\" + 0.010*\"know\" + 0.010*\"yeah\" + 0.010*\"thats\" + 0.008*\"im\" + 0.007*\"dont\" + 0.007*\"right\" + 0.007*\"people\" + 0.007*\"think\"\n",
      "2020-06-13 11:13:46,389 : INFO : topic #5 (0.125): 0.043*\"like\" + 0.023*\"know\" + 0.017*\"yeah\" + 0.016*\"just\" + 0.013*\"people\" + 0.012*\"thats\" + 0.011*\"dont\" + 0.011*\"think\" + 0.009*\"right\" + 0.009*\"im\"\n",
      "2020-06-13 11:13:46,393 : INFO : topic diff=0.139164, rho=0.333333\n",
      "2020-06-13 11:13:49,670 : INFO : -7.892 per-word bound, 237.5 perplexity estimate based on a held-out corpus of 114 documents with 293507 words\n",
      "2020-06-13 11:13:49,672 : INFO : PROGRESS: pass 8, at document #114/114\n",
      "2020-06-13 11:13:50,288 : INFO : topic #5 (0.125): 0.043*\"like\" + 0.023*\"know\" + 0.017*\"yeah\" + 0.016*\"just\" + 0.013*\"people\" + 0.012*\"thats\" + 0.011*\"dont\" + 0.011*\"think\" + 0.009*\"right\" + 0.009*\"im\"\n",
      "2020-06-13 11:13:50,291 : INFO : topic #2 (0.125): 0.015*\"like\" + 0.015*\"know\" + 0.012*\"just\" + 0.010*\"thats\" + 0.008*\"dont\" + 0.007*\"right\" + 0.007*\"people\" + 0.005*\"im\" + 0.005*\"yeah\" + 0.005*\"got\"\n",
      "2020-06-13 11:13:50,294 : INFO : topic #4 (0.125): 0.039*\"like\" + 0.015*\"just\" + 0.014*\"know\" + 0.011*\"thats\" + 0.010*\"people\" + 0.009*\"think\" + 0.009*\"right\" + 0.008*\"yeah\" + 0.008*\"dont\" + 0.007*\"really\"\n",
      "2020-06-13 11:13:50,297 : INFO : topic #7 (0.125): 0.013*\"like\" + 0.008*\"just\" + 0.005*\"people\" + 0.004*\"know\" + 0.003*\"dont\" + 0.003*\"youre\" + 0.003*\"think\" + 0.003*\"im\" + 0.003*\"right\" + 0.003*\"say\"\n",
      "2020-06-13 11:13:50,300 : INFO : topic #1 (0.125): 0.032*\"like\" + 0.011*\"just\" + 0.010*\"yeah\" + 0.010*\"know\" + 0.009*\"thats\" + 0.008*\"im\" + 0.007*\"right\" + 0.007*\"dont\" + 0.007*\"people\" + 0.007*\"think\"\n",
      "2020-06-13 11:13:50,306 : INFO : topic diff=0.103636, rho=0.316228\n",
      "2020-06-13 11:13:53,637 : INFO : -7.887 per-word bound, 236.7 perplexity estimate based on a held-out corpus of 114 documents with 293507 words\n",
      "2020-06-13 11:13:53,640 : INFO : PROGRESS: pass 9, at document #114/114\n",
      "2020-06-13 11:13:54,373 : INFO : topic #3 (0.125): 0.001*\"like\" + 0.001*\"just\" + 0.001*\"yeah\" + 0.001*\"im\" + 0.001*\"dont\" + 0.000*\"thats\" + 0.000*\"think\" + 0.000*\"know\" + 0.000*\"really\" + 0.000*\"right\"\n",
      "2020-06-13 11:13:54,375 : INFO : topic #1 (0.125): 0.031*\"like\" + 0.011*\"just\" + 0.009*\"yeah\" + 0.009*\"thats\" + 0.009*\"know\" + 0.008*\"im\" + 0.007*\"right\" + 0.007*\"dont\" + 0.007*\"people\" + 0.006*\"think\"\n",
      "2020-06-13 11:13:54,378 : INFO : topic #0 (0.125): 0.010*\"know\" + 0.008*\"like\" + 0.008*\"right\" + 0.006*\"years\" + 0.005*\"thousand\" + 0.005*\"thats\" + 0.004*\"think\" + 0.004*\"got\" + 0.004*\"did\" + 0.004*\"just\"\n",
      "2020-06-13 11:13:54,381 : INFO : topic #7 (0.125): 0.011*\"like\" + 0.007*\"just\" + 0.004*\"people\" + 0.003*\"know\" + 0.003*\"youre\" + 0.003*\"dont\" + 0.003*\"think\" + 0.003*\"im\" + 0.002*\"say\" + 0.002*\"mean\"\n",
      "2020-06-13 11:13:54,385 : INFO : topic #6 (0.125): 0.002*\"like\" + 0.002*\"know\" + 0.001*\"just\" + 0.001*\"thats\" + 0.001*\"people\" + 0.001*\"dont\" + 0.001*\"think\" + 0.001*\"yeah\" + 0.001*\"im\" + 0.001*\"really\"\n",
      "2020-06-13 11:13:54,388 : INFO : topic diff=0.078842, rho=0.301511\n",
      "2020-06-13 11:13:57,568 : INFO : -7.884 per-word bound, 236.2 perplexity estimate based on a held-out corpus of 114 documents with 293507 words\n",
      "2020-06-13 11:13:57,570 : INFO : PROGRESS: pass 10, at document #114/114\n",
      "2020-06-13 11:13:58,214 : INFO : topic #7 (0.125): 0.009*\"like\" + 0.006*\"just\" + 0.004*\"people\" + 0.003*\"know\" + 0.003*\"youre\" + 0.002*\"dont\" + 0.002*\"think\" + 0.002*\"im\" + 0.002*\"say\" + 0.002*\"mean\"\n",
      "2020-06-13 11:13:58,218 : INFO : topic #6 (0.125): 0.002*\"like\" + 0.001*\"know\" + 0.001*\"just\" + 0.001*\"thats\" + 0.001*\"people\" + 0.001*\"dont\" + 0.001*\"think\" + 0.001*\"yeah\" + 0.000*\"im\" + 0.000*\"really\"\n",
      "2020-06-13 11:13:58,221 : INFO : topic #1 (0.125): 0.030*\"like\" + 0.011*\"just\" + 0.009*\"yeah\" + 0.009*\"thats\" + 0.009*\"know\" + 0.008*\"im\" + 0.007*\"right\" + 0.007*\"dont\" + 0.007*\"people\" + 0.006*\"think\"\n",
      "2020-06-13 11:13:58,225 : INFO : topic #4 (0.125): 0.038*\"like\" + 0.015*\"just\" + 0.014*\"know\" + 0.011*\"thats\" + 0.010*\"people\" + 0.009*\"think\" + 0.009*\"right\" + 0.008*\"dont\" + 0.008*\"yeah\" + 0.007*\"really\"\n",
      "2020-06-13 11:13:58,227 : INFO : topic #5 (0.125): 0.043*\"like\" + 0.023*\"know\" + 0.017*\"yeah\" + 0.016*\"just\" + 0.013*\"people\" + 0.012*\"thats\" + 0.011*\"dont\" + 0.011*\"think\" + 0.009*\"right\" + 0.009*\"im\"\n",
      "2020-06-13 11:13:58,231 : INFO : topic diff=0.061585, rho=0.288675\n",
      "2020-06-13 11:14:01,466 : INFO : -7.881 per-word bound, 235.7 perplexity estimate based on a held-out corpus of 114 documents with 293507 words\n",
      "2020-06-13 11:14:01,467 : INFO : PROGRESS: pass 11, at document #114/114\n",
      "2020-06-13 11:14:02,195 : INFO : topic #1 (0.125): 0.029*\"like\" + 0.011*\"just\" + 0.009*\"yeah\" + 0.009*\"thats\" + 0.008*\"know\" + 0.008*\"im\" + 0.007*\"right\" + 0.007*\"dont\" + 0.006*\"people\" + 0.006*\"think\"\n",
      "2020-06-13 11:14:02,198 : INFO : topic #5 (0.125): 0.044*\"like\" + 0.023*\"know\" + 0.017*\"yeah\" + 0.016*\"just\" + 0.013*\"people\" + 0.012*\"thats\" + 0.011*\"dont\" + 0.011*\"think\" + 0.009*\"right\" + 0.009*\"im\"\n",
      "2020-06-13 11:14:02,201 : INFO : topic #4 (0.125): 0.038*\"like\" + 0.015*\"just\" + 0.014*\"know\" + 0.011*\"thats\" + 0.010*\"people\" + 0.009*\"think\" + 0.009*\"right\" + 0.008*\"dont\" + 0.008*\"yeah\" + 0.007*\"really\"\n",
      "2020-06-13 11:14:02,204 : INFO : topic #7 (0.125): 0.007*\"like\" + 0.006*\"just\" + 0.003*\"people\" + 0.002*\"youre\" + 0.002*\"know\" + 0.002*\"dont\" + 0.002*\"islam\" + 0.002*\"say\" + 0.002*\"think\" + 0.002*\"im\"\n",
      "2020-06-13 11:14:02,206 : INFO : topic #2 (0.125): 0.014*\"know\" + 0.013*\"like\" + 0.011*\"just\" + 0.010*\"thats\" + 0.008*\"dont\" + 0.007*\"right\" + 0.006*\"people\" + 0.005*\"im\" + 0.005*\"got\" + 0.004*\"yeah\"\n",
      "2020-06-13 11:14:02,209 : INFO : topic diff=0.049432, rho=0.277350\n",
      "2020-06-13 11:14:05,411 : INFO : -7.879 per-word bound, 235.4 perplexity estimate based on a held-out corpus of 114 documents with 293507 words\n",
      "2020-06-13 11:14:05,413 : INFO : PROGRESS: pass 12, at document #114/114\n",
      "2020-06-13 11:14:05,992 : INFO : topic #0 (0.125): 0.009*\"know\" + 0.008*\"right\" + 0.007*\"years\" + 0.007*\"like\" + 0.006*\"thousand\" + 0.004*\"think\" + 0.004*\"thats\" + 0.004*\"did\" + 0.004*\"got\" + 0.003*\"look\"\n",
      "2020-06-13 11:14:05,995 : INFO : topic #6 (0.125): 0.001*\"like\" + 0.001*\"know\" + 0.001*\"just\" + 0.000*\"thats\" + 0.000*\"people\" + 0.000*\"dont\" + 0.000*\"think\" + 0.000*\"yeah\" + 0.000*\"im\" + 0.000*\"really\"\n",
      "2020-06-13 11:14:05,998 : INFO : topic #3 (0.125): 0.001*\"like\" + 0.000*\"just\" + 0.000*\"yeah\" + 0.000*\"im\" + 0.000*\"dont\" + 0.000*\"thats\" + 0.000*\"think\" + 0.000*\"know\" + 0.000*\"really\" + 0.000*\"right\"\n",
      "2020-06-13 11:14:06,002 : INFO : topic #1 (0.125): 0.028*\"like\" + 0.011*\"just\" + 0.009*\"thats\" + 0.009*\"yeah\" + 0.008*\"know\" + 0.008*\"im\" + 0.007*\"right\" + 0.007*\"dont\" + 0.006*\"people\" + 0.006*\"think\"\n",
      "2020-06-13 11:14:06,005 : INFO : topic #5 (0.125): 0.044*\"like\" + 0.023*\"know\" + 0.018*\"yeah\" + 0.016*\"just\" + 0.013*\"people\" + 0.012*\"thats\" + 0.011*\"dont\" + 0.011*\"think\" + 0.009*\"right\" + 0.009*\"im\"\n",
      "2020-06-13 11:14:06,008 : INFO : topic diff=0.040790, rho=0.267261\n",
      "2020-06-13 11:14:09,103 : INFO : -7.877 per-word bound, 235.1 perplexity estimate based on a held-out corpus of 114 documents with 293507 words\n",
      "2020-06-13 11:14:09,104 : INFO : PROGRESS: pass 13, at document #114/114\n",
      "2020-06-13 11:14:09,466 : INFO : topic #6 (0.125): 0.001*\"like\" + 0.001*\"know\" + 0.000*\"just\" + 0.000*\"thats\" + 0.000*\"people\" + 0.000*\"dont\" + 0.000*\"think\" + 0.000*\"yeah\" + 0.000*\"im\" + 0.000*\"really\"\n",
      "2020-06-13 11:14:09,468 : INFO : topic #1 (0.125): 0.028*\"like\" + 0.010*\"just\" + 0.009*\"thats\" + 0.008*\"yeah\" + 0.008*\"know\" + 0.008*\"im\" + 0.007*\"right\" + 0.006*\"dont\" + 0.006*\"people\" + 0.005*\"think\"\n",
      "2020-06-13 11:14:09,470 : INFO : topic #4 (0.125): 0.038*\"like\" + 0.015*\"just\" + 0.014*\"know\" + 0.011*\"thats\" + 0.010*\"people\" + 0.009*\"think\" + 0.009*\"right\" + 0.008*\"dont\" + 0.008*\"yeah\" + 0.007*\"really\"\n",
      "2020-06-13 11:14:09,472 : INFO : topic #0 (0.125): 0.009*\"know\" + 0.007*\"right\" + 0.007*\"years\" + 0.006*\"like\" + 0.006*\"thousand\" + 0.004*\"think\" + 0.004*\"thats\" + 0.004*\"did\" + 0.003*\"got\" + 0.003*\"look\"\n",
      "2020-06-13 11:14:09,474 : INFO : topic #2 (0.125): 0.013*\"know\" + 0.011*\"like\" + 0.011*\"just\" + 0.009*\"thats\" + 0.008*\"dont\" + 0.006*\"right\" + 0.006*\"people\" + 0.005*\"im\" + 0.005*\"got\" + 0.004*\"going\"\n",
      "2020-06-13 11:14:09,477 : INFO : topic diff=0.034592, rho=0.258199\n",
      "2020-06-13 11:14:11,607 : INFO : -7.875 per-word bound, 234.8 perplexity estimate based on a held-out corpus of 114 documents with 293507 words\n",
      "2020-06-13 11:14:11,608 : INFO : PROGRESS: pass 14, at document #114/114\n",
      "2020-06-13 11:14:11,989 : INFO : topic #6 (0.125): 0.001*\"like\" + 0.000*\"know\" + 0.000*\"just\" + 0.000*\"thats\" + 0.000*\"people\" + 0.000*\"dont\" + 0.000*\"think\" + 0.000*\"yeah\" + 0.000*\"im\" + 0.000*\"really\"\n",
      "2020-06-13 11:14:11,991 : INFO : topic #3 (0.125): 0.000*\"like\" + 0.000*\"just\" + 0.000*\"yeah\" + 0.000*\"im\" + 0.000*\"dont\" + 0.000*\"thats\" + 0.000*\"think\" + 0.000*\"know\" + 0.000*\"really\" + 0.000*\"right\"\n",
      "2020-06-13 11:14:11,993 : INFO : topic #5 (0.125): 0.044*\"like\" + 0.023*\"know\" + 0.018*\"yeah\" + 0.016*\"just\" + 0.013*\"people\" + 0.012*\"thats\" + 0.011*\"dont\" + 0.011*\"think\" + 0.010*\"right\" + 0.009*\"im\"\n",
      "2020-06-13 11:14:11,995 : INFO : topic #4 (0.125): 0.038*\"like\" + 0.015*\"just\" + 0.014*\"know\" + 0.011*\"thats\" + 0.011*\"people\" + 0.009*\"think\" + 0.009*\"right\" + 0.008*\"dont\" + 0.008*\"yeah\" + 0.007*\"really\"\n",
      "2020-06-13 11:14:11,998 : INFO : topic #1 (0.125): 0.027*\"like\" + 0.010*\"just\" + 0.008*\"thats\" + 0.008*\"yeah\" + 0.007*\"im\" + 0.007*\"know\" + 0.007*\"right\" + 0.006*\"dont\" + 0.006*\"people\" + 0.005*\"think\"\n",
      "2020-06-13 11:14:12,001 : INFO : topic diff=0.030067, rho=0.250000\n",
      "2020-06-13 11:14:14,130 : INFO : -7.874 per-word bound, 234.6 perplexity estimate based on a held-out corpus of 114 documents with 293507 words\n",
      "2020-06-13 11:14:14,132 : INFO : PROGRESS: pass 15, at document #114/114\n",
      "2020-06-13 11:14:14,736 : INFO : topic #1 (0.125): 0.026*\"like\" + 0.010*\"just\" + 0.008*\"thats\" + 0.008*\"yeah\" + 0.007*\"im\" + 0.007*\"know\" + 0.007*\"right\" + 0.006*\"dont\" + 0.006*\"people\" + 0.005*\"think\"\n",
      "2020-06-13 11:14:14,739 : INFO : topic #5 (0.125): 0.044*\"like\" + 0.023*\"know\" + 0.018*\"yeah\" + 0.016*\"just\" + 0.013*\"people\" + 0.012*\"thats\" + 0.011*\"dont\" + 0.011*\"think\" + 0.010*\"right\" + 0.009*\"im\"\n",
      "2020-06-13 11:14:14,742 : INFO : topic #4 (0.125): 0.038*\"like\" + 0.015*\"just\" + 0.014*\"know\" + 0.011*\"thats\" + 0.011*\"people\" + 0.009*\"think\" + 0.009*\"right\" + 0.008*\"dont\" + 0.008*\"yeah\" + 0.007*\"really\"\n",
      "2020-06-13 11:14:14,745 : INFO : topic #7 (0.125): 0.003*\"like\" + 0.003*\"just\" + 0.002*\"islam\" + 0.002*\"people\" + 0.001*\"bigfoot\" + 0.001*\"simply\" + 0.001*\"youre\" + 0.001*\"say\" + 0.001*\"muslim\" + 0.001*\"shave\"\n",
      "2020-06-13 11:14:14,748 : INFO : topic #3 (0.125): 0.000*\"like\" + 0.000*\"just\" + 0.000*\"yeah\" + 0.000*\"im\" + 0.000*\"dont\" + 0.000*\"thats\" + 0.000*\"think\" + 0.000*\"know\" + 0.000*\"really\" + 0.000*\"right\"\n",
      "2020-06-13 11:14:14,752 : INFO : topic diff=0.026714, rho=0.242536\n",
      "2020-06-13 11:14:17,902 : INFO : -7.872 per-word bound, 234.3 perplexity estimate based on a held-out corpus of 114 documents with 293507 words\n",
      "2020-06-13 11:14:17,904 : INFO : PROGRESS: pass 16, at document #114/114\n",
      "2020-06-13 11:14:18,478 : INFO : topic #3 (0.125): 0.000*\"like\" + 0.000*\"just\" + 0.000*\"yeah\" + 0.000*\"im\" + 0.000*\"dont\" + 0.000*\"thats\" + 0.000*\"think\" + 0.000*\"know\" + 0.000*\"really\" + 0.000*\"right\"\n",
      "2020-06-13 11:14:18,481 : INFO : topic #6 (0.125): 0.000*\"like\" + 0.000*\"know\" + 0.000*\"just\" + 0.000*\"thats\" + 0.000*\"people\" + 0.000*\"dont\" + 0.000*\"think\" + 0.000*\"yeah\" + 0.000*\"im\" + 0.000*\"really\"\n",
      "2020-06-13 11:14:18,484 : INFO : topic #0 (0.125): 0.008*\"know\" + 0.007*\"right\" + 0.007*\"years\" + 0.006*\"thousand\" + 0.005*\"like\" + 0.004*\"think\" + 0.004*\"thats\" + 0.003*\"look\" + 0.003*\"ago\" + 0.003*\"did\"\n",
      "2020-06-13 11:14:18,488 : INFO : topic #7 (0.125): 0.003*\"like\" + 0.003*\"just\" + 0.002*\"islam\" + 0.002*\"bigfoot\" + 0.002*\"simply\" + 0.001*\"people\" + 0.001*\"muslim\" + 0.001*\"jews\" + 0.001*\"shave\" + 0.001*\"say\"\n",
      "2020-06-13 11:14:18,492 : INFO : topic #2 (0.125): 0.012*\"know\" + 0.010*\"just\" + 0.009*\"like\" + 0.009*\"thats\" + 0.007*\"dont\" + 0.006*\"right\" + 0.005*\"people\" + 0.004*\"got\" + 0.004*\"im\" + 0.004*\"hunting\"\n",
      "2020-06-13 11:14:18,496 : INFO : topic diff=0.024185, rho=0.235702\n",
      "2020-06-13 11:14:21,684 : INFO : -7.871 per-word bound, 234.1 perplexity estimate based on a held-out corpus of 114 documents with 293507 words\n",
      "2020-06-13 11:14:21,686 : INFO : PROGRESS: pass 17, at document #114/114\n",
      "2020-06-13 11:14:22,394 : INFO : topic #4 (0.125): 0.038*\"like\" + 0.015*\"just\" + 0.014*\"know\" + 0.011*\"thats\" + 0.011*\"people\" + 0.009*\"think\" + 0.009*\"right\" + 0.008*\"dont\" + 0.008*\"yeah\" + 0.007*\"really\"\n",
      "2020-06-13 11:14:22,398 : INFO : topic #6 (0.125): 0.000*\"like\" + 0.000*\"know\" + 0.000*\"just\" + 0.000*\"thats\" + 0.000*\"people\" + 0.000*\"dont\" + 0.000*\"think\" + 0.000*\"yeah\" + 0.000*\"im\" + 0.000*\"really\"\n",
      "2020-06-13 11:14:22,400 : INFO : topic #2 (0.125): 0.012*\"know\" + 0.009*\"just\" + 0.009*\"thats\" + 0.008*\"like\" + 0.007*\"dont\" + 0.006*\"right\" + 0.005*\"people\" + 0.004*\"got\" + 0.004*\"im\" + 0.004*\"hunting\"\n",
      "2020-06-13 11:14:22,404 : INFO : topic #5 (0.125): 0.044*\"like\" + 0.023*\"know\" + 0.018*\"yeah\" + 0.016*\"just\" + 0.013*\"people\" + 0.012*\"thats\" + 0.011*\"dont\" + 0.011*\"think\" + 0.010*\"right\" + 0.009*\"im\"\n",
      "2020-06-13 11:14:22,406 : INFO : topic #1 (0.125): 0.024*\"like\" + 0.010*\"just\" + 0.008*\"thats\" + 0.008*\"yeah\" + 0.007*\"im\" + 0.006*\"right\" + 0.006*\"know\" + 0.006*\"dont\" + 0.005*\"people\" + 0.005*\"think\"\n",
      "2020-06-13 11:14:22,410 : INFO : topic diff=0.022220, rho=0.229416\n",
      "2020-06-13 11:14:25,607 : INFO : -7.870 per-word bound, 233.9 perplexity estimate based on a held-out corpus of 114 documents with 293507 words\n",
      "2020-06-13 11:14:25,609 : INFO : PROGRESS: pass 18, at document #114/114\n",
      "2020-06-13 11:14:26,181 : INFO : topic #6 (0.125): 0.000*\"like\" + 0.000*\"know\" + 0.000*\"just\" + 0.000*\"thats\" + 0.000*\"people\" + 0.000*\"dont\" + 0.000*\"think\" + 0.000*\"yeah\" + 0.000*\"im\" + 0.000*\"really\"\n",
      "2020-06-13 11:14:26,185 : INFO : topic #1 (0.125): 0.024*\"like\" + 0.010*\"just\" + 0.008*\"thats\" + 0.008*\"yeah\" + 0.007*\"im\" + 0.006*\"right\" + 0.006*\"know\" + 0.006*\"dont\" + 0.005*\"people\" + 0.004*\"think\"\n",
      "2020-06-13 11:14:26,188 : INFO : topic #3 (0.125): 0.000*\"like\" + 0.000*\"just\" + 0.000*\"yeah\" + 0.000*\"im\" + 0.000*\"dont\" + 0.000*\"thats\" + 0.000*\"think\" + 0.000*\"know\" + 0.000*\"really\" + 0.000*\"right\"\n",
      "2020-06-13 11:14:26,191 : INFO : topic #7 (0.125): 0.002*\"islam\" + 0.002*\"like\" + 0.002*\"just\" + 0.002*\"bigfoot\" + 0.002*\"simply\" + 0.001*\"muslim\" + 0.001*\"jews\" + 0.001*\"shave\" + 0.001*\"people\" + 0.001*\"evolutionary\"\n",
      "2020-06-13 11:14:26,194 : INFO : topic #5 (0.125): 0.044*\"like\" + 0.023*\"know\" + 0.018*\"yeah\" + 0.017*\"just\" + 0.013*\"people\" + 0.012*\"thats\" + 0.011*\"dont\" + 0.011*\"think\" + 0.010*\"right\" + 0.009*\"im\"\n",
      "2020-06-13 11:14:26,198 : INFO : topic diff=0.020646, rho=0.223607\n",
      "2020-06-13 11:14:29,382 : INFO : -7.869 per-word bound, 233.8 perplexity estimate based on a held-out corpus of 114 documents with 293507 words\n",
      "2020-06-13 11:14:29,383 : INFO : PROGRESS: pass 19, at document #114/114\n",
      "2020-06-13 11:14:30,032 : INFO : topic #3 (0.125): 0.000*\"like\" + 0.000*\"just\" + 0.000*\"yeah\" + 0.000*\"im\" + 0.000*\"dont\" + 0.000*\"thats\" + 0.000*\"think\" + 0.000*\"know\" + 0.000*\"really\" + 0.000*\"right\"\n",
      "2020-06-13 11:14:30,035 : INFO : topic #1 (0.125): 0.023*\"like\" + 0.009*\"just\" + 0.008*\"thats\" + 0.007*\"yeah\" + 0.007*\"im\" + 0.006*\"right\" + 0.006*\"know\" + 0.005*\"dont\" + 0.005*\"people\" + 0.004*\"think\"\n",
      "2020-06-13 11:14:30,038 : INFO : topic #2 (0.125): 0.011*\"know\" + 0.009*\"just\" + 0.008*\"thats\" + 0.007*\"like\" + 0.006*\"dont\" + 0.005*\"right\" + 0.004*\"people\" + 0.004*\"hunting\" + 0.004*\"got\" + 0.004*\"im\"\n",
      "2020-06-13 11:14:30,042 : INFO : topic #0 (0.125): 0.008*\"know\" + 0.007*\"right\" + 0.007*\"years\" + 0.006*\"thousand\" + 0.004*\"like\" + 0.004*\"think\" + 0.004*\"ago\" + 0.003*\"look\" + 0.003*\"thats\" + 0.003*\"did\"\n",
      "2020-06-13 11:14:30,047 : INFO : topic #5 (0.125): 0.045*\"like\" + 0.024*\"know\" + 0.018*\"yeah\" + 0.017*\"just\" + 0.013*\"people\" + 0.012*\"thats\" + 0.011*\"dont\" + 0.011*\"think\" + 0.010*\"right\" + 0.009*\"im\"\n",
      "2020-06-13 11:14:30,050 : INFO : topic diff=0.019384, rho=0.218218\n",
      "2020-06-13 11:14:30,118 : INFO : topic #0 (0.125): 0.008*\"know\" + 0.007*\"right\" + 0.007*\"years\" + 0.006*\"thousand\" + 0.004*\"like\" + 0.004*\"think\" + 0.004*\"ago\" + 0.003*\"look\" + 0.003*\"thats\" + 0.003*\"did\"\n",
      "2020-06-13 11:14:30,122 : INFO : topic #1 (0.125): 0.023*\"like\" + 0.009*\"just\" + 0.008*\"thats\" + 0.007*\"yeah\" + 0.007*\"im\" + 0.006*\"right\" + 0.006*\"know\" + 0.005*\"dont\" + 0.005*\"people\" + 0.004*\"think\"\n",
      "2020-06-13 11:14:30,126 : INFO : topic #2 (0.125): 0.011*\"know\" + 0.009*\"just\" + 0.008*\"thats\" + 0.007*\"like\" + 0.006*\"dont\" + 0.005*\"right\" + 0.004*\"people\" + 0.004*\"hunting\" + 0.004*\"got\" + 0.004*\"im\"\n",
      "2020-06-13 11:14:30,129 : INFO : topic #3 (0.125): 0.000*\"like\" + 0.000*\"just\" + 0.000*\"yeah\" + 0.000*\"im\" + 0.000*\"dont\" + 0.000*\"thats\" + 0.000*\"think\" + 0.000*\"know\" + 0.000*\"really\" + 0.000*\"right\"\n",
      "2020-06-13 11:14:30,132 : INFO : topic #4 (0.125): 0.037*\"like\" + 0.015*\"just\" + 0.014*\"know\" + 0.011*\"thats\" + 0.011*\"people\" + 0.009*\"think\" + 0.009*\"right\" + 0.008*\"dont\" + 0.007*\"yeah\" + 0.007*\"really\"\n",
      "2020-06-13 11:14:30,135 : INFO : topic #5 (0.125): 0.045*\"like\" + 0.024*\"know\" + 0.018*\"yeah\" + 0.017*\"just\" + 0.013*\"people\" + 0.012*\"thats\" + 0.011*\"dont\" + 0.011*\"think\" + 0.010*\"right\" + 0.009*\"im\"\n",
      "2020-06-13 11:14:30,138 : INFO : topic #6 (0.125): 0.000*\"like\" + 0.000*\"know\" + 0.000*\"just\" + 0.000*\"thats\" + 0.000*\"people\" + 0.000*\"dont\" + 0.000*\"think\" + 0.000*\"yeah\" + 0.000*\"im\" + 0.000*\"really\"\n",
      "2020-06-13 11:14:30,139 : INFO : topic #7 (0.125): 0.002*\"islam\" + 0.002*\"like\" + 0.002*\"just\" + 0.002*\"simply\" + 0.002*\"bigfoot\" + 0.001*\"muslim\" + 0.001*\"jews\" + 0.001*\"shave\" + 0.001*\"evolutionary\" + 0.001*\"preference\"\n"
     ]
    },
    {
     "data": {
      "text/plain": [
       "[(0,\n",
       "  '0.008*\"know\" + 0.007*\"right\" + 0.007*\"years\" + 0.006*\"thousand\" + 0.004*\"like\" + 0.004*\"think\" + 0.004*\"ago\" + 0.003*\"look\" + 0.003*\"thats\" + 0.003*\"did\"'),\n",
       " (1,\n",
       "  '0.023*\"like\" + 0.009*\"just\" + 0.008*\"thats\" + 0.007*\"yeah\" + 0.007*\"im\" + 0.006*\"right\" + 0.006*\"know\" + 0.005*\"dont\" + 0.005*\"people\" + 0.004*\"think\"'),\n",
       " (2,\n",
       "  '0.011*\"know\" + 0.009*\"just\" + 0.008*\"thats\" + 0.007*\"like\" + 0.006*\"dont\" + 0.005*\"right\" + 0.004*\"people\" + 0.004*\"hunting\" + 0.004*\"got\" + 0.004*\"im\"'),\n",
       " (3,\n",
       "  '0.000*\"like\" + 0.000*\"just\" + 0.000*\"yeah\" + 0.000*\"im\" + 0.000*\"dont\" + 0.000*\"thats\" + 0.000*\"think\" + 0.000*\"know\" + 0.000*\"really\" + 0.000*\"right\"'),\n",
       " (4,\n",
       "  '0.037*\"like\" + 0.015*\"just\" + 0.014*\"know\" + 0.011*\"thats\" + 0.011*\"people\" + 0.009*\"think\" + 0.009*\"right\" + 0.008*\"dont\" + 0.007*\"yeah\" + 0.007*\"really\"'),\n",
       " (5,\n",
       "  '0.045*\"like\" + 0.024*\"know\" + 0.018*\"yeah\" + 0.017*\"just\" + 0.013*\"people\" + 0.012*\"thats\" + 0.011*\"dont\" + 0.011*\"think\" + 0.010*\"right\" + 0.009*\"im\"'),\n",
       " (6,\n",
       "  '0.000*\"like\" + 0.000*\"know\" + 0.000*\"just\" + 0.000*\"thats\" + 0.000*\"people\" + 0.000*\"dont\" + 0.000*\"think\" + 0.000*\"yeah\" + 0.000*\"im\" + 0.000*\"really\"'),\n",
       " (7,\n",
       "  '0.002*\"islam\" + 0.002*\"like\" + 0.002*\"just\" + 0.002*\"simply\" + 0.002*\"bigfoot\" + 0.001*\"muslim\" + 0.001*\"jews\" + 0.001*\"shave\" + 0.001*\"evolutionary\" + 0.001*\"preference\"')]"
      ]
     },
     "execution_count": 43,
     "metadata": {},
     "output_type": "execute_result"
    }
   ],
   "source": [
    "lda = models.LdaModel(corpus=corpus, id2word=id2word, num_topics=8, passes=20)\n",
    "lda.print_topics()"
   ]
  },
  {
   "cell_type": "markdown",
   "metadata": {},
   "source": [
    "### IV. Topic modelling using only the name"
   ]
  },
  {
   "cell_type": "code",
   "execution_count": 44,
   "metadata": {},
   "outputs": [],
   "source": [
    "from nltk import word_tokenize, pos_tag\n",
    "\n",
    "def nouns(text):\n",
    "    '''Given a string of text, tokenize the text and pull out only the nouns.'''\n",
    "    is_noun = lambda pos: pos[:2] == 'NN'\n",
    "    tokenized = word_tokenize(text)\n",
    "    all_nouns = [word for (word, pos) in pos_tag(tokenized) if is_noun(pos)] \n",
    "    return ' '.join(all_nouns)"
   ]
  },
  {
   "cell_type": "code",
   "execution_count": 45,
   "metadata": {},
   "outputs": [
    {
     "name": "stdout",
     "output_type": "stream",
     "text": [
      "[nltk_data] Downloading package punkt to\n",
      "[nltk_data]     C:\\Users\\benja\\AppData\\Roaming\\nltk_data...\n",
      "[nltk_data]   Package punkt is already up-to-date!\n",
      "[nltk_data] Downloading package averaged_perceptron_tagger to\n",
      "[nltk_data]     C:\\Users\\benja\\AppData\\Roaming\\nltk_data...\n",
      "[nltk_data]   Package averaged_perceptron_tagger is already up-to-\n",
      "[nltk_data]       date!\n"
     ]
    },
    {
     "data": {
      "text/plain": [
       "True"
      ]
     },
     "execution_count": 45,
     "metadata": {},
     "output_type": "execute_result"
    }
   ],
   "source": [
    "import nltk\n",
    "nltk.download('punkt')\n",
    "nltk.download('averaged_perceptron_tagger')"
   ]
  },
  {
   "cell_type": "code",
   "execution_count": 46,
   "metadata": {},
   "outputs": [],
   "source": [
    "data_nouns = pd.DataFrame(df.text.apply(nouns))"
   ]
  },
  {
   "cell_type": "code",
   "execution_count": 47,
   "metadata": {},
   "outputs": [
    {
     "name": "stderr",
     "output_type": "stream",
     "text": [
      "C:\\Users\\benja\\anaconda3\\lib\\site-packages\\sklearn\\feature_extraction\\text.py:385: UserWarning: Your stop_words may be inconsistent with your preprocessing. Tokenizing the stop words generated tokens ['actually', 'didnt'] not in stop_words.\n",
      "  'stop_words.' % sorted(inconsistent))\n"
     ]
    }
   ],
   "source": [
    "from sklearn.feature_extraction import text\n",
    "from sklearn.feature_extraction.text import CountVectorizer\n",
    "\n",
    "# Recreate a document-term matrix with only nouns\n",
    "cvn = CountVectorizer(stop_words=stop_words)\n",
    "data_cvn = cvn.fit_transform(data_nouns.text)\n",
    "data_dtmn = pd.DataFrame(data_cvn.toarray(), columns=cvn.get_feature_names())\n",
    "data_dtmn.index = data_nouns.index"
   ]
  },
  {
   "cell_type": "code",
   "execution_count": 48,
   "metadata": {},
   "outputs": [],
   "source": [
    "corpusn = matutils.Sparse2Corpus(scipy.sparse.csr_matrix(data_dtmn.transpose()))\n",
    "\n",
    "# Create the vocabulary dictionary\n",
    "id2wordn = dict((v, k) for k, v in cvn.vocabulary_.items())"
   ]
  },
  {
   "cell_type": "code",
   "execution_count": 49,
   "metadata": {
    "scrolled": true
   },
   "outputs": [
    {
     "name": "stderr",
     "output_type": "stream",
     "text": [
      "2020-06-13 11:16:04,759 : INFO : using symmetric alpha at 0.125\n",
      "2020-06-13 11:16:04,761 : INFO : using symmetric eta at 0.125\n",
      "2020-06-13 11:16:04,777 : INFO : using serial LDA version on this node\n",
      "2020-06-13 11:16:04,815 : INFO : running online (multi-pass) LDA training, 8 topics, 20 passes over the supplied corpus of 114 documents, updating model once every 114 documents, evaluating perplexity every 114 documents, iterating 50x with a convergence threshold of 0.001000\n",
      "2020-06-13 11:16:06,728 : INFO : -11.338 per-word bound, 2588.4 perplexity estimate based on a held-out corpus of 114 documents with 103514 words\n",
      "2020-06-13 11:16:06,731 : INFO : PROGRESS: pass 0, at document #114/114\n",
      "2020-06-13 11:16:07,242 : INFO : topic #4 (0.125): 0.006*\"years\" + 0.005*\"money\" + 0.004*\"life\" + 0.003*\"world\" + 0.003*\"kids\" + 0.003*\"work\" + 0.003*\"com\" + 0.003*\"everybody\" + 0.003*\"idea\" + 0.003*\"person\"\n",
      "2020-06-13 11:16:07,244 : INFO : topic #0 (0.125): 0.006*\"years\" + 0.004*\"life\" + 0.004*\"money\" + 0.004*\"everybody\" + 0.004*\"work\" + 0.003*\"world\" + 0.003*\"person\" + 0.003*\"times\" + 0.003*\"night\" + 0.003*\"idea\"\n",
      "2020-06-13 11:16:07,249 : INFO : topic #6 (0.125): 0.005*\"years\" + 0.005*\"money\" + 0.004*\"everybody\" + 0.004*\"work\" + 0.004*\"world\" + 0.004*\"life\" + 0.003*\"percent\" + 0.003*\"cause\" + 0.003*\"place\" + 0.003*\"car\"\n",
      "2020-06-13 11:16:07,252 : INFO : topic #2 (0.125): 0.006*\"years\" + 0.005*\"life\" + 0.004*\"world\" + 0.003*\"cause\" + 0.003*\"person\" + 0.003*\"money\" + 0.003*\"place\" + 0.003*\"everybody\" + 0.003*\"idea\" + 0.003*\"job\"\n",
      "2020-06-13 11:16:07,256 : INFO : topic #5 (0.125): 0.005*\"life\" + 0.005*\"years\" + 0.004*\"money\" + 0.004*\"work\" + 0.004*\"person\" + 0.004*\"everybody\" + 0.003*\"world\" + 0.003*\"cause\" + 0.003*\"idea\" + 0.003*\"bit\"\n",
      "2020-06-13 11:16:07,260 : INFO : topic diff=2.602713, rho=1.000000\n",
      "2020-06-13 11:16:09,088 : INFO : -9.391 per-word bound, 671.4 perplexity estimate based on a held-out corpus of 114 documents with 103514 words\n",
      "2020-06-13 11:16:09,089 : INFO : PROGRESS: pass 1, at document #114/114\n",
      "2020-06-13 11:16:09,599 : INFO : topic #2 (0.125): 0.005*\"years\" + 0.005*\"life\" + 0.004*\"world\" + 0.003*\"place\" + 0.003*\"person\" + 0.003*\"everybody\" + 0.003*\"money\" + 0.003*\"game\" + 0.003*\"cause\" + 0.003*\"times\"\n",
      "2020-06-13 11:16:09,602 : INFO : topic #0 (0.125): 0.006*\"years\" + 0.005*\"life\" + 0.004*\"money\" + 0.004*\"person\" + 0.004*\"work\" + 0.004*\"world\" + 0.003*\"game\" + 0.003*\"idea\" + 0.003*\"everybody\" + 0.003*\"night\"\n",
      "2020-06-13 11:16:09,605 : INFO : topic #1 (0.125): 0.004*\"life\" + 0.004*\"years\" + 0.004*\"money\" + 0.004*\"world\" + 0.003*\"idea\" + 0.003*\"cause\" + 0.003*\"work\" + 0.003*\"com\" + 0.003*\"person\" + 0.002*\"everybody\"\n",
      "2020-06-13 11:16:09,611 : INFO : topic #4 (0.125): 0.007*\"years\" + 0.005*\"money\" + 0.004*\"life\" + 0.003*\"cause\" + 0.003*\"kids\" + 0.003*\"com\" + 0.003*\"world\" + 0.003*\"everybody\" + 0.003*\"person\" + 0.003*\"work\"\n",
      "2020-06-13 11:16:09,612 : INFO : topic #3 (0.125): 0.007*\"years\" + 0.005*\"life\" + 0.004*\"everybody\" + 0.004*\"money\" + 0.003*\"place\" + 0.003*\"person\" + 0.003*\"work\" + 0.003*\"idea\" + 0.002*\"brain\" + 0.002*\"world\"\n",
      "2020-06-13 11:16:09,616 : INFO : topic diff=1.091846, rho=0.577350\n",
      "2020-06-13 11:16:11,433 : INFO : -9.009 per-word bound, 515.3 perplexity estimate based on a held-out corpus of 114 documents with 103514 words\n",
      "2020-06-13 11:16:11,436 : INFO : PROGRESS: pass 2, at document #114/114\n",
      "2020-06-13 11:16:11,833 : INFO : topic #2 (0.125): 0.005*\"years\" + 0.004*\"life\" + 0.004*\"world\" + 0.004*\"everybody\" + 0.004*\"money\" + 0.004*\"game\" + 0.003*\"place\" + 0.003*\"person\" + 0.003*\"cause\" + 0.003*\"times\"\n",
      "2020-06-13 11:16:11,836 : INFO : topic #3 (0.125): 0.009*\"years\" + 0.004*\"life\" + 0.004*\"everybody\" + 0.004*\"money\" + 0.003*\"idea\" + 0.003*\"feet\" + 0.003*\"place\" + 0.002*\"work\" + 0.002*\"person\" + 0.002*\"brain\"\n",
      "2020-06-13 11:16:11,838 : INFO : topic #4 (0.125): 0.008*\"years\" + 0.006*\"money\" + 0.004*\"life\" + 0.004*\"cause\" + 0.003*\"com\" + 0.003*\"everybody\" + 0.003*\"kids\" + 0.003*\"person\" + 0.003*\"world\" + 0.003*\"house\"\n",
      "2020-06-13 11:16:11,842 : INFO : topic #6 (0.125): 0.005*\"years\" + 0.005*\"money\" + 0.005*\"life\" + 0.004*\"work\" + 0.004*\"everybody\" + 0.004*\"world\" + 0.004*\"percent\" + 0.003*\"cause\" + 0.003*\"car\" + 0.003*\"com\"\n",
      "2020-06-13 11:16:11,844 : INFO : topic #5 (0.125): 0.005*\"years\" + 0.005*\"life\" + 0.003*\"idea\" + 0.003*\"work\" + 0.003*\"money\" + 0.003*\"world\" + 0.003*\"place\" + 0.003*\"house\" + 0.003*\"person\" + 0.002*\"everybody\"\n",
      "2020-06-13 11:16:11,848 : INFO : topic diff=0.794750, rho=0.500000\n",
      "2020-06-13 11:16:13,586 : INFO : -8.857 per-word bound, 463.7 perplexity estimate based on a held-out corpus of 114 documents with 103514 words\n",
      "2020-06-13 11:16:13,587 : INFO : PROGRESS: pass 3, at document #114/114\n",
      "2020-06-13 11:16:13,942 : INFO : topic #3 (0.125): 0.010*\"years\" + 0.004*\"life\" + 0.004*\"money\" + 0.004*\"everybody\" + 0.003*\"feet\" + 0.003*\"idea\" + 0.002*\"times\" + 0.002*\"brain\" + 0.002*\"work\" + 0.002*\"place\"\n",
      "2020-06-13 11:16:13,945 : INFO : topic #2 (0.125): 0.005*\"years\" + 0.004*\"life\" + 0.004*\"world\" + 0.004*\"money\" + 0.004*\"everybody\" + 0.004*\"game\" + 0.003*\"place\" + 0.003*\"person\" + 0.003*\"cause\" + 0.003*\"night\"\n",
      "2020-06-13 11:16:13,947 : INFO : topic #6 (0.125): 0.005*\"years\" + 0.005*\"life\" + 0.005*\"money\" + 0.004*\"work\" + 0.004*\"everybody\" + 0.004*\"world\" + 0.004*\"percent\" + 0.003*\"cause\" + 0.003*\"com\" + 0.003*\"person\"\n",
      "2020-06-13 11:16:13,949 : INFO : topic #5 (0.125): 0.005*\"years\" + 0.004*\"life\" + 0.003*\"idea\" + 0.003*\"work\" + 0.003*\"money\" + 0.003*\"world\" + 0.003*\"place\" + 0.003*\"problem\" + 0.003*\"phone\" + 0.003*\"house\"\n",
      "2020-06-13 11:16:13,952 : INFO : topic #7 (0.125): 0.002*\"years\" + 0.002*\"life\" + 0.002*\"work\" + 0.002*\"person\" + 0.002*\"money\" + 0.001*\"god\" + 0.001*\"cause\" + 0.001*\"game\" + 0.001*\"idea\" + 0.001*\"place\"\n",
      "2020-06-13 11:16:13,955 : INFO : topic diff=0.535537, rho=0.447214\n",
      "2020-06-13 11:16:15,679 : INFO : -8.794 per-word bound, 443.8 perplexity estimate based on a held-out corpus of 114 documents with 103514 words\n",
      "2020-06-13 11:16:15,681 : INFO : PROGRESS: pass 4, at document #114/114\n",
      "2020-06-13 11:16:16,102 : INFO : topic #5 (0.125): 0.005*\"years\" + 0.004*\"life\" + 0.003*\"idea\" + 0.003*\"money\" + 0.003*\"world\" + 0.003*\"work\" + 0.003*\"problem\" + 0.003*\"phone\" + 0.003*\"place\" + 0.003*\"house\"\n",
      "2020-06-13 11:16:16,105 : INFO : topic #0 (0.125): 0.005*\"years\" + 0.005*\"life\" + 0.004*\"world\" + 0.004*\"money\" + 0.004*\"person\" + 0.004*\"work\" + 0.004*\"game\" + 0.003*\"idea\" + 0.003*\"brain\" + 0.003*\"night\"\n",
      "2020-06-13 11:16:16,108 : INFO : topic #6 (0.125): 0.005*\"life\" + 0.005*\"years\" + 0.005*\"money\" + 0.004*\"work\" + 0.004*\"everybody\" + 0.004*\"world\" + 0.004*\"percent\" + 0.003*\"cause\" + 0.003*\"person\" + 0.003*\"com\"\n",
      "2020-06-13 11:16:16,112 : INFO : topic #2 (0.125): 0.005*\"years\" + 0.004*\"life\" + 0.004*\"world\" + 0.004*\"money\" + 0.004*\"everybody\" + 0.004*\"game\" + 0.003*\"place\" + 0.003*\"person\" + 0.003*\"cause\" + 0.003*\"god\"\n",
      "2020-06-13 11:16:16,114 : INFO : topic #3 (0.125): 0.010*\"years\" + 0.004*\"life\" + 0.004*\"money\" + 0.004*\"everybody\" + 0.003*\"feet\" + 0.003*\"idea\" + 0.003*\"times\" + 0.002*\"brain\" + 0.002*\"space\" + 0.002*\"work\"\n",
      "2020-06-13 11:16:16,117 : INFO : topic diff=0.363131, rho=0.408248\n",
      "2020-06-13 11:16:17,851 : INFO : -8.764 per-word bound, 434.7 perplexity estimate based on a held-out corpus of 114 documents with 103514 words\n",
      "2020-06-13 11:16:17,854 : INFO : PROGRESS: pass 5, at document #114/114\n",
      "2020-06-13 11:16:18,217 : INFO : topic #3 (0.125): 0.011*\"years\" + 0.004*\"life\" + 0.004*\"feet\" + 0.004*\"money\" + 0.003*\"everybody\" + 0.003*\"idea\" + 0.003*\"times\" + 0.002*\"brain\" + 0.002*\"space\" + 0.002*\"work\"\n",
      "2020-06-13 11:16:18,220 : INFO : topic #2 (0.125): 0.005*\"years\" + 0.004*\"life\" + 0.004*\"money\" + 0.004*\"world\" + 0.004*\"everybody\" + 0.004*\"game\" + 0.003*\"place\" + 0.003*\"person\" + 0.003*\"cause\" + 0.003*\"god\"\n",
      "2020-06-13 11:16:18,223 : INFO : topic #4 (0.125): 0.008*\"years\" + 0.006*\"money\" + 0.004*\"life\" + 0.004*\"cause\" + 0.004*\"com\" + 0.003*\"everybody\" + 0.003*\"kids\" + 0.003*\"person\" + 0.003*\"job\" + 0.003*\"world\"\n",
      "2020-06-13 11:16:18,226 : INFO : topic #1 (0.125): 0.004*\"life\" + 0.004*\"years\" + 0.003*\"book\" + 0.003*\"sense\" + 0.003*\"person\" + 0.003*\"world\" + 0.003*\"work\" + 0.003*\"idea\" + 0.003*\"women\" + 0.003*\"money\"\n",
      "2020-06-13 11:16:18,228 : INFO : topic #6 (0.125): 0.005*\"life\" + 0.005*\"years\" + 0.005*\"money\" + 0.004*\"work\" + 0.004*\"everybody\" + 0.004*\"world\" + 0.004*\"percent\" + 0.003*\"cause\" + 0.003*\"person\" + 0.003*\"com\"\n",
      "2020-06-13 11:16:18,231 : INFO : topic diff=0.248246, rho=0.377964\n",
      "2020-06-13 11:16:20,026 : INFO : -8.749 per-word bound, 430.2 perplexity estimate based on a held-out corpus of 114 documents with 103514 words\n",
      "2020-06-13 11:16:20,029 : INFO : PROGRESS: pass 6, at document #114/114\n",
      "2020-06-13 11:16:20,384 : INFO : topic #4 (0.125): 0.008*\"years\" + 0.006*\"money\" + 0.004*\"life\" + 0.004*\"cause\" + 0.004*\"com\" + 0.003*\"everybody\" + 0.003*\"kids\" + 0.003*\"person\" + 0.003*\"job\" + 0.003*\"world\"\n",
      "2020-06-13 11:16:20,387 : INFO : topic #7 (0.125): 0.001*\"years\" + 0.001*\"life\" + 0.001*\"person\" + 0.001*\"work\" + 0.001*\"god\" + 0.001*\"money\" + 0.001*\"cause\" + 0.000*\"game\" + 0.000*\"mckee\" + 0.000*\"sirloin\"\n",
      "2020-06-13 11:16:20,390 : INFO : topic #0 (0.125): 0.005*\"years\" + 0.005*\"life\" + 0.004*\"world\" + 0.004*\"money\" + 0.004*\"work\" + 0.004*\"person\" + 0.004*\"game\" + 0.003*\"idea\" + 0.003*\"brain\" + 0.003*\"night\"\n",
      "2020-06-13 11:16:20,393 : INFO : topic #2 (0.125): 0.004*\"years\" + 0.004*\"life\" + 0.004*\"money\" + 0.004*\"everybody\" + 0.004*\"world\" + 0.004*\"game\" + 0.003*\"person\" + 0.003*\"place\" + 0.003*\"cause\" + 0.003*\"god\"\n",
      "2020-06-13 11:16:20,396 : INFO : topic #6 (0.125): 0.005*\"life\" + 0.005*\"years\" + 0.005*\"money\" + 0.004*\"work\" + 0.004*\"everybody\" + 0.004*\"world\" + 0.004*\"percent\" + 0.003*\"cause\" + 0.003*\"person\" + 0.003*\"com\"\n",
      "2020-06-13 11:16:20,401 : INFO : topic diff=0.171299, rho=0.353553\n",
      "2020-06-13 11:16:22,137 : INFO : -8.741 per-word bound, 427.8 perplexity estimate based on a held-out corpus of 114 documents with 103514 words\n",
      "2020-06-13 11:16:22,138 : INFO : PROGRESS: pass 7, at document #114/114\n",
      "2020-06-13 11:16:22,565 : INFO : topic #5 (0.125): 0.005*\"years\" + 0.004*\"life\" + 0.003*\"idea\" + 0.003*\"phone\" + 0.003*\"world\" + 0.003*\"money\" + 0.003*\"problem\" + 0.003*\"place\" + 0.003*\"work\" + 0.003*\"house\"\n",
      "2020-06-13 11:16:22,568 : INFO : topic #4 (0.125): 0.008*\"years\" + 0.006*\"money\" + 0.004*\"life\" + 0.004*\"cause\" + 0.004*\"com\" + 0.003*\"everybody\" + 0.003*\"kids\" + 0.003*\"person\" + 0.003*\"job\" + 0.003*\"world\"\n",
      "2020-06-13 11:16:22,572 : INFO : topic #1 (0.125): 0.004*\"life\" + 0.004*\"years\" + 0.003*\"sense\" + 0.003*\"book\" + 0.003*\"person\" + 0.003*\"world\" + 0.003*\"work\" + 0.003*\"idea\" + 0.003*\"women\" + 0.003*\"money\"\n",
      "2020-06-13 11:16:22,575 : INFO : topic #7 (0.125): 0.001*\"years\" + 0.001*\"life\" + 0.000*\"mckee\" + 0.000*\"sirloin\" + 0.000*\"bowe\" + 0.000*\"conditioners\" + 0.000*\"adversaries\" + 0.000*\"person\" + 0.000*\"work\" + 0.000*\"chose\"\n",
      "2020-06-13 11:16:22,577 : INFO : topic #3 (0.125): 0.011*\"years\" + 0.004*\"feet\" + 0.004*\"money\" + 0.004*\"life\" + 0.003*\"everybody\" + 0.003*\"idea\" + 0.003*\"times\" + 0.002*\"brain\" + 0.002*\"space\" + 0.002*\"book\"\n",
      "2020-06-13 11:16:22,581 : INFO : topic diff=0.119168, rho=0.333333\n",
      "2020-06-13 11:16:24,341 : INFO : -8.736 per-word bound, 426.4 perplexity estimate based on a held-out corpus of 114 documents with 103514 words\n",
      "2020-06-13 11:16:24,344 : INFO : PROGRESS: pass 8, at document #114/114\n",
      "2020-06-13 11:16:24,684 : INFO : topic #5 (0.125): 0.005*\"years\" + 0.004*\"life\" + 0.003*\"idea\" + 0.003*\"phone\" + 0.003*\"world\" + 0.003*\"problem\" + 0.003*\"money\" + 0.003*\"place\" + 0.003*\"work\" + 0.003*\"house\"\n",
      "2020-06-13 11:16:24,686 : INFO : topic #1 (0.125): 0.004*\"life\" + 0.004*\"years\" + 0.003*\"sense\" + 0.003*\"book\" + 0.003*\"person\" + 0.003*\"world\" + 0.003*\"work\" + 0.003*\"idea\" + 0.003*\"women\" + 0.003*\"money\"\n",
      "2020-06-13 11:16:24,689 : INFO : topic #3 (0.125): 0.011*\"years\" + 0.004*\"feet\" + 0.003*\"money\" + 0.003*\"life\" + 0.003*\"everybody\" + 0.003*\"idea\" + 0.003*\"times\" + 0.002*\"brain\" + 0.002*\"space\" + 0.002*\"book\"\n",
      "2020-06-13 11:16:24,692 : INFO : topic #2 (0.125): 0.004*\"years\" + 0.004*\"life\" + 0.004*\"money\" + 0.004*\"everybody\" + 0.004*\"world\" + 0.004*\"game\" + 0.003*\"person\" + 0.003*\"place\" + 0.003*\"god\" + 0.003*\"cause\"\n",
      "2020-06-13 11:16:24,694 : INFO : topic #6 (0.125): 0.005*\"life\" + 0.005*\"years\" + 0.005*\"money\" + 0.004*\"work\" + 0.004*\"everybody\" + 0.004*\"percent\" + 0.004*\"world\" + 0.003*\"cause\" + 0.003*\"person\" + 0.003*\"com\"\n",
      "2020-06-13 11:16:24,698 : INFO : topic diff=0.083764, rho=0.316228\n",
      "2020-06-13 11:16:26,469 : INFO : -8.734 per-word bound, 425.6 perplexity estimate based on a held-out corpus of 114 documents with 103514 words\n",
      "2020-06-13 11:16:26,470 : INFO : PROGRESS: pass 9, at document #114/114\n",
      "2020-06-13 11:16:26,822 : INFO : topic #2 (0.125): 0.004*\"years\" + 0.004*\"life\" + 0.004*\"money\" + 0.004*\"everybody\" + 0.004*\"world\" + 0.004*\"game\" + 0.003*\"person\" + 0.003*\"place\" + 0.003*\"god\" + 0.003*\"cause\"\n",
      "2020-06-13 11:16:26,825 : INFO : topic #5 (0.125): 0.005*\"years\" + 0.004*\"life\" + 0.003*\"idea\" + 0.003*\"phone\" + 0.003*\"world\" + 0.003*\"problem\" + 0.003*\"money\" + 0.003*\"place\" + 0.003*\"work\" + 0.003*\"house\"\n",
      "2020-06-13 11:16:26,828 : INFO : topic #6 (0.125): 0.005*\"life\" + 0.005*\"years\" + 0.005*\"money\" + 0.004*\"work\" + 0.004*\"everybody\" + 0.004*\"percent\" + 0.004*\"world\" + 0.003*\"cause\" + 0.003*\"person\" + 0.003*\"car\"\n",
      "2020-06-13 11:16:26,832 : INFO : topic #1 (0.125): 0.004*\"life\" + 0.004*\"years\" + 0.004*\"sense\" + 0.003*\"book\" + 0.003*\"person\" + 0.003*\"world\" + 0.003*\"work\" + 0.003*\"idea\" + 0.003*\"women\" + 0.003*\"money\"\n",
      "2020-06-13 11:16:26,835 : INFO : topic #3 (0.125): 0.011*\"years\" + 0.004*\"feet\" + 0.003*\"everybody\" + 0.003*\"life\" + 0.003*\"money\" + 0.003*\"idea\" + 0.003*\"times\" + 0.003*\"brain\" + 0.002*\"space\" + 0.002*\"book\"\n",
      "2020-06-13 11:16:26,838 : INFO : topic diff=0.059462, rho=0.301511\n",
      "2020-06-13 11:16:28,593 : INFO : -8.732 per-word bound, 425.2 perplexity estimate based on a held-out corpus of 114 documents with 103514 words\n",
      "2020-06-13 11:16:28,595 : INFO : PROGRESS: pass 10, at document #114/114\n",
      "2020-06-13 11:16:29,011 : INFO : topic #7 (0.125): 0.001*\"mckee\" + 0.001*\"sirloin\" + 0.001*\"bowe\" + 0.001*\"conditioners\" + 0.001*\"adversaries\" + 0.001*\"chose\" + 0.001*\"testimony\" + 0.000*\"exhibition\" + 0.000*\"airbus\" + 0.000*\"hibriten\"\n",
      "2020-06-13 11:16:29,014 : INFO : topic #0 (0.125): 0.005*\"years\" + 0.005*\"life\" + 0.004*\"world\" + 0.004*\"money\" + 0.004*\"work\" + 0.004*\"game\" + 0.004*\"person\" + 0.003*\"idea\" + 0.003*\"brain\" + 0.003*\"night\"\n",
      "2020-06-13 11:16:29,017 : INFO : topic #4 (0.125): 0.009*\"years\" + 0.006*\"money\" + 0.004*\"life\" + 0.004*\"cause\" + 0.004*\"com\" + 0.003*\"everybody\" + 0.003*\"kids\" + 0.003*\"person\" + 0.003*\"job\" + 0.003*\"world\"\n",
      "2020-06-13 11:16:29,021 : INFO : topic #2 (0.125): 0.004*\"years\" + 0.004*\"life\" + 0.004*\"money\" + 0.004*\"everybody\" + 0.004*\"world\" + 0.004*\"game\" + 0.003*\"person\" + 0.003*\"place\" + 0.003*\"god\" + 0.003*\"cause\"\n",
      "2020-06-13 11:16:29,023 : INFO : topic #1 (0.125): 0.004*\"life\" + 0.004*\"years\" + 0.004*\"sense\" + 0.003*\"book\" + 0.003*\"person\" + 0.003*\"world\" + 0.003*\"work\" + 0.003*\"idea\" + 0.003*\"women\" + 0.003*\"money\"\n",
      "2020-06-13 11:16:29,026 : INFO : topic diff=0.042678, rho=0.288675\n",
      "2020-06-13 11:16:30,780 : INFO : -8.731 per-word bound, 424.9 perplexity estimate based on a held-out corpus of 114 documents with 103514 words\n",
      "2020-06-13 11:16:30,783 : INFO : PROGRESS: pass 11, at document #114/114\n",
      "2020-06-13 11:16:31,134 : INFO : topic #6 (0.125): 0.005*\"life\" + 0.005*\"years\" + 0.005*\"money\" + 0.004*\"work\" + 0.004*\"everybody\" + 0.004*\"percent\" + 0.004*\"world\" + 0.003*\"cause\" + 0.003*\"person\" + 0.003*\"car\"\n",
      "2020-06-13 11:16:31,136 : INFO : topic #7 (0.125): 0.001*\"mckee\" + 0.001*\"sirloin\" + 0.001*\"bowe\" + 0.001*\"conditioners\" + 0.001*\"adversaries\" + 0.001*\"chose\" + 0.001*\"testimony\" + 0.000*\"exhibition\" + 0.000*\"airbus\" + 0.000*\"hibriten\"\n",
      "2020-06-13 11:16:31,139 : INFO : topic #0 (0.125): 0.005*\"years\" + 0.005*\"life\" + 0.004*\"world\" + 0.004*\"money\" + 0.004*\"work\" + 0.004*\"game\" + 0.004*\"person\" + 0.003*\"idea\" + 0.003*\"brain\" + 0.003*\"night\"\n",
      "2020-06-13 11:16:31,142 : INFO : topic #4 (0.125): 0.009*\"years\" + 0.006*\"money\" + 0.004*\"life\" + 0.004*\"cause\" + 0.004*\"com\" + 0.003*\"everybody\" + 0.003*\"kids\" + 0.003*\"person\" + 0.003*\"job\" + 0.003*\"world\"\n",
      "2020-06-13 11:16:31,144 : INFO : topic #5 (0.125): 0.005*\"years\" + 0.004*\"life\" + 0.003*\"idea\" + 0.003*\"phone\" + 0.003*\"world\" + 0.003*\"problem\" + 0.003*\"money\" + 0.003*\"place\" + 0.003*\"work\" + 0.003*\"house\"\n",
      "2020-06-13 11:16:31,147 : INFO : topic diff=0.031008, rho=0.277350\n",
      "2020-06-13 11:16:32,938 : INFO : -8.730 per-word bound, 424.7 perplexity estimate based on a held-out corpus of 114 documents with 103514 words\n",
      "2020-06-13 11:16:32,940 : INFO : PROGRESS: pass 12, at document #114/114\n",
      "2020-06-13 11:16:33,278 : INFO : topic #0 (0.125): 0.005*\"years\" + 0.005*\"life\" + 0.004*\"world\" + 0.004*\"money\" + 0.004*\"work\" + 0.004*\"game\" + 0.004*\"person\" + 0.003*\"idea\" + 0.003*\"brain\" + 0.003*\"night\"\n",
      "2020-06-13 11:16:33,281 : INFO : topic #5 (0.125): 0.005*\"years\" + 0.004*\"life\" + 0.003*\"idea\" + 0.003*\"phone\" + 0.003*\"world\" + 0.003*\"problem\" + 0.003*\"money\" + 0.003*\"place\" + 0.003*\"work\" + 0.003*\"god\"\n",
      "2020-06-13 11:16:33,284 : INFO : topic #1 (0.125): 0.004*\"life\" + 0.004*\"years\" + 0.004*\"sense\" + 0.003*\"book\" + 0.003*\"person\" + 0.003*\"world\" + 0.003*\"work\" + 0.003*\"idea\" + 0.003*\"women\" + 0.003*\"money\"\n",
      "2020-06-13 11:16:33,287 : INFO : topic #6 (0.125): 0.005*\"life\" + 0.005*\"years\" + 0.005*\"money\" + 0.004*\"work\" + 0.004*\"everybody\" + 0.004*\"percent\" + 0.004*\"world\" + 0.003*\"cause\" + 0.003*\"person\" + 0.003*\"car\"\n",
      "2020-06-13 11:16:33,290 : INFO : topic #7 (0.125): 0.001*\"mckee\" + 0.001*\"sirloin\" + 0.001*\"bowe\" + 0.001*\"conditioners\" + 0.001*\"adversaries\" + 0.001*\"chose\" + 0.001*\"testimony\" + 0.001*\"exhibition\" + 0.001*\"airbus\" + 0.000*\"hibriten\"\n",
      "2020-06-13 11:16:33,293 : INFO : topic diff=0.022810, rho=0.267261\n",
      "2020-06-13 11:16:35,055 : INFO : -8.730 per-word bound, 424.6 perplexity estimate based on a held-out corpus of 114 documents with 103514 words\n",
      "2020-06-13 11:16:35,056 : INFO : PROGRESS: pass 13, at document #114/114\n",
      "2020-06-13 11:16:35,547 : INFO : topic #2 (0.125): 0.004*\"years\" + 0.004*\"life\" + 0.004*\"money\" + 0.004*\"everybody\" + 0.004*\"world\" + 0.004*\"game\" + 0.003*\"person\" + 0.003*\"place\" + 0.003*\"god\" + 0.003*\"car\"\n",
      "2020-06-13 11:16:35,550 : INFO : topic #6 (0.125): 0.005*\"life\" + 0.005*\"years\" + 0.005*\"money\" + 0.004*\"work\" + 0.004*\"everybody\" + 0.004*\"percent\" + 0.004*\"world\" + 0.003*\"cause\" + 0.003*\"person\" + 0.003*\"car\"\n",
      "2020-06-13 11:16:35,553 : INFO : topic #0 (0.125): 0.005*\"years\" + 0.005*\"life\" + 0.004*\"world\" + 0.004*\"money\" + 0.004*\"work\" + 0.004*\"game\" + 0.004*\"person\" + 0.003*\"idea\" + 0.003*\"brain\" + 0.003*\"night\"\n",
      "2020-06-13 11:16:35,556 : INFO : topic #5 (0.125): 0.005*\"years\" + 0.004*\"life\" + 0.003*\"idea\" + 0.003*\"phone\" + 0.003*\"world\" + 0.003*\"problem\" + 0.003*\"money\" + 0.003*\"place\" + 0.003*\"work\" + 0.003*\"god\"\n",
      "2020-06-13 11:16:35,559 : INFO : topic #4 (0.125): 0.009*\"years\" + 0.006*\"money\" + 0.004*\"life\" + 0.004*\"cause\" + 0.004*\"com\" + 0.003*\"everybody\" + 0.003*\"kids\" + 0.003*\"person\" + 0.003*\"job\" + 0.003*\"world\"\n",
      "2020-06-13 11:16:35,563 : INFO : topic diff=0.016990, rho=0.258199\n",
      "2020-06-13 11:16:42,475 : INFO : -8.729 per-word bound, 424.5 perplexity estimate based on a held-out corpus of 114 documents with 103514 words\n",
      "2020-06-13 11:16:42,477 : INFO : PROGRESS: pass 14, at document #114/114\n",
      "2020-06-13 11:16:43,241 : INFO : topic #4 (0.125): 0.009*\"years\" + 0.006*\"money\" + 0.004*\"life\" + 0.004*\"cause\" + 0.004*\"com\" + 0.003*\"everybody\" + 0.003*\"kids\" + 0.003*\"person\" + 0.003*\"job\" + 0.003*\"world\"\n",
      "2020-06-13 11:16:43,244 : INFO : topic #0 (0.125): 0.005*\"years\" + 0.005*\"life\" + 0.004*\"world\" + 0.004*\"money\" + 0.004*\"work\" + 0.004*\"game\" + 0.004*\"person\" + 0.003*\"idea\" + 0.003*\"brain\" + 0.003*\"night\"\n",
      "2020-06-13 11:16:43,248 : INFO : topic #2 (0.125): 0.004*\"years\" + 0.004*\"money\" + 0.004*\"life\" + 0.004*\"everybody\" + 0.004*\"world\" + 0.004*\"game\" + 0.003*\"person\" + 0.003*\"place\" + 0.003*\"god\" + 0.003*\"car\"\n",
      "2020-06-13 11:16:43,253 : INFO : topic #7 (0.125): 0.001*\"mckee\" + 0.001*\"sirloin\" + 0.001*\"bowe\" + 0.001*\"conditioners\" + 0.001*\"adversaries\" + 0.001*\"chose\" + 0.001*\"testimony\" + 0.001*\"exhibition\" + 0.001*\"airbus\" + 0.001*\"hibriten\"\n",
      "2020-06-13 11:16:43,256 : INFO : topic #5 (0.125): 0.005*\"years\" + 0.004*\"life\" + 0.003*\"idea\" + 0.003*\"phone\" + 0.003*\"world\" + 0.003*\"problem\" + 0.003*\"money\" + 0.003*\"place\" + 0.003*\"work\" + 0.003*\"god\"\n",
      "2020-06-13 11:16:43,259 : INFO : topic diff=0.012828, rho=0.250000\n",
      "2020-06-13 11:16:46,015 : INFO : -8.729 per-word bound, 424.4 perplexity estimate based on a held-out corpus of 114 documents with 103514 words\n",
      "2020-06-13 11:16:46,017 : INFO : PROGRESS: pass 15, at document #114/114\n",
      "2020-06-13 11:16:46,340 : INFO : topic #1 (0.125): 0.004*\"life\" + 0.004*\"years\" + 0.004*\"sense\" + 0.003*\"book\" + 0.003*\"person\" + 0.003*\"world\" + 0.003*\"work\" + 0.003*\"idea\" + 0.003*\"women\" + 0.003*\"money\"\n",
      "2020-06-13 11:16:46,342 : INFO : topic #0 (0.125): 0.005*\"years\" + 0.005*\"life\" + 0.004*\"world\" + 0.004*\"money\" + 0.004*\"work\" + 0.004*\"game\" + 0.004*\"person\" + 0.003*\"idea\" + 0.003*\"brain\" + 0.003*\"night\"\n",
      "2020-06-13 11:16:46,344 : INFO : topic #5 (0.125): 0.005*\"years\" + 0.004*\"life\" + 0.003*\"idea\" + 0.003*\"phone\" + 0.003*\"world\" + 0.003*\"problem\" + 0.003*\"money\" + 0.003*\"place\" + 0.003*\"work\" + 0.003*\"god\"\n",
      "2020-06-13 11:16:46,347 : INFO : topic #6 (0.125): 0.005*\"life\" + 0.005*\"years\" + 0.005*\"money\" + 0.004*\"work\" + 0.004*\"everybody\" + 0.004*\"percent\" + 0.004*\"world\" + 0.003*\"cause\" + 0.003*\"person\" + 0.003*\"car\"\n",
      "2020-06-13 11:16:46,348 : INFO : topic #7 (0.125): 0.001*\"mckee\" + 0.001*\"sirloin\" + 0.001*\"bowe\" + 0.001*\"conditioners\" + 0.001*\"adversaries\" + 0.001*\"chose\" + 0.001*\"testimony\" + 0.001*\"exhibition\" + 0.001*\"airbus\" + 0.001*\"hibriten\"\n",
      "2020-06-13 11:16:46,350 : INFO : topic diff=0.009833, rho=0.242536\n",
      "2020-06-13 11:16:48,695 : INFO : -8.729 per-word bound, 424.3 perplexity estimate based on a held-out corpus of 114 documents with 103514 words\n",
      "2020-06-13 11:16:48,696 : INFO : PROGRESS: pass 16, at document #114/114\n",
      "2020-06-13 11:16:49,058 : INFO : topic #3 (0.125): 0.011*\"years\" + 0.004*\"feet\" + 0.003*\"everybody\" + 0.003*\"life\" + 0.003*\"money\" + 0.003*\"idea\" + 0.003*\"times\" + 0.003*\"brain\" + 0.003*\"space\" + 0.002*\"book\"\n",
      "2020-06-13 11:16:49,061 : INFO : topic #2 (0.125): 0.004*\"years\" + 0.004*\"money\" + 0.004*\"life\" + 0.004*\"everybody\" + 0.004*\"world\" + 0.004*\"game\" + 0.003*\"person\" + 0.003*\"place\" + 0.003*\"god\" + 0.003*\"car\"\n",
      "2020-06-13 11:16:49,064 : INFO : topic #0 (0.125): 0.005*\"years\" + 0.005*\"life\" + 0.004*\"world\" + 0.004*\"money\" + 0.004*\"work\" + 0.004*\"game\" + 0.004*\"person\" + 0.003*\"idea\" + 0.003*\"brain\" + 0.003*\"night\"\n",
      "2020-06-13 11:16:49,067 : INFO : topic #7 (0.125): 0.001*\"mckee\" + 0.001*\"sirloin\" + 0.001*\"bowe\" + 0.001*\"conditioners\" + 0.001*\"adversaries\" + 0.001*\"chose\" + 0.001*\"testimony\" + 0.001*\"exhibition\" + 0.001*\"airbus\" + 0.001*\"hibriten\"\n",
      "2020-06-13 11:16:49,071 : INFO : topic #1 (0.125): 0.004*\"life\" + 0.004*\"years\" + 0.004*\"sense\" + 0.003*\"book\" + 0.003*\"person\" + 0.003*\"world\" + 0.003*\"work\" + 0.003*\"idea\" + 0.003*\"women\" + 0.003*\"money\"\n",
      "2020-06-13 11:16:49,074 : INFO : topic diff=0.007655, rho=0.235702\n",
      "2020-06-13 11:16:51,273 : INFO : -8.729 per-word bound, 424.3 perplexity estimate based on a held-out corpus of 114 documents with 103514 words\n",
      "2020-06-13 11:16:51,276 : INFO : PROGRESS: pass 17, at document #114/114\n",
      "2020-06-13 11:16:51,794 : INFO : topic #2 (0.125): 0.004*\"years\" + 0.004*\"money\" + 0.004*\"life\" + 0.004*\"everybody\" + 0.004*\"world\" + 0.004*\"game\" + 0.003*\"person\" + 0.003*\"place\" + 0.003*\"god\" + 0.003*\"car\"\n",
      "2020-06-13 11:16:51,798 : INFO : topic #1 (0.125): 0.004*\"life\" + 0.004*\"years\" + 0.004*\"sense\" + 0.003*\"book\" + 0.003*\"person\" + 0.003*\"world\" + 0.003*\"work\" + 0.003*\"idea\" + 0.003*\"women\" + 0.003*\"money\"\n",
      "2020-06-13 11:16:51,801 : INFO : topic #6 (0.125): 0.005*\"life\" + 0.005*\"years\" + 0.005*\"money\" + 0.004*\"work\" + 0.004*\"everybody\" + 0.004*\"percent\" + 0.004*\"world\" + 0.003*\"cause\" + 0.003*\"person\" + 0.003*\"car\"\n",
      "2020-06-13 11:16:51,804 : INFO : topic #3 (0.125): 0.011*\"years\" + 0.004*\"feet\" + 0.003*\"everybody\" + 0.003*\"life\" + 0.003*\"idea\" + 0.003*\"money\" + 0.003*\"times\" + 0.003*\"brain\" + 0.003*\"space\" + 0.002*\"book\"\n",
      "2020-06-13 11:16:51,807 : INFO : topic #7 (0.125): 0.001*\"mckee\" + 0.001*\"sirloin\" + 0.001*\"bowe\" + 0.001*\"conditioners\" + 0.001*\"adversaries\" + 0.001*\"chose\" + 0.001*\"testimony\" + 0.001*\"exhibition\" + 0.001*\"airbus\" + 0.001*\"hibriten\"\n",
      "2020-06-13 11:16:51,810 : INFO : topic diff=0.006052, rho=0.229416\n",
      "2020-06-13 11:16:55,424 : INFO : -8.729 per-word bound, 424.2 perplexity estimate based on a held-out corpus of 114 documents with 103514 words\n",
      "2020-06-13 11:16:55,427 : INFO : PROGRESS: pass 18, at document #114/114\n",
      "2020-06-13 11:16:55,957 : INFO : topic #5 (0.125): 0.005*\"years\" + 0.004*\"life\" + 0.003*\"idea\" + 0.003*\"phone\" + 0.003*\"world\" + 0.003*\"problem\" + 0.003*\"money\" + 0.003*\"place\" + 0.003*\"work\" + 0.003*\"god\"\n",
      "2020-06-13 11:16:55,960 : INFO : topic #6 (0.125): 0.005*\"life\" + 0.005*\"years\" + 0.005*\"money\" + 0.004*\"work\" + 0.004*\"everybody\" + 0.004*\"percent\" + 0.004*\"world\" + 0.003*\"cause\" + 0.003*\"person\" + 0.003*\"car\"\n",
      "2020-06-13 11:16:55,965 : INFO : topic #3 (0.125): 0.011*\"years\" + 0.004*\"feet\" + 0.003*\"everybody\" + 0.003*\"life\" + 0.003*\"idea\" + 0.003*\"money\" + 0.003*\"times\" + 0.003*\"brain\" + 0.003*\"space\" + 0.002*\"book\"\n",
      "2020-06-13 11:16:55,967 : INFO : topic #2 (0.125): 0.004*\"years\" + 0.004*\"money\" + 0.004*\"life\" + 0.004*\"everybody\" + 0.004*\"world\" + 0.004*\"game\" + 0.004*\"person\" + 0.003*\"place\" + 0.003*\"god\" + 0.003*\"car\"\n",
      "2020-06-13 11:16:55,969 : INFO : topic #1 (0.125): 0.004*\"life\" + 0.004*\"years\" + 0.004*\"sense\" + 0.003*\"book\" + 0.003*\"person\" + 0.003*\"world\" + 0.003*\"work\" + 0.003*\"idea\" + 0.003*\"women\" + 0.003*\"money\"\n",
      "2020-06-13 11:16:55,972 : INFO : topic diff=0.004859, rho=0.223607\n",
      "2020-06-13 11:16:58,858 : INFO : -8.729 per-word bound, 424.2 perplexity estimate based on a held-out corpus of 114 documents with 103514 words\n",
      "2020-06-13 11:16:58,860 : INFO : PROGRESS: pass 19, at document #114/114\n",
      "2020-06-13 11:16:59,913 : INFO : topic #7 (0.125): 0.001*\"mckee\" + 0.001*\"sirloin\" + 0.001*\"bowe\" + 0.001*\"conditioners\" + 0.001*\"adversaries\" + 0.001*\"chose\" + 0.001*\"testimony\" + 0.001*\"exhibition\" + 0.001*\"airbus\" + 0.001*\"hibriten\"\n",
      "2020-06-13 11:16:59,918 : INFO : topic #6 (0.125): 0.005*\"life\" + 0.005*\"years\" + 0.005*\"money\" + 0.004*\"work\" + 0.004*\"everybody\" + 0.004*\"percent\" + 0.004*\"world\" + 0.003*\"cause\" + 0.003*\"person\" + 0.003*\"car\"\n",
      "2020-06-13 11:16:59,921 : INFO : topic #2 (0.125): 0.004*\"years\" + 0.004*\"money\" + 0.004*\"life\" + 0.004*\"everybody\" + 0.004*\"world\" + 0.004*\"game\" + 0.004*\"person\" + 0.003*\"place\" + 0.003*\"god\" + 0.003*\"car\"\n",
      "2020-06-13 11:16:59,923 : INFO : topic #4 (0.125): 0.009*\"years\" + 0.006*\"money\" + 0.004*\"life\" + 0.004*\"cause\" + 0.004*\"com\" + 0.003*\"everybody\" + 0.003*\"kids\" + 0.003*\"person\" + 0.003*\"job\" + 0.003*\"world\"\n",
      "2020-06-13 11:16:59,926 : INFO : topic #3 (0.125): 0.011*\"years\" + 0.004*\"feet\" + 0.003*\"everybody\" + 0.003*\"life\" + 0.003*\"idea\" + 0.003*\"money\" + 0.003*\"brain\" + 0.003*\"times\" + 0.003*\"space\" + 0.002*\"book\"\n",
      "2020-06-13 11:16:59,929 : INFO : topic diff=0.003962, rho=0.218218\n",
      "2020-06-13 11:16:59,980 : INFO : topic #0 (0.125): 0.005*\"years\" + 0.005*\"life\" + 0.004*\"world\" + 0.004*\"money\" + 0.004*\"work\" + 0.004*\"game\" + 0.004*\"person\" + 0.003*\"idea\" + 0.003*\"brain\" + 0.003*\"night\"\n",
      "2020-06-13 11:16:59,983 : INFO : topic #1 (0.125): 0.004*\"life\" + 0.004*\"years\" + 0.004*\"sense\" + 0.003*\"book\" + 0.003*\"person\" + 0.003*\"world\" + 0.003*\"work\" + 0.003*\"idea\" + 0.003*\"women\" + 0.003*\"money\"\n",
      "2020-06-13 11:16:59,986 : INFO : topic #2 (0.125): 0.004*\"years\" + 0.004*\"money\" + 0.004*\"life\" + 0.004*\"everybody\" + 0.004*\"world\" + 0.004*\"game\" + 0.004*\"person\" + 0.003*\"place\" + 0.003*\"god\" + 0.003*\"car\"\n",
      "2020-06-13 11:16:59,991 : INFO : topic #3 (0.125): 0.011*\"years\" + 0.004*\"feet\" + 0.003*\"everybody\" + 0.003*\"life\" + 0.003*\"idea\" + 0.003*\"money\" + 0.003*\"brain\" + 0.003*\"times\" + 0.003*\"space\" + 0.002*\"book\"\n",
      "2020-06-13 11:17:00,008 : INFO : topic #4 (0.125): 0.009*\"years\" + 0.006*\"money\" + 0.004*\"life\" + 0.004*\"cause\" + 0.004*\"com\" + 0.003*\"everybody\" + 0.003*\"kids\" + 0.003*\"person\" + 0.003*\"job\" + 0.003*\"world\"\n",
      "2020-06-13 11:17:00,012 : INFO : topic #5 (0.125): 0.005*\"years\" + 0.004*\"life\" + 0.003*\"idea\" + 0.003*\"phone\" + 0.003*\"world\" + 0.003*\"problem\" + 0.003*\"money\" + 0.003*\"place\" + 0.003*\"work\" + 0.003*\"god\"\n",
      "2020-06-13 11:17:00,014 : INFO : topic #6 (0.125): 0.005*\"life\" + 0.005*\"years\" + 0.005*\"money\" + 0.004*\"work\" + 0.004*\"everybody\" + 0.004*\"percent\" + 0.004*\"world\" + 0.003*\"cause\" + 0.003*\"person\" + 0.003*\"car\"\n",
      "2020-06-13 11:17:00,017 : INFO : topic #7 (0.125): 0.001*\"mckee\" + 0.001*\"sirloin\" + 0.001*\"bowe\" + 0.001*\"conditioners\" + 0.001*\"adversaries\" + 0.001*\"chose\" + 0.001*\"testimony\" + 0.001*\"exhibition\" + 0.001*\"airbus\" + 0.001*\"hibriten\"\n"
     ]
    },
    {
     "data": {
      "text/plain": [
       "[(0,\n",
       "  '0.005*\"years\" + 0.005*\"life\" + 0.004*\"world\" + 0.004*\"money\" + 0.004*\"work\" + 0.004*\"game\" + 0.004*\"person\" + 0.003*\"idea\" + 0.003*\"brain\" + 0.003*\"night\"'),\n",
       " (1,\n",
       "  '0.004*\"life\" + 0.004*\"years\" + 0.004*\"sense\" + 0.003*\"book\" + 0.003*\"person\" + 0.003*\"world\" + 0.003*\"work\" + 0.003*\"idea\" + 0.003*\"women\" + 0.003*\"money\"'),\n",
       " (2,\n",
       "  '0.004*\"years\" + 0.004*\"money\" + 0.004*\"life\" + 0.004*\"everybody\" + 0.004*\"world\" + 0.004*\"game\" + 0.004*\"person\" + 0.003*\"place\" + 0.003*\"god\" + 0.003*\"car\"'),\n",
       " (3,\n",
       "  '0.011*\"years\" + 0.004*\"feet\" + 0.003*\"everybody\" + 0.003*\"life\" + 0.003*\"idea\" + 0.003*\"money\" + 0.003*\"brain\" + 0.003*\"times\" + 0.003*\"space\" + 0.002*\"book\"'),\n",
       " (4,\n",
       "  '0.009*\"years\" + 0.006*\"money\" + 0.004*\"life\" + 0.004*\"cause\" + 0.004*\"com\" + 0.003*\"everybody\" + 0.003*\"kids\" + 0.003*\"person\" + 0.003*\"job\" + 0.003*\"world\"'),\n",
       " (5,\n",
       "  '0.005*\"years\" + 0.004*\"life\" + 0.003*\"idea\" + 0.003*\"phone\" + 0.003*\"world\" + 0.003*\"problem\" + 0.003*\"money\" + 0.003*\"place\" + 0.003*\"work\" + 0.003*\"god\"'),\n",
       " (6,\n",
       "  '0.005*\"life\" + 0.005*\"years\" + 0.005*\"money\" + 0.004*\"work\" + 0.004*\"everybody\" + 0.004*\"percent\" + 0.004*\"world\" + 0.003*\"cause\" + 0.003*\"person\" + 0.003*\"car\"'),\n",
       " (7,\n",
       "  '0.001*\"mckee\" + 0.001*\"sirloin\" + 0.001*\"bowe\" + 0.001*\"conditioners\" + 0.001*\"adversaries\" + 0.001*\"chose\" + 0.001*\"testimony\" + 0.001*\"exhibition\" + 0.001*\"airbus\" + 0.001*\"hibriten\"')]"
      ]
     },
     "execution_count": 49,
     "metadata": {},
     "output_type": "execute_result"
    }
   ],
   "source": [
    "ldan = models.LdaModel(corpus=corpusn, num_topics=8, id2word=id2wordn, passes=20)\n",
    "ldan.print_topics()"
   ]
  },
  {
   "cell_type": "code",
   "execution_count": null,
   "metadata": {},
   "outputs": [],
   "source": []
  },
  {
   "cell_type": "markdown",
   "metadata": {},
   "source": [
    "### V. Topic Modelling using name and adjectives"
   ]
  },
  {
   "cell_type": "code",
   "execution_count": 50,
   "metadata": {},
   "outputs": [],
   "source": [
    "def nouns_adj(text):\n",
    "    '''Given a string of text, tokenize the text and pull out only the nouns and adjectives.'''\n",
    "    is_noun_adj = lambda pos: pos[:2] == 'NN' or pos[:2] == 'JJ'\n",
    "    tokenized = word_tokenize(text)\n",
    "    nouns_adj = [word for (word, pos) in pos_tag(tokenized) if is_noun_adj(pos)] \n",
    "    return ' '.join(nouns_adj)"
   ]
  },
  {
   "cell_type": "code",
   "execution_count": 51,
   "metadata": {},
   "outputs": [],
   "source": [
    "data_nouns_adj = pd.DataFrame(df.text.apply(nouns_adj))"
   ]
  },
  {
   "cell_type": "code",
   "execution_count": 52,
   "metadata": {},
   "outputs": [],
   "source": [
    "cvna = CountVectorizer(stop_words=stop_words, max_df=.8)\n",
    "data_cvna = cvna.fit_transform(data_nouns_adj.text)\n",
    "data_dtmna = pd.DataFrame(data_cvna.toarray(), columns=cvna.get_feature_names())\n",
    "data_dtmna.index = data_nouns_adj.index"
   ]
  },
  {
   "cell_type": "code",
   "execution_count": 53,
   "metadata": {},
   "outputs": [],
   "source": [
    "corpusna = matutils.Sparse2Corpus(scipy.sparse.csr_matrix(data_dtmna.transpose()))\n",
    "\n",
    "# Create the vocabulary dictionary\n",
    "id2wordna = dict((v, k) for k, v in cvna.vocabulary_.items())"
   ]
  },
  {
   "cell_type": "code",
   "execution_count": 54,
   "metadata": {},
   "outputs": [
    {
     "name": "stderr",
     "output_type": "stream",
     "text": [
      "2020-06-13 11:18:51,293 : INFO : using symmetric alpha at 0.125\n",
      "2020-06-13 11:18:51,296 : INFO : using symmetric eta at 0.125\n",
      "2020-06-13 11:18:51,316 : INFO : using serial LDA version on this node\n",
      "2020-06-13 11:18:51,386 : INFO : running online (multi-pass) LDA training, 8 topics, 20 passes over the supplied corpus of 114 documents, updating model once every 114 documents, evaluating perplexity every 114 documents, iterating 50x with a convergence threshold of 0.001000\n",
      "2020-06-13 11:18:55,343 : INFO : -11.508 per-word bound, 2911.7 perplexity estimate based on a held-out corpus of 114 documents with 123903 words\n",
      "2020-06-13 11:18:55,346 : INFO : PROGRESS: pass 0, at document #114/114\n",
      "2020-06-13 11:18:55,937 : INFO : topic #7 (0.125): 0.002*\"somebody\" + 0.002*\"car\" + 0.002*\"head\" + 0.002*\"game\" + 0.002*\"job\" + 0.002*\"thirty\" + 0.002*\"kids\" + 0.002*\"brain\" + 0.002*\"ill\" + 0.002*\"end\"\n",
      "2020-06-13 11:18:55,940 : INFO : topic #1 (0.125): 0.002*\"brain\" + 0.002*\"problem\" + 0.002*\"ass\" + 0.002*\"night\" + 0.002*\"nice\" + 0.002*\"kids\" + 0.002*\"job\" + 0.002*\"somebody\" + 0.002*\"thirty\" + 0.002*\"sense\"\n",
      "2020-06-13 11:18:55,942 : INFO : topic #2 (0.125): 0.002*\"somebody\" + 0.002*\"game\" + 0.002*\"wrong\" + 0.002*\"certain\" + 0.002*\"friends\" + 0.002*\"car\" + 0.002*\"night\" + 0.002*\"doesnt\" + 0.002*\"problem\" + 0.002*\"water\"\n",
      "2020-06-13 11:18:55,945 : INFO : topic #6 (0.125): 0.002*\"head\" + 0.002*\"somebody\" + 0.002*\"dollars\" + 0.002*\"thirty\" + 0.002*\"game\" + 0.002*\"problem\" + 0.002*\"ass\" + 0.002*\"true\" + 0.002*\"job\" + 0.002*\"kids\"\n",
      "2020-06-13 11:18:55,947 : INFO : topic #4 (0.125): 0.002*\"game\" + 0.002*\"car\" + 0.002*\"ass\" + 0.002*\"head\" + 0.002*\"kids\" + 0.002*\"podcast\" + 0.002*\"somebody\" + 0.002*\"dollars\" + 0.002*\"women\" + 0.002*\"free\"\n",
      "2020-06-13 11:18:55,952 : INFO : topic diff=2.566405, rho=1.000000\n",
      "2020-06-13 11:18:59,030 : INFO : -9.701 per-word bound, 832.5 perplexity estimate based on a held-out corpus of 114 documents with 123903 words\n",
      "2020-06-13 11:18:59,033 : INFO : PROGRESS: pass 1, at document #114/114\n",
      "2020-06-13 11:18:59,612 : INFO : topic #0 (0.125): 0.003*\"house\" + 0.002*\"kids\" + 0.002*\"thirty\" + 0.002*\"night\" + 0.002*\"ass\" + 0.002*\"couple\" + 0.002*\"dollars\" + 0.002*\"friends\" + 0.002*\"job\" + 0.002*\"rogan\"\n",
      "2020-06-13 11:18:59,614 : INFO : topic #5 (0.125): 0.003*\"car\" + 0.003*\"night\" + 0.003*\"house\" + 0.002*\"dollars\" + 0.002*\"dude\" + 0.002*\"kids\" + 0.002*\"funny\" + 0.002*\"super\" + 0.002*\"problem\" + 0.002*\"head\"\n",
      "2020-06-13 11:18:59,617 : INFO : topic #1 (0.125): 0.003*\"brain\" + 0.003*\"problem\" + 0.002*\"kids\" + 0.002*\"nice\" + 0.002*\"important\" + 0.002*\"ass\" + 0.002*\"interesting\" + 0.002*\"podcast\" + 0.002*\"night\" + 0.002*\"human\"\n",
      "2020-06-13 11:18:59,620 : INFO : topic #3 (0.125): 0.002*\"head\" + 0.002*\"game\" + 0.002*\"ass\" + 0.002*\"car\" + 0.002*\"job\" + 0.002*\"night\" + 0.002*\"thirty\" + 0.002*\"somebody\" + 0.001*\"sense\" + 0.001*\"white\"\n",
      "2020-06-13 11:18:59,624 : INFO : topic #4 (0.125): 0.002*\"women\" + 0.002*\"head\" + 0.002*\"ass\" + 0.002*\"funny\" + 0.002*\"fights\" + 0.002*\"game\" + 0.002*\"nice\" + 0.002*\"car\" + 0.002*\"somebody\" + 0.002*\"brain\"\n",
      "2020-06-13 11:18:59,628 : INFO : topic diff=1.108393, rho=0.577350\n",
      "2020-06-13 11:19:02,518 : INFO : -9.309 per-word bound, 634.2 perplexity estimate based on a held-out corpus of 114 documents with 123903 words\n",
      "2020-06-13 11:19:02,520 : INFO : PROGRESS: pass 2, at document #114/114\n",
      "2020-06-13 11:19:02,994 : INFO : topic #6 (0.125): 0.002*\"human\" + 0.002*\"video\" + 0.002*\"somebody\" + 0.002*\"kids\" + 0.002*\"country\" + 0.002*\"thirty\" + 0.002*\"couple\" + 0.002*\"sense\" + 0.002*\"job\" + 0.002*\"story\"\n",
      "2020-06-13 11:19:02,997 : INFO : topic #7 (0.125): 0.003*\"game\" + 0.003*\"brain\" + 0.003*\"somebody\" + 0.002*\"head\" + 0.002*\"ass\" + 0.002*\"level\" + 0.002*\"car\" + 0.002*\"thirty\" + 0.002*\"super\" + 0.002*\"dude\"\n",
      "2020-06-13 11:19:03,000 : INFO : topic #5 (0.125): 0.004*\"car\" + 0.003*\"night\" + 0.003*\"house\" + 0.003*\"dollars\" + 0.002*\"dude\" + 0.002*\"funny\" + 0.002*\"super\" + 0.002*\"bunch\" + 0.002*\"problem\" + 0.002*\"kids\"\n",
      "2020-06-13 11:19:03,004 : INFO : topic #0 (0.125): 0.003*\"house\" + 0.002*\"kids\" + 0.002*\"job\" + 0.002*\"thirty\" + 0.002*\"night\" + 0.002*\"dollars\" + 0.002*\"ass\" + 0.002*\"couple\" + 0.002*\"friends\" + 0.002*\"somebody\"\n",
      "2020-06-13 11:19:03,007 : INFO : topic #3 (0.125): 0.002*\"head\" + 0.002*\"tough\" + 0.002*\"ass\" + 0.002*\"round\" + 0.002*\"somebody\" + 0.002*\"phone\" + 0.002*\"boy\" + 0.002*\"hand\" + 0.002*\"sport\" + 0.002*\"job\"\n",
      "2020-06-13 11:19:03,012 : INFO : topic diff=0.798889, rho=0.500000\n",
      "2020-06-13 11:19:05,491 : INFO : -9.154 per-word bound, 569.8 perplexity estimate based on a held-out corpus of 114 documents with 123903 words\n",
      "2020-06-13 11:19:05,493 : INFO : PROGRESS: pass 3, at document #114/114\n",
      "2020-06-13 11:19:06,049 : INFO : topic #1 (0.125): 0.003*\"brain\" + 0.003*\"problem\" + 0.002*\"kids\" + 0.002*\"studies\" + 0.002*\"human\" + 0.002*\"important\" + 0.002*\"food\" + 0.002*\"free\" + 0.002*\"women\" + 0.002*\"podcast\"\n",
      "2020-06-13 11:19:06,053 : INFO : topic #6 (0.125): 0.002*\"human\" + 0.002*\"country\" + 0.002*\"video\" + 0.002*\"couple\" + 0.002*\"kids\" + 0.002*\"thirty\" + 0.002*\"somebody\" + 0.002*\"sense\" + 0.002*\"story\" + 0.002*\"job\"\n",
      "2020-06-13 11:19:06,056 : INFO : topic #7 (0.125): 0.003*\"game\" + 0.003*\"brain\" + 0.003*\"somebody\" + 0.002*\"head\" + 0.002*\"ass\" + 0.002*\"level\" + 0.002*\"thirty\" + 0.002*\"dude\" + 0.002*\"car\" + 0.002*\"super\"\n",
      "2020-06-13 11:19:06,058 : INFO : topic #5 (0.125): 0.004*\"car\" + 0.003*\"night\" + 0.003*\"house\" + 0.003*\"dollars\" + 0.002*\"dude\" + 0.002*\"funny\" + 0.002*\"bunch\" + 0.002*\"super\" + 0.002*\"water\" + 0.002*\"problem\"\n",
      "2020-06-13 11:19:06,061 : INFO : topic #0 (0.125): 0.003*\"house\" + 0.002*\"job\" + 0.002*\"kids\" + 0.002*\"thirty\" + 0.002*\"night\" + 0.002*\"dollars\" + 0.002*\"friends\" + 0.002*\"couple\" + 0.002*\"ass\" + 0.002*\"car\"\n",
      "2020-06-13 11:19:06,064 : INFO : topic diff=0.544698, rho=0.447214\n",
      "2020-06-13 11:19:08,438 : INFO : -9.089 per-word bound, 544.5 perplexity estimate based on a held-out corpus of 114 documents with 123903 words\n",
      "2020-06-13 11:19:08,441 : INFO : PROGRESS: pass 4, at document #114/114\n",
      "2020-06-13 11:19:09,464 : INFO : topic #3 (0.125): 0.003*\"head\" + 0.002*\"tough\" + 0.002*\"round\" + 0.002*\"phone\" + 0.002*\"sport\" + 0.002*\"ass\" + 0.002*\"boy\" + 0.002*\"somebody\" + 0.002*\"power\" + 0.002*\"hand\"\n",
      "2020-06-13 11:19:09,466 : INFO : topic #4 (0.125): 0.002*\"women\" + 0.002*\"fights\" + 0.002*\"funny\" + 0.002*\"head\" + 0.002*\"ass\" + 0.002*\"rogan\" + 0.002*\"week\" + 0.002*\"somebody\" + 0.002*\"brain\" + 0.002*\"night\"\n",
      "2020-06-13 11:19:09,468 : INFO : topic #2 (0.125): 0.006*\"game\" + 0.004*\"games\" + 0.003*\"video\" + 0.002*\"tv\" + 0.002*\"strike\" + 0.002*\"comedy\" + 0.002*\"phone\" + 0.002*\"box\" + 0.002*\"somebody\" + 0.002*\"team\"\n",
      "2020-06-13 11:19:09,470 : INFO : topic #0 (0.125): 0.003*\"house\" + 0.003*\"job\" + 0.002*\"kids\" + 0.002*\"thirty\" + 0.002*\"night\" + 0.002*\"dollars\" + 0.002*\"friends\" + 0.002*\"head\" + 0.002*\"couple\" + 0.002*\"car\"\n",
      "2020-06-13 11:19:09,476 : INFO : topic #1 (0.125): 0.003*\"brain\" + 0.002*\"problem\" + 0.002*\"kids\" + 0.002*\"studies\" + 0.002*\"human\" + 0.002*\"food\" + 0.002*\"women\" + 0.002*\"important\" + 0.002*\"free\" + 0.002*\"podcast\"\n",
      "2020-06-13 11:19:09,481 : INFO : topic diff=0.373676, rho=0.408248\n",
      "2020-06-13 11:19:12,205 : INFO : -9.057 per-word bound, 532.6 perplexity estimate based on a held-out corpus of 114 documents with 123903 words\n",
      "2020-06-13 11:19:12,214 : INFO : PROGRESS: pass 5, at document #114/114\n",
      "2020-06-13 11:19:12,662 : INFO : topic #2 (0.125): 0.006*\"game\" + 0.004*\"games\" + 0.003*\"video\" + 0.002*\"tv\" + 0.002*\"strike\" + 0.002*\"comedy\" + 0.002*\"phone\" + 0.002*\"box\" + 0.002*\"team\" + 0.002*\"mind\"\n",
      "2020-06-13 11:19:12,666 : INFO : topic #4 (0.125): 0.002*\"women\" + 0.002*\"fights\" + 0.002*\"funny\" + 0.002*\"week\" + 0.002*\"head\" + 0.002*\"rogan\" + 0.002*\"ass\" + 0.002*\"somebody\" + 0.002*\"brain\" + 0.002*\"night\"\n",
      "2020-06-13 11:19:12,669 : INFO : topic #7 (0.125): 0.003*\"brain\" + 0.003*\"game\" + 0.003*\"somebody\" + 0.003*\"head\" + 0.002*\"ass\" + 0.002*\"level\" + 0.002*\"dude\" + 0.002*\"thirty\" + 0.002*\"super\" + 0.002*\"car\"\n",
      "2020-06-13 11:19:12,672 : INFO : topic #0 (0.125): 0.003*\"job\" + 0.003*\"house\" + 0.002*\"kids\" + 0.002*\"thirty\" + 0.002*\"night\" + 0.002*\"dollars\" + 0.002*\"head\" + 0.002*\"car\" + 0.002*\"friends\" + 0.002*\"couple\"\n",
      "2020-06-13 11:19:12,676 : INFO : topic #6 (0.125): 0.003*\"country\" + 0.003*\"human\" + 0.002*\"couple\" + 0.002*\"video\" + 0.002*\"kids\" + 0.002*\"thirty\" + 0.002*\"somebody\" + 0.002*\"sense\" + 0.002*\"story\" + 0.002*\"music\"\n",
      "2020-06-13 11:19:12,679 : INFO : topic diff=0.258042, rho=0.377964\n",
      "2020-06-13 11:19:14,777 : INFO : -9.041 per-word bound, 526.7 perplexity estimate based on a held-out corpus of 114 documents with 123903 words\n",
      "2020-06-13 11:19:14,779 : INFO : PROGRESS: pass 6, at document #114/114\n",
      "2020-06-13 11:19:15,066 : INFO : topic #3 (0.125): 0.003*\"head\" + 0.003*\"tough\" + 0.002*\"round\" + 0.002*\"phone\" + 0.002*\"sport\" + 0.002*\"boy\" + 0.002*\"ass\" + 0.002*\"somebody\" + 0.002*\"power\" + 0.002*\"fighters\"\n",
      "2020-06-13 11:19:15,068 : INFO : topic #0 (0.125): 0.003*\"job\" + 0.003*\"house\" + 0.002*\"kids\" + 0.002*\"thirty\" + 0.002*\"night\" + 0.002*\"dollars\" + 0.002*\"head\" + 0.002*\"car\" + 0.002*\"friends\" + 0.002*\"couple\"\n",
      "2020-06-13 11:19:15,070 : INFO : topic #4 (0.125): 0.002*\"women\" + 0.002*\"fights\" + 0.002*\"week\" + 0.002*\"funny\" + 0.002*\"rogan\" + 0.002*\"head\" + 0.002*\"ass\" + 0.002*\"somebody\" + 0.002*\"brain\" + 0.002*\"night\"\n",
      "2020-06-13 11:19:15,073 : INFO : topic #2 (0.125): 0.006*\"game\" + 0.004*\"games\" + 0.003*\"video\" + 0.003*\"tv\" + 0.002*\"strike\" + 0.002*\"comedy\" + 0.002*\"phone\" + 0.002*\"box\" + 0.002*\"team\" + 0.002*\"mind\"\n",
      "2020-06-13 11:19:15,076 : INFO : topic #1 (0.125): 0.003*\"brain\" + 0.002*\"problem\" + 0.002*\"kids\" + 0.002*\"studies\" + 0.002*\"human\" + 0.002*\"women\" + 0.002*\"food\" + 0.002*\"free\" + 0.002*\"important\" + 0.002*\"wrong\"\n",
      "2020-06-13 11:19:15,079 : INFO : topic diff=0.179691, rho=0.353553\n",
      "2020-06-13 11:19:17,262 : INFO : -9.032 per-word bound, 523.5 perplexity estimate based on a held-out corpus of 114 documents with 123903 words\n",
      "2020-06-13 11:19:17,264 : INFO : PROGRESS: pass 7, at document #114/114\n",
      "2020-06-13 11:19:17,693 : INFO : topic #0 (0.125): 0.003*\"job\" + 0.003*\"house\" + 0.002*\"kids\" + 0.002*\"thirty\" + 0.002*\"night\" + 0.002*\"dollars\" + 0.002*\"head\" + 0.002*\"car\" + 0.002*\"friends\" + 0.002*\"couple\"\n",
      "2020-06-13 11:19:17,696 : INFO : topic #2 (0.125): 0.006*\"game\" + 0.004*\"games\" + 0.003*\"video\" + 0.003*\"tv\" + 0.003*\"strike\" + 0.002*\"comedy\" + 0.002*\"phone\" + 0.002*\"box\" + 0.002*\"team\" + 0.002*\"mind\"\n",
      "2020-06-13 11:19:17,699 : INFO : topic #6 (0.125): 0.003*\"country\" + 0.003*\"human\" + 0.003*\"couple\" + 0.002*\"video\" + 0.002*\"kids\" + 0.002*\"thirty\" + 0.002*\"somebody\" + 0.002*\"sense\" + 0.002*\"story\" + 0.002*\"music\"\n",
      "2020-06-13 11:19:17,702 : INFO : topic #3 (0.125): 0.003*\"head\" + 0.003*\"tough\" + 0.002*\"round\" + 0.002*\"phone\" + 0.002*\"sport\" + 0.002*\"boy\" + 0.002*\"somebody\" + 0.002*\"power\" + 0.002*\"ass\" + 0.002*\"fighters\"\n",
      "2020-06-13 11:19:17,704 : INFO : topic #4 (0.125): 0.002*\"women\" + 0.002*\"fights\" + 0.002*\"week\" + 0.002*\"funny\" + 0.002*\"rogan\" + 0.002*\"head\" + 0.002*\"ass\" + 0.002*\"somebody\" + 0.002*\"brain\" + 0.002*\"night\"\n",
      "2020-06-13 11:19:17,707 : INFO : topic diff=0.126314, rho=0.333333\n",
      "2020-06-13 11:19:19,954 : INFO : -9.027 per-word bound, 521.6 perplexity estimate based on a held-out corpus of 114 documents with 123903 words\n",
      "2020-06-13 11:19:19,955 : INFO : PROGRESS: pass 8, at document #114/114\n",
      "2020-06-13 11:19:20,422 : INFO : topic #5 (0.125): 0.004*\"car\" + 0.003*\"night\" + 0.003*\"house\" + 0.003*\"dollars\" + 0.002*\"funny\" + 0.002*\"dude\" + 0.002*\"bunch\" + 0.002*\"water\" + 0.002*\"super\" + 0.002*\"comedy\"\n",
      "2020-06-13 11:19:20,425 : INFO : topic #2 (0.125): 0.006*\"game\" + 0.004*\"games\" + 0.003*\"video\" + 0.003*\"tv\" + 0.003*\"strike\" + 0.002*\"comedy\" + 0.002*\"phone\" + 0.002*\"box\" + 0.002*\"team\" + 0.002*\"mind\"\n",
      "2020-06-13 11:19:20,429 : INFO : topic #6 (0.125): 0.003*\"country\" + 0.003*\"human\" + 0.003*\"couple\" + 0.002*\"video\" + 0.002*\"kids\" + 0.002*\"thirty\" + 0.002*\"somebody\" + 0.002*\"sense\" + 0.002*\"music\" + 0.002*\"story\"\n",
      "2020-06-13 11:19:20,432 : INFO : topic #3 (0.125): 0.003*\"tough\" + 0.003*\"head\" + 0.002*\"phone\" + 0.002*\"round\" + 0.002*\"sport\" + 0.002*\"boy\" + 0.002*\"somebody\" + 0.002*\"power\" + 0.002*\"fighters\" + 0.002*\"ass\"\n",
      "2020-06-13 11:19:20,434 : INFO : topic #1 (0.125): 0.003*\"brain\" + 0.002*\"problem\" + 0.002*\"kids\" + 0.002*\"studies\" + 0.002*\"human\" + 0.002*\"women\" + 0.002*\"food\" + 0.002*\"free\" + 0.002*\"important\" + 0.002*\"wrong\"\n",
      "2020-06-13 11:19:20,438 : INFO : topic diff=0.089716, rho=0.316228\n",
      "2020-06-13 11:19:22,548 : INFO : -9.024 per-word bound, 520.6 perplexity estimate based on a held-out corpus of 114 documents with 123903 words\n",
      "2020-06-13 11:19:22,550 : INFO : PROGRESS: pass 9, at document #114/114\n",
      "2020-06-13 11:19:22,946 : INFO : topic #1 (0.125): 0.002*\"brain\" + 0.002*\"problem\" + 0.002*\"kids\" + 0.002*\"studies\" + 0.002*\"human\" + 0.002*\"women\" + 0.002*\"food\" + 0.002*\"free\" + 0.002*\"important\" + 0.002*\"wrong\"\n",
      "2020-06-13 11:19:22,949 : INFO : topic #0 (0.125): 0.003*\"job\" + 0.003*\"house\" + 0.002*\"kids\" + 0.002*\"thirty\" + 0.002*\"night\" + 0.002*\"dollars\" + 0.002*\"head\" + 0.002*\"car\" + 0.002*\"friends\" + 0.002*\"couple\"\n",
      "2020-06-13 11:19:22,952 : INFO : topic #7 (0.125): 0.003*\"brain\" + 0.003*\"game\" + 0.003*\"somebody\" + 0.003*\"head\" + 0.002*\"ass\" + 0.002*\"level\" + 0.002*\"dude\" + 0.002*\"super\" + 0.002*\"thirty\" + 0.002*\"nice\"\n",
      "2020-06-13 11:19:22,955 : INFO : topic #5 (0.125): 0.004*\"car\" + 0.003*\"night\" + 0.003*\"house\" + 0.003*\"dollars\" + 0.002*\"funny\" + 0.002*\"dude\" + 0.002*\"bunch\" + 0.002*\"water\" + 0.002*\"super\" + 0.002*\"comedy\"\n",
      "2020-06-13 11:19:22,957 : INFO : topic #3 (0.125): 0.003*\"tough\" + 0.003*\"head\" + 0.002*\"phone\" + 0.002*\"round\" + 0.002*\"sport\" + 0.002*\"boy\" + 0.002*\"power\" + 0.002*\"fighters\" + 0.002*\"somebody\" + 0.002*\"ass\"\n",
      "2020-06-13 11:19:22,962 : INFO : topic diff=0.064437, rho=0.301511\n",
      "2020-06-13 11:19:25,225 : INFO : -9.022 per-word bound, 519.9 perplexity estimate based on a held-out corpus of 114 documents with 123903 words\n",
      "2020-06-13 11:19:25,228 : INFO : PROGRESS: pass 10, at document #114/114\n",
      "2020-06-13 11:19:25,700 : INFO : topic #0 (0.125): 0.003*\"job\" + 0.003*\"house\" + 0.002*\"kids\" + 0.002*\"thirty\" + 0.002*\"night\" + 0.002*\"dollars\" + 0.002*\"head\" + 0.002*\"car\" + 0.002*\"friends\" + 0.002*\"couple\"\n",
      "2020-06-13 11:19:25,703 : INFO : topic #1 (0.125): 0.002*\"brain\" + 0.002*\"problem\" + 0.002*\"kids\" + 0.002*\"studies\" + 0.002*\"human\" + 0.002*\"women\" + 0.002*\"food\" + 0.002*\"free\" + 0.002*\"important\" + 0.002*\"wrong\"\n",
      "2020-06-13 11:19:25,706 : INFO : topic #7 (0.125): 0.003*\"brain\" + 0.003*\"game\" + 0.003*\"somebody\" + 0.003*\"head\" + 0.002*\"ass\" + 0.002*\"level\" + 0.002*\"dude\" + 0.002*\"super\" + 0.002*\"thirty\" + 0.002*\"nice\"\n",
      "2020-06-13 11:19:25,709 : INFO : topic #5 (0.125): 0.004*\"car\" + 0.003*\"night\" + 0.003*\"house\" + 0.003*\"dollars\" + 0.002*\"funny\" + 0.002*\"dude\" + 0.002*\"bunch\" + 0.002*\"water\" + 0.002*\"super\" + 0.002*\"comedy\"\n",
      "2020-06-13 11:19:25,712 : INFO : topic #4 (0.125): 0.002*\"women\" + 0.002*\"fights\" + 0.002*\"week\" + 0.002*\"funny\" + 0.002*\"rogan\" + 0.002*\"head\" + 0.002*\"ass\" + 0.002*\"somebody\" + 0.002*\"brain\" + 0.002*\"night\"\n",
      "2020-06-13 11:19:25,716 : INFO : topic diff=0.046824, rho=0.288675\n",
      "2020-06-13 11:19:27,828 : INFO : -9.021 per-word bound, 519.5 perplexity estimate based on a held-out corpus of 114 documents with 123903 words\n",
      "2020-06-13 11:19:27,831 : INFO : PROGRESS: pass 11, at document #114/114\n",
      "2020-06-13 11:19:28,232 : INFO : topic #7 (0.125): 0.003*\"brain\" + 0.003*\"game\" + 0.003*\"somebody\" + 0.003*\"head\" + 0.002*\"ass\" + 0.002*\"level\" + 0.002*\"dude\" + 0.002*\"super\" + 0.002*\"thirty\" + 0.002*\"nice\"\n",
      "2020-06-13 11:19:28,235 : INFO : topic #0 (0.125): 0.003*\"job\" + 0.003*\"house\" + 0.002*\"kids\" + 0.002*\"thirty\" + 0.002*\"night\" + 0.002*\"dollars\" + 0.002*\"head\" + 0.002*\"car\" + 0.002*\"friends\" + 0.002*\"couple\"\n",
      "2020-06-13 11:19:28,238 : INFO : topic #6 (0.125): 0.003*\"country\" + 0.003*\"human\" + 0.003*\"couple\" + 0.002*\"video\" + 0.002*\"kids\" + 0.002*\"thirty\" + 0.002*\"somebody\" + 0.002*\"music\" + 0.002*\"sense\" + 0.002*\"story\"\n",
      "2020-06-13 11:19:28,241 : INFO : topic #1 (0.125): 0.002*\"brain\" + 0.002*\"problem\" + 0.002*\"kids\" + 0.002*\"studies\" + 0.002*\"human\" + 0.002*\"women\" + 0.002*\"food\" + 0.002*\"free\" + 0.002*\"important\" + 0.002*\"wrong\"\n",
      "2020-06-13 11:19:28,244 : INFO : topic #5 (0.125): 0.004*\"car\" + 0.003*\"night\" + 0.003*\"house\" + 0.003*\"dollars\" + 0.002*\"funny\" + 0.002*\"dude\" + 0.002*\"bunch\" + 0.002*\"water\" + 0.002*\"super\" + 0.002*\"comedy\"\n",
      "2020-06-13 11:19:28,247 : INFO : topic diff=0.034440, rho=0.277350\n",
      "2020-06-13 11:19:30,425 : INFO : -9.020 per-word bound, 519.2 perplexity estimate based on a held-out corpus of 114 documents with 123903 words\n",
      "2020-06-13 11:19:30,427 : INFO : PROGRESS: pass 12, at document #114/114\n",
      "2020-06-13 11:19:30,838 : INFO : topic #6 (0.125): 0.003*\"country\" + 0.003*\"human\" + 0.003*\"couple\" + 0.002*\"video\" + 0.002*\"kids\" + 0.002*\"thirty\" + 0.002*\"somebody\" + 0.002*\"music\" + 0.002*\"sense\" + 0.002*\"story\"\n",
      "2020-06-13 11:19:30,841 : INFO : topic #5 (0.125): 0.004*\"car\" + 0.003*\"night\" + 0.003*\"house\" + 0.003*\"dollars\" + 0.002*\"funny\" + 0.002*\"dude\" + 0.002*\"bunch\" + 0.002*\"water\" + 0.002*\"super\" + 0.002*\"comedy\"\n",
      "2020-06-13 11:19:30,843 : INFO : topic #2 (0.125): 0.006*\"game\" + 0.004*\"games\" + 0.003*\"video\" + 0.003*\"tv\" + 0.003*\"strike\" + 0.002*\"comedy\" + 0.002*\"phone\" + 0.002*\"box\" + 0.002*\"team\" + 0.002*\"mind\"\n",
      "2020-06-13 11:19:30,846 : INFO : topic #4 (0.125): 0.002*\"women\" + 0.002*\"fights\" + 0.002*\"week\" + 0.002*\"funny\" + 0.002*\"rogan\" + 0.002*\"head\" + 0.002*\"ass\" + 0.002*\"somebody\" + 0.002*\"brain\" + 0.002*\"night\"\n",
      "2020-06-13 11:19:30,849 : INFO : topic #0 (0.125): 0.003*\"job\" + 0.003*\"house\" + 0.002*\"kids\" + 0.002*\"thirty\" + 0.002*\"night\" + 0.002*\"dollars\" + 0.002*\"head\" + 0.002*\"car\" + 0.002*\"friends\" + 0.002*\"couple\"\n",
      "2020-06-13 11:19:30,851 : INFO : topic diff=0.025633, rho=0.267261\n",
      "2020-06-13 11:19:32,945 : INFO : -9.019 per-word bound, 519.0 perplexity estimate based on a held-out corpus of 114 documents with 123903 words\n",
      "2020-06-13 11:19:32,947 : INFO : PROGRESS: pass 13, at document #114/114\n",
      "2020-06-13 11:19:33,435 : INFO : topic #1 (0.125): 0.002*\"brain\" + 0.002*\"problem\" + 0.002*\"kids\" + 0.002*\"studies\" + 0.002*\"human\" + 0.002*\"women\" + 0.002*\"food\" + 0.002*\"free\" + 0.002*\"important\" + 0.002*\"wrong\"\n",
      "2020-06-13 11:19:33,438 : INFO : topic #0 (0.125): 0.003*\"job\" + 0.003*\"house\" + 0.002*\"kids\" + 0.002*\"thirty\" + 0.002*\"night\" + 0.002*\"dollars\" + 0.002*\"car\" + 0.002*\"head\" + 0.002*\"friends\" + 0.002*\"couple\"\n",
      "2020-06-13 11:19:33,441 : INFO : topic #4 (0.125): 0.002*\"women\" + 0.002*\"fights\" + 0.002*\"week\" + 0.002*\"funny\" + 0.002*\"rogan\" + 0.002*\"head\" + 0.002*\"ass\" + 0.002*\"somebody\" + 0.002*\"brain\" + 0.002*\"night\"\n",
      "2020-06-13 11:19:33,444 : INFO : topic #5 (0.125): 0.004*\"car\" + 0.003*\"night\" + 0.003*\"house\" + 0.003*\"dollars\" + 0.002*\"funny\" + 0.002*\"dude\" + 0.002*\"bunch\" + 0.002*\"water\" + 0.002*\"super\" + 0.002*\"comedy\"\n",
      "2020-06-13 11:19:33,447 : INFO : topic #7 (0.125): 0.003*\"brain\" + 0.003*\"game\" + 0.003*\"somebody\" + 0.003*\"head\" + 0.002*\"ass\" + 0.002*\"level\" + 0.002*\"dude\" + 0.002*\"super\" + 0.002*\"thirty\" + 0.002*\"nice\"\n",
      "2020-06-13 11:19:33,450 : INFO : topic diff=0.019308, rho=0.258199\n",
      "2020-06-13 11:19:35,698 : INFO : -9.019 per-word bound, 518.8 perplexity estimate based on a held-out corpus of 114 documents with 123903 words\n",
      "2020-06-13 11:19:35,700 : INFO : PROGRESS: pass 14, at document #114/114\n",
      "2020-06-13 11:19:36,103 : INFO : topic #7 (0.125): 0.003*\"brain\" + 0.003*\"game\" + 0.003*\"somebody\" + 0.003*\"head\" + 0.002*\"ass\" + 0.002*\"level\" + 0.002*\"dude\" + 0.002*\"super\" + 0.002*\"thirty\" + 0.002*\"nice\"\n",
      "2020-06-13 11:19:36,105 : INFO : topic #0 (0.125): 0.003*\"job\" + 0.003*\"house\" + 0.002*\"kids\" + 0.002*\"thirty\" + 0.002*\"night\" + 0.002*\"dollars\" + 0.002*\"car\" + 0.002*\"head\" + 0.002*\"friends\" + 0.002*\"couple\"\n",
      "2020-06-13 11:19:36,108 : INFO : topic #4 (0.125): 0.002*\"women\" + 0.002*\"fights\" + 0.002*\"week\" + 0.002*\"funny\" + 0.002*\"rogan\" + 0.002*\"head\" + 0.002*\"ass\" + 0.002*\"somebody\" + 0.002*\"brain\" + 0.002*\"night\"\n",
      "2020-06-13 11:19:36,111 : INFO : topic #1 (0.125): 0.002*\"brain\" + 0.002*\"problem\" + 0.002*\"kids\" + 0.002*\"studies\" + 0.002*\"human\" + 0.002*\"women\" + 0.002*\"food\" + 0.002*\"free\" + 0.002*\"important\" + 0.002*\"wrong\"\n",
      "2020-06-13 11:19:36,113 : INFO : topic #6 (0.125): 0.003*\"country\" + 0.003*\"human\" + 0.003*\"couple\" + 0.002*\"video\" + 0.002*\"kids\" + 0.002*\"thirty\" + 0.002*\"somebody\" + 0.002*\"music\" + 0.002*\"sense\" + 0.002*\"story\"\n",
      "2020-06-13 11:19:36,116 : INFO : topic diff=0.014719, rho=0.250000\n",
      "2020-06-13 11:19:38,216 : INFO : -9.019 per-word bound, 518.7 perplexity estimate based on a held-out corpus of 114 documents with 123903 words\n",
      "2020-06-13 11:19:38,218 : INFO : PROGRESS: pass 15, at document #114/114\n",
      "2020-06-13 11:19:38,698 : INFO : topic #3 (0.125): 0.003*\"tough\" + 0.003*\"head\" + 0.002*\"round\" + 0.002*\"phone\" + 0.002*\"sport\" + 0.002*\"boy\" + 0.002*\"fighters\" + 0.002*\"power\" + 0.002*\"somebody\" + 0.002*\"ass\"\n",
      "2020-06-13 11:19:38,701 : INFO : topic #7 (0.125): 0.003*\"brain\" + 0.003*\"game\" + 0.003*\"somebody\" + 0.003*\"head\" + 0.002*\"ass\" + 0.002*\"level\" + 0.002*\"dude\" + 0.002*\"super\" + 0.002*\"thirty\" + 0.002*\"nice\"\n",
      "2020-06-13 11:19:38,704 : INFO : topic #5 (0.125): 0.004*\"car\" + 0.003*\"house\" + 0.003*\"night\" + 0.003*\"dollars\" + 0.002*\"funny\" + 0.002*\"dude\" + 0.002*\"bunch\" + 0.002*\"water\" + 0.002*\"super\" + 0.002*\"comedy\"\n",
      "2020-06-13 11:19:38,707 : INFO : topic #6 (0.125): 0.003*\"country\" + 0.003*\"human\" + 0.003*\"couple\" + 0.003*\"video\" + 0.002*\"kids\" + 0.002*\"thirty\" + 0.002*\"somebody\" + 0.002*\"music\" + 0.002*\"sense\" + 0.002*\"story\"\n",
      "2020-06-13 11:19:38,709 : INFO : topic #2 (0.125): 0.006*\"game\" + 0.004*\"games\" + 0.003*\"video\" + 0.003*\"tv\" + 0.003*\"strike\" + 0.002*\"comedy\" + 0.002*\"phone\" + 0.002*\"box\" + 0.002*\"team\" + 0.002*\"mind\"\n",
      "2020-06-13 11:19:38,712 : INFO : topic diff=0.011355, rho=0.242536\n",
      "2020-06-13 11:19:40,778 : INFO : -9.018 per-word bound, 518.6 perplexity estimate based on a held-out corpus of 114 documents with 123903 words\n",
      "2020-06-13 11:19:40,780 : INFO : PROGRESS: pass 16, at document #114/114\n",
      "2020-06-13 11:19:41,184 : INFO : topic #7 (0.125): 0.003*\"brain\" + 0.003*\"game\" + 0.003*\"somebody\" + 0.003*\"head\" + 0.002*\"level\" + 0.002*\"ass\" + 0.002*\"dude\" + 0.002*\"super\" + 0.002*\"thirty\" + 0.002*\"nice\"\n",
      "2020-06-13 11:19:41,186 : INFO : topic #0 (0.125): 0.003*\"job\" + 0.003*\"house\" + 0.002*\"kids\" + 0.002*\"thirty\" + 0.002*\"night\" + 0.002*\"dollars\" + 0.002*\"car\" + 0.002*\"head\" + 0.002*\"friends\" + 0.002*\"couple\"\n",
      "2020-06-13 11:19:41,189 : INFO : topic #6 (0.125): 0.003*\"country\" + 0.003*\"human\" + 0.003*\"couple\" + 0.003*\"video\" + 0.002*\"kids\" + 0.002*\"thirty\" + 0.002*\"somebody\" + 0.002*\"music\" + 0.002*\"sense\" + 0.002*\"care\"\n",
      "2020-06-13 11:19:41,193 : INFO : topic #1 (0.125): 0.002*\"brain\" + 0.002*\"problem\" + 0.002*\"kids\" + 0.002*\"studies\" + 0.002*\"human\" + 0.002*\"women\" + 0.002*\"food\" + 0.002*\"free\" + 0.002*\"important\" + 0.002*\"wrong\"\n",
      "2020-06-13 11:19:41,196 : INFO : topic #3 (0.125): 0.003*\"tough\" + 0.003*\"head\" + 0.002*\"round\" + 0.002*\"phone\" + 0.002*\"sport\" + 0.002*\"boy\" + 0.002*\"fighters\" + 0.002*\"power\" + 0.002*\"somebody\" + 0.002*\"ass\"\n",
      "2020-06-13 11:19:41,200 : INFO : topic diff=0.008876, rho=0.235702\n",
      "2020-06-13 11:19:43,349 : INFO : -9.018 per-word bound, 518.5 perplexity estimate based on a held-out corpus of 114 documents with 123903 words\n",
      "2020-06-13 11:19:43,351 : INFO : PROGRESS: pass 17, at document #114/114\n",
      "2020-06-13 11:19:43,810 : INFO : topic #1 (0.125): 0.002*\"brain\" + 0.002*\"problem\" + 0.002*\"kids\" + 0.002*\"studies\" + 0.002*\"human\" + 0.002*\"women\" + 0.002*\"food\" + 0.002*\"free\" + 0.002*\"important\" + 0.002*\"wrong\"\n",
      "2020-06-13 11:19:43,813 : INFO : topic #6 (0.125): 0.003*\"country\" + 0.003*\"human\" + 0.003*\"couple\" + 0.003*\"video\" + 0.002*\"kids\" + 0.002*\"thirty\" + 0.002*\"somebody\" + 0.002*\"music\" + 0.002*\"sense\" + 0.002*\"care\"\n",
      "2020-06-13 11:19:43,816 : INFO : topic #5 (0.125): 0.004*\"car\" + 0.003*\"house\" + 0.003*\"night\" + 0.003*\"dollars\" + 0.002*\"funny\" + 0.002*\"dude\" + 0.002*\"bunch\" + 0.002*\"water\" + 0.002*\"super\" + 0.002*\"comedy\"\n",
      "2020-06-13 11:19:43,819 : INFO : topic #2 (0.125): 0.006*\"game\" + 0.004*\"games\" + 0.003*\"video\" + 0.003*\"tv\" + 0.003*\"strike\" + 0.002*\"comedy\" + 0.002*\"phone\" + 0.002*\"box\" + 0.002*\"team\" + 0.002*\"mind\"\n",
      "2020-06-13 11:19:43,833 : INFO : topic #4 (0.125): 0.002*\"women\" + 0.002*\"fights\" + 0.002*\"week\" + 0.002*\"funny\" + 0.002*\"rogan\" + 0.002*\"head\" + 0.002*\"ass\" + 0.002*\"somebody\" + 0.002*\"brain\" + 0.002*\"night\"\n",
      "2020-06-13 11:19:43,836 : INFO : topic diff=0.007028, rho=0.229416\n",
      "2020-06-13 11:19:45,949 : INFO : -9.018 per-word bound, 518.4 perplexity estimate based on a held-out corpus of 114 documents with 123903 words\n",
      "2020-06-13 11:19:45,950 : INFO : PROGRESS: pass 18, at document #114/114\n",
      "2020-06-13 11:19:46,420 : INFO : topic #2 (0.125): 0.006*\"game\" + 0.004*\"games\" + 0.003*\"video\" + 0.003*\"tv\" + 0.003*\"strike\" + 0.002*\"comedy\" + 0.002*\"phone\" + 0.002*\"box\" + 0.002*\"team\" + 0.002*\"mind\"\n",
      "2020-06-13 11:19:46,425 : INFO : topic #4 (0.125): 0.002*\"women\" + 0.002*\"fights\" + 0.002*\"week\" + 0.002*\"funny\" + 0.002*\"rogan\" + 0.002*\"head\" + 0.002*\"ass\" + 0.002*\"somebody\" + 0.002*\"brain\" + 0.002*\"night\"\n",
      "2020-06-13 11:19:46,427 : INFO : topic #6 (0.125): 0.003*\"country\" + 0.003*\"human\" + 0.003*\"couple\" + 0.003*\"video\" + 0.002*\"kids\" + 0.002*\"thirty\" + 0.002*\"somebody\" + 0.002*\"music\" + 0.002*\"sense\" + 0.002*\"care\"\n",
      "2020-06-13 11:19:46,432 : INFO : topic #5 (0.125): 0.004*\"car\" + 0.003*\"house\" + 0.003*\"night\" + 0.003*\"dollars\" + 0.002*\"funny\" + 0.002*\"dude\" + 0.002*\"bunch\" + 0.002*\"water\" + 0.002*\"super\" + 0.002*\"comedy\"\n",
      "2020-06-13 11:19:46,434 : INFO : topic #0 (0.125): 0.003*\"job\" + 0.003*\"house\" + 0.002*\"kids\" + 0.002*\"thirty\" + 0.002*\"night\" + 0.002*\"dollars\" + 0.002*\"car\" + 0.002*\"head\" + 0.002*\"friends\" + 0.002*\"couple\"\n",
      "2020-06-13 11:19:46,437 : INFO : topic diff=0.005641, rho=0.223607\n",
      "2020-06-13 11:19:48,565 : INFO : -9.018 per-word bound, 518.4 perplexity estimate based on a held-out corpus of 114 documents with 123903 words\n",
      "2020-06-13 11:19:48,567 : INFO : PROGRESS: pass 19, at document #114/114\n",
      "2020-06-13 11:19:48,957 : INFO : topic #6 (0.125): 0.003*\"country\" + 0.003*\"human\" + 0.003*\"couple\" + 0.003*\"video\" + 0.002*\"kids\" + 0.002*\"thirty\" + 0.002*\"somebody\" + 0.002*\"music\" + 0.002*\"sense\" + 0.002*\"care\"\n",
      "2020-06-13 11:19:48,959 : INFO : topic #3 (0.125): 0.003*\"tough\" + 0.003*\"head\" + 0.002*\"round\" + 0.002*\"sport\" + 0.002*\"phone\" + 0.002*\"boy\" + 0.002*\"fighters\" + 0.002*\"power\" + 0.002*\"somebody\" + 0.002*\"ass\"\n",
      "2020-06-13 11:19:48,962 : INFO : topic #5 (0.125): 0.004*\"car\" + 0.003*\"house\" + 0.003*\"night\" + 0.003*\"dollars\" + 0.002*\"funny\" + 0.002*\"dude\" + 0.002*\"bunch\" + 0.002*\"water\" + 0.002*\"super\" + 0.002*\"comedy\"\n",
      "2020-06-13 11:19:48,966 : INFO : topic #1 (0.125): 0.002*\"brain\" + 0.002*\"problem\" + 0.002*\"kids\" + 0.002*\"studies\" + 0.002*\"human\" + 0.002*\"women\" + 0.002*\"food\" + 0.002*\"free\" + 0.002*\"important\" + 0.002*\"wrong\"\n",
      "2020-06-13 11:19:48,968 : INFO : topic #4 (0.125): 0.002*\"women\" + 0.002*\"fights\" + 0.002*\"week\" + 0.002*\"funny\" + 0.002*\"rogan\" + 0.002*\"head\" + 0.002*\"ass\" + 0.002*\"somebody\" + 0.002*\"brain\" + 0.002*\"night\"\n",
      "2020-06-13 11:19:48,971 : INFO : topic diff=0.004585, rho=0.218218\n",
      "2020-06-13 11:19:49,019 : INFO : topic #0 (0.125): 0.003*\"job\" + 0.003*\"house\" + 0.002*\"kids\" + 0.002*\"thirty\" + 0.002*\"night\" + 0.002*\"dollars\" + 0.002*\"car\" + 0.002*\"head\" + 0.002*\"friends\" + 0.002*\"couple\"\n",
      "2020-06-13 11:19:49,022 : INFO : topic #1 (0.125): 0.002*\"brain\" + 0.002*\"problem\" + 0.002*\"kids\" + 0.002*\"studies\" + 0.002*\"human\" + 0.002*\"women\" + 0.002*\"food\" + 0.002*\"free\" + 0.002*\"important\" + 0.002*\"wrong\"\n",
      "2020-06-13 11:19:49,027 : INFO : topic #2 (0.125): 0.006*\"game\" + 0.004*\"games\" + 0.003*\"video\" + 0.003*\"tv\" + 0.003*\"strike\" + 0.002*\"comedy\" + 0.002*\"phone\" + 0.002*\"box\" + 0.002*\"team\" + 0.002*\"mind\"\n",
      "2020-06-13 11:19:49,030 : INFO : topic #3 (0.125): 0.003*\"tough\" + 0.003*\"head\" + 0.002*\"round\" + 0.002*\"sport\" + 0.002*\"phone\" + 0.002*\"boy\" + 0.002*\"fighters\" + 0.002*\"power\" + 0.002*\"somebody\" + 0.002*\"ass\"\n",
      "2020-06-13 11:19:49,033 : INFO : topic #4 (0.125): 0.002*\"women\" + 0.002*\"fights\" + 0.002*\"week\" + 0.002*\"funny\" + 0.002*\"rogan\" + 0.002*\"head\" + 0.002*\"ass\" + 0.002*\"somebody\" + 0.002*\"brain\" + 0.002*\"night\"\n",
      "2020-06-13 11:19:49,035 : INFO : topic #5 (0.125): 0.004*\"car\" + 0.003*\"house\" + 0.003*\"night\" + 0.003*\"dollars\" + 0.002*\"funny\" + 0.002*\"dude\" + 0.002*\"bunch\" + 0.002*\"water\" + 0.002*\"super\" + 0.002*\"comedy\"\n",
      "2020-06-13 11:19:49,038 : INFO : topic #6 (0.125): 0.003*\"country\" + 0.003*\"human\" + 0.003*\"couple\" + 0.003*\"video\" + 0.002*\"kids\" + 0.002*\"thirty\" + 0.002*\"somebody\" + 0.002*\"music\" + 0.002*\"sense\" + 0.002*\"care\"\n",
      "2020-06-13 11:19:49,041 : INFO : topic #7 (0.125): 0.004*\"brain\" + 0.003*\"game\" + 0.003*\"somebody\" + 0.003*\"head\" + 0.002*\"level\" + 0.002*\"ass\" + 0.002*\"dude\" + 0.002*\"super\" + 0.002*\"thirty\" + 0.002*\"nice\"\n"
     ]
    },
    {
     "data": {
      "text/plain": [
       "[(0,\n",
       "  '0.003*\"job\" + 0.003*\"house\" + 0.002*\"kids\" + 0.002*\"thirty\" + 0.002*\"night\" + 0.002*\"dollars\" + 0.002*\"car\" + 0.002*\"head\" + 0.002*\"friends\" + 0.002*\"couple\"'),\n",
       " (1,\n",
       "  '0.002*\"brain\" + 0.002*\"problem\" + 0.002*\"kids\" + 0.002*\"studies\" + 0.002*\"human\" + 0.002*\"women\" + 0.002*\"food\" + 0.002*\"free\" + 0.002*\"important\" + 0.002*\"wrong\"'),\n",
       " (2,\n",
       "  '0.006*\"game\" + 0.004*\"games\" + 0.003*\"video\" + 0.003*\"tv\" + 0.003*\"strike\" + 0.002*\"comedy\" + 0.002*\"phone\" + 0.002*\"box\" + 0.002*\"team\" + 0.002*\"mind\"'),\n",
       " (3,\n",
       "  '0.003*\"tough\" + 0.003*\"head\" + 0.002*\"round\" + 0.002*\"sport\" + 0.002*\"phone\" + 0.002*\"boy\" + 0.002*\"fighters\" + 0.002*\"power\" + 0.002*\"somebody\" + 0.002*\"ass\"'),\n",
       " (4,\n",
       "  '0.002*\"women\" + 0.002*\"fights\" + 0.002*\"week\" + 0.002*\"funny\" + 0.002*\"rogan\" + 0.002*\"head\" + 0.002*\"ass\" + 0.002*\"somebody\" + 0.002*\"brain\" + 0.002*\"night\"'),\n",
       " (5,\n",
       "  '0.004*\"car\" + 0.003*\"house\" + 0.003*\"night\" + 0.003*\"dollars\" + 0.002*\"funny\" + 0.002*\"dude\" + 0.002*\"bunch\" + 0.002*\"water\" + 0.002*\"super\" + 0.002*\"comedy\"'),\n",
       " (6,\n",
       "  '0.003*\"country\" + 0.003*\"human\" + 0.003*\"couple\" + 0.003*\"video\" + 0.002*\"kids\" + 0.002*\"thirty\" + 0.002*\"somebody\" + 0.002*\"music\" + 0.002*\"sense\" + 0.002*\"care\"'),\n",
       " (7,\n",
       "  '0.004*\"brain\" + 0.003*\"game\" + 0.003*\"somebody\" + 0.003*\"head\" + 0.002*\"level\" + 0.002*\"ass\" + 0.002*\"dude\" + 0.002*\"super\" + 0.002*\"thirty\" + 0.002*\"nice\"')]"
      ]
     },
     "execution_count": 54,
     "metadata": {},
     "output_type": "execute_result"
    }
   ],
   "source": [
    "ldana = models.LdaModel(corpus=corpusna, num_topics=8, id2word=id2wordna, passes=20)\n",
    "ldana.print_topics()"
   ]
  },
  {
   "cell_type": "markdown",
   "metadata": {},
   "source": [
    "try with biagram"
   ]
  },
  {
   "cell_type": "code",
   "execution_count": 4,
   "metadata": {},
   "outputs": [],
   "source": [
    "# natural language processing: n-gram ranking\n",
    "import re\n",
    "import unicodedata\n",
    "import nltk\n",
    "from nltk.corpus import stopwords # add appropriate words that will be ignored in the analysis\n",
    "import matplotlib.pyplot as plt"
   ]
  },
  {
   "cell_type": "code",
   "execution_count": 5,
   "metadata": {},
   "outputs": [
    {
     "name": "stdout",
     "output_type": "stream",
     "text": [
      "[nltk_data] Downloading package wordnet_ic to\n",
      "[nltk_data]     C:\\Users\\benja\\AppData\\Roaming\\nltk_data...\n",
      "[nltk_data]   Package wordnet_ic is already up-to-date!\n"
     ]
    },
    {
     "data": {
      "text/plain": [
       "True"
      ]
     },
     "execution_count": 5,
     "metadata": {},
     "output_type": "execute_result"
    }
   ],
   "source": [
    "nltk.download('wordnet_ic')"
   ]
  },
  {
   "cell_type": "code",
   "execution_count": 16,
   "metadata": {},
   "outputs": [],
   "source": [
    "from nltk.corpus import wordnet"
   ]
  },
  {
   "cell_type": "code",
   "execution_count": 18,
   "metadata": {},
   "outputs": [
    {
     "name": "stdout",
     "output_type": "stream",
     "text": [
      "[nltk_data] Downloading package wordnet to\n",
      "[nltk_data]     C:\\Users\\benja\\AppData\\Roaming\\nltk_data...\n",
      "[nltk_data]   Unzipping corpora\\wordnet.zip.\n"
     ]
    },
    {
     "data": {
      "text/plain": [
       "True"
      ]
     },
     "execution_count": 18,
     "metadata": {},
     "output_type": "execute_result"
    }
   ],
   "source": [
    "import nltk\n",
    "nltk.download('wordnet')"
   ]
  },
  {
   "cell_type": "code",
   "execution_count": 19,
   "metadata": {},
   "outputs": [
    {
     "data": {
      "text/plain": [
       "<WordNetCorpusReader in 'C:\\\\Users\\\\benja\\\\AppData\\\\Roaming\\\\nltk_data\\\\corpora\\\\wordnet'>"
      ]
     },
     "execution_count": 19,
     "metadata": {},
     "output_type": "execute_result"
    }
   ],
   "source": [
    "nltk.corpus.wordnet"
   ]
  },
  {
   "cell_type": "code",
   "execution_count": 147,
   "metadata": {},
   "outputs": [],
   "source": [
    "add_stop_words = ['like', 'im','guy','hi','ha','kind','want', 'man','good','great','sort','sort of','oh',\n",
    "                  'probably','real','hundred','thousand','slash','rogan','code','word','dot','com',\n",
    "                  'lot','of','lot of','kind of','doing','way','come','saying','maybe','better','stuff','use','yes',\n",
    "                  'ok','mean','did','going', 'know', 'make', 'day','gotta', 'let', 'need','doe', 'theyre',\n",
    "                  'just', 'dont', 'thats', 'right', 'people','youre', 'got','thing','thing ','look','yes ',\n",
    "                  'didnt ','actually ','even ','make ','sense ','years ','ago ','go ','see ','damm ',\n",
    "                  'say','does','really', 'gonna', 'time', 'think', 'yeah','ive','year', 'said', ' way',' yeah',\n",
    "                  'thats','people','think', 'right', 'really', 'got', 'im','right','know', 'think', ' fucking',\n",
    "                  ' theres','joe', 'save', 'percent','new', 'york', 'city', 'friend', 'welcome', 'show', \n",
    "                  'hello', 'friend', 'welcome','podcast', 'brought', 'buy','episode', 'podcast', 'brought',\n",
    "                  'go', 'back', 'forth','ever', 'seen', 'life','dumb', 'many', 'first','little','bit',\n",
    "                  'gon','fuckin','fuck', 'shit', 'shes', 'fucking', 'guess','theres','hes', 'things', 'guys',\n",
    "                  'point', 'hey', 'body','fight','could','see','twenty', 'year', 'old','twenty','years','old',\n",
    "                  'dont','know','one', 'two', 'tree', 'four', 'five','six','seven', 'eight', 'nine','ten',\n",
    "                  'get', 'would','hundred','j', 'r', 'e','space', 'square','couple', 'day', 'ago'\n",
    "                  'dollar', 'shave', 'club','download', 'cash', 'app','dollar', 'bonus', 'offer','love',\n",
    "                  'pretty', 'god', 'damn', 'much', 'love', 'bye','blah','woah','whats','thank', 'thank', 'everybody']\n"
   ]
  },
  {
   "cell_type": "code",
   "execution_count": 148,
   "metadata": {},
   "outputs": [],
   "source": [
    "ADDITIONAL_STOPWORDS = add_stop_words"
   ]
  },
  {
   "cell_type": "code",
   "execution_count": 149,
   "metadata": {},
   "outputs": [],
   "source": [
    "def basic_clean(text):\n",
    "\n",
    "  wnl = nltk.stem.WordNetLemmatizer()\n",
    "  stopwords = nltk.corpus.stopwords.words('english') + ADDITIONAL_STOPWORDS\n",
    "  text = (unicodedata.normalize('NFKD', text)\n",
    "    .encode('ascii', 'ignore')\n",
    "    .decode('utf-8', 'ignore')\n",
    "    .lower())\n",
    "  words = re.sub(r'[^\\w\\s]', '', text).split()\n",
    "  return [wnl.lemmatize(word) for word in words if word not in stopwords]"
   ]
  },
  {
   "cell_type": "code",
   "execution_count": 150,
   "metadata": {},
   "outputs": [],
   "source": [
    "words = basic_clean(''.join(str(df['text'].tolist())))"
   ]
  },
  {
   "cell_type": "code",
   "execution_count": 151,
   "metadata": {},
   "outputs": [
    {
     "data": {
      "text/plain": [
       "(make, sense)        56\n",
       "(even, though)       55\n",
       "(million, dollar)    49\n",
       "(lady, gentleman)    48\n",
       "(mother, fucker)     48\n",
       "(united, state)      43\n",
       "(video, game)        42\n",
       "(high, school)       41\n",
       "(high, level)        40\n",
       "(human, being)       40\n",
       "(jesus, christ)      39\n",
       "(every, single)      37\n",
       "(cant, cant)         30\n",
       "(doesnt, matter)     30\n",
       "(take, care)         29\n",
       "(somebody, else)     29\n",
       "(martial, art)       28\n",
       "(three, month)       28\n",
       "(social, medium)     27\n",
       "(cant, believe)      27\n",
       "dtype: int64"
      ]
     },
     "execution_count": 151,
     "metadata": {},
     "output_type": "execute_result"
    }
   ],
   "source": [
    "(pd.Series(nltk.ngrams(words, 2)).value_counts())[:20]"
   ]
  },
  {
   "cell_type": "code",
   "execution_count": 154,
   "metadata": {},
   "outputs": [
    {
     "data": {
      "text/plain": [
       "(strength, conditioning, equipment)    15\n",
       "(bad, mother, fucker)                  10\n",
       "(top, food, chain)                     10\n",
       "(playing, video, game)                  8\n",
       "(performance, enhancing, drug)          8\n",
       "(william, randolph, hearst)             7\n",
       "(rennes, forgotten, charity)            7\n",
       "(purchase, website, domain)             6\n",
       "(black, life, matter)                   6\n",
       "(traumatic, brain, injury)              6\n",
       "(total, human, optimization)            6\n",
       "(drop, user, interface)                 5\n",
       "(job, gain, experience)                 5\n",
       "(charity, building, well)               5\n",
       "(click, academy, link)                  5\n",
       "(grass, fed, beef)                      5\n",
       "(roy, jones, junior)                    5\n",
       "(weight, loss, challenge)               5\n",
       "(win, win, win)                         5\n",
       "(building, well, pygmy)                 5\n",
       "dtype: int64"
      ]
     },
     "execution_count": 154,
     "metadata": {},
     "output_type": "execute_result"
    }
   ],
   "source": [
    "(pd.Series(nltk.ngrams(words, 3)).value_counts())[:20]"
   ]
  },
  {
   "cell_type": "code",
   "execution_count": 155,
   "metadata": {},
   "outputs": [],
   "source": [
    "bigrams_series = (pd.Series(nltk.ngrams(words, 2)).value_counts())[:20]\n",
    "trigrams_series = (pd.Series(nltk.ngrams(words, 3)).value_counts())[:20]"
   ]
  },
  {
   "cell_type": "code",
   "execution_count": 156,
   "metadata": {},
   "outputs": [
    {
     "data": {
      "text/plain": [
       "Text(0.5, 0, '# of Occurances')"
      ]
     },
     "execution_count": 156,
     "metadata": {},
     "output_type": "execute_result"
    },
    {
     "data": {
      "image/png": "[encoded data removed]",
      "text/plain": [
       "<Figure size 864x576 with 1 Axes>"
      ]
     },
     "metadata": {
      "needs_background": "light"
     },
     "output_type": "display_data"
    }
   ],
   "source": [
    "trigrams_series.sort_values().plot.barh(color='blue', width=.9, figsize=(12, 8))\n",
    "plt.title('20 Most Frequently Occuring Trigrams')\n",
    "plt.ylabel('Trigram')\n",
    "plt.xlabel('# of Occurances')"
   ]
  },
  {
   "cell_type": "code",
   "execution_count": 193,
   "metadata": {},
   "outputs": [
    {
     "data": {
      "text/html": [
       "<div>\n",
       "<style scoped>\n",
       "    .dataframe tbody tr th:only-of-type {\n",
       "        vertical-align: middle;\n",
       "    }\n",
       "\n",
       "    .dataframe tbody tr th {\n",
       "        vertical-align: top;\n",
       "    }\n",
       "\n",
       "    .dataframe thead th {\n",
       "        text-align: right;\n",
       "    }\n",
       "</style>\n",
       "<table border=\"1\" class=\"dataframe\">\n",
       "  <thead>\n",
       "    <tr style=\"text-align: right;\">\n",
       "      <th></th>\n",
       "      <th>index</th>\n",
       "      <th>count</th>\n",
       "    </tr>\n",
       "  </thead>\n",
       "  <tbody>\n",
       "    <tr>\n",
       "      <th>0</th>\n",
       "      <td>(strength, conditioning, equipment)</td>\n",
       "      <td>15</td>\n",
       "    </tr>\n",
       "    <tr>\n",
       "      <th>1</th>\n",
       "      <td>(bad, mother, fucker)</td>\n",
       "      <td>10</td>\n",
       "    </tr>\n",
       "    <tr>\n",
       "      <th>2</th>\n",
       "      <td>(top, food, chain)</td>\n",
       "      <td>10</td>\n",
       "    </tr>\n",
       "    <tr>\n",
       "      <th>3</th>\n",
       "      <td>(playing, video, game)</td>\n",
       "      <td>8</td>\n",
       "    </tr>\n",
       "    <tr>\n",
       "      <th>4</th>\n",
       "      <td>(performance, enhancing, drug)</td>\n",
       "      <td>8</td>\n",
       "    </tr>\n",
       "    <tr>\n",
       "      <th>5</th>\n",
       "      <td>(william, randolph, hearst)</td>\n",
       "      <td>7</td>\n",
       "    </tr>\n",
       "    <tr>\n",
       "      <th>6</th>\n",
       "      <td>(rennes, forgotten, charity)</td>\n",
       "      <td>7</td>\n",
       "    </tr>\n",
       "    <tr>\n",
       "      <th>7</th>\n",
       "      <td>(purchase, website, domain)</td>\n",
       "      <td>6</td>\n",
       "    </tr>\n",
       "    <tr>\n",
       "      <th>8</th>\n",
       "      <td>(black, life, matter)</td>\n",
       "      <td>6</td>\n",
       "    </tr>\n",
       "    <tr>\n",
       "      <th>9</th>\n",
       "      <td>(traumatic, brain, injury)</td>\n",
       "      <td>6</td>\n",
       "    </tr>\n",
       "    <tr>\n",
       "      <th>10</th>\n",
       "      <td>(total, human, optimization)</td>\n",
       "      <td>6</td>\n",
       "    </tr>\n",
       "    <tr>\n",
       "      <th>11</th>\n",
       "      <td>(drop, user, interface)</td>\n",
       "      <td>5</td>\n",
       "    </tr>\n",
       "    <tr>\n",
       "      <th>12</th>\n",
       "      <td>(job, gain, experience)</td>\n",
       "      <td>5</td>\n",
       "    </tr>\n",
       "    <tr>\n",
       "      <th>13</th>\n",
       "      <td>(charity, building, well)</td>\n",
       "      <td>5</td>\n",
       "    </tr>\n",
       "    <tr>\n",
       "      <th>14</th>\n",
       "      <td>(click, academy, link)</td>\n",
       "      <td>5</td>\n",
       "    </tr>\n",
       "    <tr>\n",
       "      <th>15</th>\n",
       "      <td>(grass, fed, beef)</td>\n",
       "      <td>5</td>\n",
       "    </tr>\n",
       "    <tr>\n",
       "      <th>16</th>\n",
       "      <td>(roy, jones, junior)</td>\n",
       "      <td>5</td>\n",
       "    </tr>\n",
       "    <tr>\n",
       "      <th>17</th>\n",
       "      <td>(weight, loss, challenge)</td>\n",
       "      <td>5</td>\n",
       "    </tr>\n",
       "    <tr>\n",
       "      <th>18</th>\n",
       "      <td>(win, win, win)</td>\n",
       "      <td>5</td>\n",
       "    </tr>\n",
       "    <tr>\n",
       "      <th>19</th>\n",
       "      <td>(building, well, pygmy)</td>\n",
       "      <td>5</td>\n",
       "    </tr>\n",
       "  </tbody>\n",
       "</table>\n",
       "</div>"
      ],
      "text/plain": [
       "                                  index  count\n",
       "0   (strength, conditioning, equipment)     15\n",
       "1                 (bad, mother, fucker)     10\n",
       "2                    (top, food, chain)     10\n",
       "3                (playing, video, game)      8\n",
       "4        (performance, enhancing, drug)      8\n",
       "5           (william, randolph, hearst)      7\n",
       "6          (rennes, forgotten, charity)      7\n",
       "7           (purchase, website, domain)      6\n",
       "8                 (black, life, matter)      6\n",
       "9            (traumatic, brain, injury)      6\n",
       "10         (total, human, optimization)      6\n",
       "11              (drop, user, interface)      5\n",
       "12              (job, gain, experience)      5\n",
       "13            (charity, building, well)      5\n",
       "14               (click, academy, link)      5\n",
       "15                   (grass, fed, beef)      5\n",
       "16                 (roy, jones, junior)      5\n",
       "17            (weight, loss, challenge)      5\n",
       "18                      (win, win, win)      5\n",
       "19              (building, well, pygmy)      5"
      ]
     },
     "execution_count": 193,
     "metadata": {},
     "output_type": "execute_result"
    }
   ],
   "source": [
    "trigram_df = pd.DataFrame(trigrams_series, columns=['count'])\n",
    "\n",
    "trigram_df.reset_index(inplace=True)\n",
    "trigram_df"
   ]
  },
  {
   "cell_type": "code",
   "execution_count": 196,
   "metadata": {},
   "outputs": [],
   "source": [
    "import networkx as nx"
   ]
  },
  {
   "cell_type": "code",
   "execution_count": 216,
   "metadata": {},
   "outputs": [
    {
     "data": {
      "image/png": "[encoded data removed]",
      "text/plain": [
       "<Figure size 1224x504 with 1 Axes>"
      ]
     },
     "metadata": {},
     "output_type": "display_data"
    }
   ],
   "source": [
    "# Create dictionary of bigrams and their counts\n",
    "d = trigram_df.set_index('index').T.to_dict('records')\n",
    "\n",
    "# Create network plot \n",
    "G = nx.Graph()\n",
    "\n",
    "# Create connections between nodes\n",
    "for k, v in d[0].items():\n",
    "    G.add_edge(k[0], k[1], weight=(v * 4))\n",
    "\n",
    "fig, ax = plt.subplots(figsize=(17, 7))\n",
    "\n",
    "pos = nx.spring_layout(G, k=2)\n",
    "\n",
    "# Plot networks\n",
    "nx.draw_networkx(G, pos,\n",
    "                 font_size=10,\n",
    "                 width=3,\n",
    "                 edge_color='grey',\n",
    "                 node_color='purple',\n",
    "                 with_labels = False,\n",
    "                 ax=ax)\n",
    "\n",
    "# Create offset labels\n",
    "for key, value in pos.items():\n",
    "    x, y = value[0]+.135, value[1]+.045\n",
    "    ax.text(x, y,\n",
    "            s=key,\n",
    "            bbox=dict(facecolor='blue', alpha=0.25),\n",
    "            horizontalalignment='center', fontsize=13)\n",
    "    \n",
    "plt.show()"
   ]
  }
 ],
 "metadata": {
  "kernelspec": {
   "display_name": "Python 3",
   "language": "python",
   "name": "python3"
  },
  "language_info": {
   "codemirror_mode": {
    "name": "ipython",
    "version": 3
   },
   "file_extension": ".py",
   "mimetype": "text/x-python",
   "name": "python",
   "nbconvert_exporter": "python",
   "pygments_lexer": "ipython3",
   "version": "3.7.6"
  }
 },
 "nbformat": 4,
 "nbformat_minor": 4
}
