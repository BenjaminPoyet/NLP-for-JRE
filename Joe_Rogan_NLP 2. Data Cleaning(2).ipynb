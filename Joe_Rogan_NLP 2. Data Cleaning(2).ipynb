{
 "cells": [
  {
   "cell_type": "markdown",
   "metadata": {},
   "source": [
    "## Data Cleaning"
   ]
  },
  {
   "cell_type": "markdown",
   "metadata": {},
   "source": [
    "### I. Introduction"
   ]
  },
  {
   "cell_type": "markdown",
   "metadata": {},
   "source": [
    "The purpose of this notebook is to clean the data extracted by the webscrapper in the notebook I.\n",
    "We clean the strings by removing any irrelevant characters, format the columns to the right type (date, timestamp...).\n",
    "We remove the rows with inconsistent data (no date, no invitee, etc...)"
   ]
  },
  {
   "cell_type": "markdown",
   "metadata": {},
   "source": [
    "### II. Cleaning the metadata"
   ]
  },
  {
   "cell_type": "code",
   "execution_count": 1,
   "metadata": {},
   "outputs": [],
   "source": [
    "import requests\n",
    "from requests import get\n",
    "from bs4 import BeautifulSoup\n",
    "import pandas as pd\n",
    "import numpy as np\n",
    "from time import sleep\n",
    "from random import randint\n",
    "from datetime import datetime, timedelta"
   ]
  },
  {
   "cell_type": "code",
   "execution_count": 2,
   "metadata": {},
   "outputs": [],
   "source": [
    "jredata = pd.read_csv('jredata.csv') \n",
    "jrecontent = pd.read_csv('jrecontent.csv')"
   ]
  },
  {
   "cell_type": "code",
   "execution_count": 3,
   "metadata": {},
   "outputs": [
    {
     "data": {
      "text/html": [
       "<div>\n",
       "<style scoped>\n",
       "    .dataframe tbody tr th:only-of-type {\n",
       "        vertical-align: middle;\n",
       "    }\n",
       "\n",
       "    .dataframe tbody tr th {\n",
       "        vertical-align: top;\n",
       "    }\n",
       "\n",
       "    .dataframe thead th {\n",
       "        text-align: right;\n",
       "    }\n",
       "</style>\n",
       "<table border=\"1\" class=\"dataframe\">\n",
       "  <thead>\n",
       "    <tr style=\"text-align: right;\">\n",
       "      <th></th>\n",
       "      <th>date</th>\n",
       "      <th>title</th>\n",
       "      <th>duration</th>\n",
       "    </tr>\n",
       "  </thead>\n",
       "  <tbody>\n",
       "    <tr>\n",
       "      <th>0</th>\n",
       "      <td>2020-06-03</td>\n",
       "      <td>#1485 - Krystal &amp; Saagar</td>\n",
       "      <td>[]</td>\n",
       "    </tr>\n",
       "    <tr>\n",
       "      <th>1</th>\n",
       "      <td>2020-06-02</td>\n",
       "      <td>&lt;a href=\"/joe-rogan-experience/1484-reggie-wat...</td>\n",
       "      <td>['2:46:32']</td>\n",
       "    </tr>\n",
       "    <tr>\n",
       "      <th>2</th>\n",
       "      <td>2020-05-29</td>\n",
       "      <td>&lt;a href=\"/joe-rogan-experience/1483-jesus-trej...</td>\n",
       "      <td>['2:52:47']</td>\n",
       "    </tr>\n",
       "    <tr>\n",
       "      <th>3</th>\n",
       "      <td>2020-05-28</td>\n",
       "      <td>&lt;a href=\"/joe-rogan-experience/1482-jordan-jon...</td>\n",
       "      <td>['2:22:39']</td>\n",
       "    </tr>\n",
       "    <tr>\n",
       "      <th>4</th>\n",
       "      <td>2020-05-27</td>\n",
       "      <td>&lt;a href=\"/joe-rogan-experience/jre-mma-show-96...</td>\n",
       "      <td>['2:58:39']</td>\n",
       "    </tr>\n",
       "  </tbody>\n",
       "</table>\n",
       "</div>"
      ],
      "text/plain": [
       "         date                                              title     duration\n",
       "0  2020-06-03                           #1485 - Krystal & Saagar           []\n",
       "1  2020-06-02  <a href=\"/joe-rogan-experience/1484-reggie-wat...  ['2:46:32']\n",
       "2  2020-05-29  <a href=\"/joe-rogan-experience/1483-jesus-trej...  ['2:52:47']\n",
       "3  2020-05-28  <a href=\"/joe-rogan-experience/1482-jordan-jon...  ['2:22:39']\n",
       "4  2020-05-27  <a href=\"/joe-rogan-experience/jre-mma-show-96...  ['2:58:39']"
      ]
     },
     "execution_count": 3,
     "metadata": {},
     "output_type": "execute_result"
    }
   ],
   "source": [
    "jredata=jredata.drop(['Unnamed: 0'], axis=1)\n",
    "jredata.head()"
   ]
  },
  {
   "cell_type": "code",
   "execution_count": 4,
   "metadata": {},
   "outputs": [
    {
     "data": {
      "text/html": [
       "<div>\n",
       "<style scoped>\n",
       "    .dataframe tbody tr th:only-of-type {\n",
       "        vertical-align: middle;\n",
       "    }\n",
       "\n",
       "    .dataframe tbody tr th {\n",
       "        vertical-align: top;\n",
       "    }\n",
       "\n",
       "    .dataframe thead th {\n",
       "        text-align: right;\n",
       "    }\n",
       "</style>\n",
       "<table border=\"1\" class=\"dataframe\">\n",
       "  <thead>\n",
       "    <tr style=\"text-align: right;\">\n",
       "      <th></th>\n",
       "      <th>date</th>\n",
       "      <th>title</th>\n",
       "      <th>duration</th>\n",
       "    </tr>\n",
       "  </thead>\n",
       "  <tbody>\n",
       "    <tr>\n",
       "      <th>0</th>\n",
       "      <td>2020-06-03</td>\n",
       "      <td>Krystal &amp; Saagar</td>\n",
       "      <td>[]</td>\n",
       "    </tr>\n",
       "    <tr>\n",
       "      <th>1</th>\n",
       "      <td>2020-06-02</td>\n",
       "      <td>Reggie Watts</td>\n",
       "      <td>['2:46:32']</td>\n",
       "    </tr>\n",
       "    <tr>\n",
       "      <th>2</th>\n",
       "      <td>2020-05-29</td>\n",
       "      <td>Jesus Trejo</td>\n",
       "      <td>['2:52:47']</td>\n",
       "    </tr>\n",
       "    <tr>\n",
       "      <th>3</th>\n",
       "      <td>2020-05-28</td>\n",
       "      <td>Jordan Jonas</td>\n",
       "      <td>['2:22:39']</td>\n",
       "    </tr>\n",
       "    <tr>\n",
       "      <th>4</th>\n",
       "      <td>2020-05-27</td>\n",
       "      <td>wittman/JRE MMA Show  with Justin Gaethje &amp;amp...</td>\n",
       "      <td>['2:58:39']</td>\n",
       "    </tr>\n",
       "  </tbody>\n",
       "</table>\n",
       "</div>"
      ],
      "text/plain": [
       "         date                                              title     duration\n",
       "0  2020-06-03                                   Krystal & Saagar           []\n",
       "1  2020-06-02                                       Reggie Watts  ['2:46:32']\n",
       "2  2020-05-29                                        Jesus Trejo  ['2:52:47']\n",
       "3  2020-05-28                                       Jordan Jonas  ['2:22:39']\n",
       "4  2020-05-27  wittman/JRE MMA Show  with Justin Gaethje &amp...  ['2:58:39']"
      ]
     },
     "execution_count": 4,
     "metadata": {},
     "output_type": "execute_result"
    }
   ],
   "source": [
    "jredata['title'] = jredata['title'].astype(str)\n",
    "jredata['title'] = jredata['title'].str.replace('<a href=\"/joe-rogan-experience/','')\n",
    "jredata['title'] = jredata['title'].str.replace('index.html\">','')\n",
    "jredata['title'] = jredata['title'].str.replace('</a>','')\n",
    "jredata['title'] = jredata['title'].str.replace('PODCAST','')\n",
    "jredata['title'] = jredata['title'].str.replace('#','')\n",
    "jredata['title'] = jredata['title'].str.replace('\\d+','')\n",
    "jredata['title'] = jredata['title'].str.replace('(.*)-[^-]*(.*)-','')\n",
    "jredata['title'] = jredata['title'].str.replace('-','')\n",
    "jredata.head()"
   ]
  },
  {
   "cell_type": "code",
   "execution_count": 5,
   "metadata": {},
   "outputs": [],
   "source": [
    "jredata.rename(columns={\"title\": \"guest\"}, inplace=True)"
   ]
  },
  {
   "cell_type": "code",
   "execution_count": 6,
   "metadata": {},
   "outputs": [
    {
     "data": {
      "text/html": [
       "<div>\n",
       "<style scoped>\n",
       "    .dataframe tbody tr th:only-of-type {\n",
       "        vertical-align: middle;\n",
       "    }\n",
       "\n",
       "    .dataframe tbody tr th {\n",
       "        vertical-align: top;\n",
       "    }\n",
       "\n",
       "    .dataframe thead th {\n",
       "        text-align: right;\n",
       "    }\n",
       "</style>\n",
       "<table border=\"1\" class=\"dataframe\">\n",
       "  <thead>\n",
       "    <tr style=\"text-align: right;\">\n",
       "      <th></th>\n",
       "      <th>date</th>\n",
       "      <th>guest</th>\n",
       "      <th>duration</th>\n",
       "    </tr>\n",
       "  </thead>\n",
       "  <tbody>\n",
       "    <tr>\n",
       "      <th>11</th>\n",
       "      <td>2020-05-17</td>\n",
       "      <td>May ,</td>\n",
       "      <td>['4:04:17']</td>\n",
       "    </tr>\n",
       "    <tr>\n",
       "      <th>189</th>\n",
       "      <td>2019-07-29</td>\n",
       "      <td>Maynard James Keenan</td>\n",
       "      <td>['1:52:37']</td>\n",
       "    </tr>\n",
       "    <tr>\n",
       "      <th>442</th>\n",
       "      <td>2018-05-27</td>\n",
       "      <td>May ,</td>\n",
       "      <td>['3:15:51']</td>\n",
       "    </tr>\n",
       "    <tr>\n",
       "      <th>595</th>\n",
       "      <td>2017-08-28</td>\n",
       "      <td>schaub/Mayweather vs. McGregor Recap with Bren...</td>\n",
       "      <td>['3:10:11']</td>\n",
       "    </tr>\n",
       "    <tr>\n",
       "      <th>600</th>\n",
       "      <td>2017-08-16</td>\n",
       "      <td>Mayweather vs. McGregor</td>\n",
       "      <td>['2:55:38']</td>\n",
       "    </tr>\n",
       "    <tr>\n",
       "      <th>615</th>\n",
       "      <td>2017-07-12</td>\n",
       "      <td>Maynard James Keenan</td>\n",
       "      <td>['3:02:01']</td>\n",
       "    </tr>\n",
       "    <tr>\n",
       "      <th>637</th>\n",
       "      <td>2017-05-28</td>\n",
       "      <td>May ,</td>\n",
       "      <td>['3:30:24']</td>\n",
       "    </tr>\n",
       "    <tr>\n",
       "      <th>816</th>\n",
       "      <td>2016-05-30</td>\n",
       "      <td>May ,</td>\n",
       "      <td>['4:31:40']</td>\n",
       "    </tr>\n",
       "    <tr>\n",
       "      <th>1140</th>\n",
       "      <td>2014-06-01</td>\n",
       "      <td>May ,</td>\n",
       "      <td>['2:56:43']</td>\n",
       "    </tr>\n",
       "    <tr>\n",
       "      <th>1151</th>\n",
       "      <td>2014-05-11</td>\n",
       "      <td>May ,</td>\n",
       "      <td>['2:57:01']</td>\n",
       "    </tr>\n",
       "    <tr>\n",
       "      <th>1239</th>\n",
       "      <td>2013-11-05</td>\n",
       "      <td>Maynard James Keenan</td>\n",
       "      <td>['2:16:20']</td>\n",
       "    </tr>\n",
       "    <tr>\n",
       "      <th>1409</th>\n",
       "      <td>2012-07-27</td>\n",
       "      <td>Maynard J Keenan,  Brian Redban</td>\n",
       "      <td>['2:33:14']</td>\n",
       "    </tr>\n",
       "    <tr>\n",
       "      <th>1512</th>\n",
       "      <td>2011-09-29</td>\n",
       "      <td>Mayhem Miller, Ryan Parsons, Brian Redban</td>\n",
       "      <td>['2:51:51']</td>\n",
       "    </tr>\n",
       "    <tr>\n",
       "      <th>1596</th>\n",
       "      <td>2010-12-02</td>\n",
       "      <td>Ralphie May, Brian Redban</td>\n",
       "      <td>['2:11:07']</td>\n",
       "    </tr>\n",
       "    <tr>\n",
       "      <th>1597</th>\n",
       "      <td>2010-11-30</td>\n",
       "      <td>Jason Mayhem Miller, Brian Redban</td>\n",
       "      <td>['2:31:11']</td>\n",
       "    </tr>\n",
       "    <tr>\n",
       "      <th>1624</th>\n",
       "      <td>2010-07-20</td>\n",
       "      <td>Mayhem Miller, Brian Redban</td>\n",
       "      <td>['2:11:04']</td>\n",
       "    </tr>\n",
       "  </tbody>\n",
       "</table>\n",
       "</div>"
      ],
      "text/plain": [
       "            date                                              guest  \\\n",
       "11    2020-05-17                                             May ,    \n",
       "189   2019-07-29                               Maynard James Keenan   \n",
       "442   2018-05-27                                             May ,    \n",
       "595   2017-08-28  schaub/Mayweather vs. McGregor Recap with Bren...   \n",
       "600   2017-08-16                            Mayweather vs. McGregor   \n",
       "615   2017-07-12                               Maynard James Keenan   \n",
       "637   2017-05-28                                             May ,    \n",
       "816   2016-05-30                                             May ,    \n",
       "1140  2014-06-01                                             May ,    \n",
       "1151  2014-05-11                                             May ,    \n",
       "1239  2013-11-05                               Maynard James Keenan   \n",
       "1409  2012-07-27                    Maynard J Keenan,  Brian Redban   \n",
       "1512  2011-09-29          Mayhem Miller, Ryan Parsons, Brian Redban   \n",
       "1596  2010-12-02                          Ralphie May, Brian Redban   \n",
       "1597  2010-11-30                  Jason Mayhem Miller, Brian Redban   \n",
       "1624  2010-07-20                        Mayhem Miller, Brian Redban   \n",
       "\n",
       "         duration  \n",
       "11    ['4:04:17']  \n",
       "189   ['1:52:37']  \n",
       "442   ['3:15:51']  \n",
       "595   ['3:10:11']  \n",
       "600   ['2:55:38']  \n",
       "615   ['3:02:01']  \n",
       "637   ['3:30:24']  \n",
       "816   ['4:31:40']  \n",
       "1140  ['2:56:43']  \n",
       "1151  ['2:57:01']  \n",
       "1239  ['2:16:20']  \n",
       "1409  ['2:33:14']  \n",
       "1512  ['2:51:51']  \n",
       "1596  ['2:11:07']  \n",
       "1597  ['2:31:11']  \n",
       "1624  ['2:11:04']  "
      ]
     },
     "execution_count": 6,
     "metadata": {},
     "output_type": "execute_result"
    }
   ],
   "source": [
    "jredata[jredata['guest'].str.contains(\"May\")]"
   ]
  },
  {
   "cell_type": "code",
   "execution_count": 7,
   "metadata": {},
   "outputs": [],
   "source": [
    "jredata=jredata[~jredata.guest.str.contains(\"January ,\")]\n",
    "jredata=jredata[~jredata.guest.str.contains(\"February ,\")]\n",
    "jredata=jredata[~jredata.guest.str.contains(\"Feb. ,\")]\n",
    "jredata=jredata[~jredata.guest.str.contains(\"March ,\")]\n",
    "jredata=jredata[~jredata.guest.str.contains(\"April ,\")]\n",
    "jredata=jredata[~jredata.guest.str.contains(\"May ,\")]\n",
    "jredata=jredata[~jredata.guest.str.contains(\"June ,\")]\n",
    "jredata=jredata[~jredata.guest.str.contains(\"July ,\")]\n",
    "jredata=jredata[~jredata.guest.str.contains(\"August ,\")]\n",
    "jredata=jredata[~jredata.guest.str.contains(\"September ,\")]\n",
    "jredata=jredata[~jredata.guest.str.contains(\"Sept. ,\")]\n",
    "jredata=jredata[~jredata.guest.str.contains(\"October ,\")]\n",
    "jredata=jredata[~jredata.guest.str.contains(\"November ,\")]\n",
    "jredata=jredata[~jredata.guest.str.contains(\"December ,\")]"
   ]
  },
  {
   "cell_type": "code",
   "execution_count": 8,
   "metadata": {},
   "outputs": [
    {
     "data": {
      "text/html": [
       "<div>\n",
       "<style scoped>\n",
       "    .dataframe tbody tr th:only-of-type {\n",
       "        vertical-align: middle;\n",
       "    }\n",
       "\n",
       "    .dataframe tbody tr th {\n",
       "        vertical-align: top;\n",
       "    }\n",
       "\n",
       "    .dataframe thead th {\n",
       "        text-align: right;\n",
       "    }\n",
       "</style>\n",
       "<table border=\"1\" class=\"dataframe\">\n",
       "  <thead>\n",
       "    <tr style=\"text-align: right;\">\n",
       "      <th></th>\n",
       "      <th>date</th>\n",
       "      <th>guest</th>\n",
       "      <th>duration</th>\n",
       "    </tr>\n",
       "  </thead>\n",
       "  <tbody>\n",
       "  </tbody>\n",
       "</table>\n",
       "</div>"
      ],
      "text/plain": [
       "Empty DataFrame\n",
       "Columns: [date, guest, duration]\n",
       "Index: []"
      ]
     },
     "execution_count": 8,
     "metadata": {},
     "output_type": "execute_result"
    }
   ],
   "source": [
    "jredata[jredata['guest'].str.contains(\"Sept\")]"
   ]
  },
  {
   "cell_type": "code",
   "execution_count": 9,
   "metadata": {},
   "outputs": [],
   "source": [
    "jredata['duration'] = jredata['duration'].astype(str)\n",
    "jredata['duration'] = jredata['duration'].str.replace('[','')\n",
    "jredata['duration'] = jredata['duration'].str.replace(']','')\n",
    "jredata['duration'] = jredata['duration'].str.replace(\"'\",'')\n"
   ]
  },
  {
   "cell_type": "markdown",
   "metadata": {},
   "source": [
    "### III. Cleaning the text"
   ]
  },
  {
   "cell_type": "code",
   "execution_count": 10,
   "metadata": {},
   "outputs": [
    {
     "data": {
      "text/html": [
       "<div>\n",
       "<style scoped>\n",
       "    .dataframe tbody tr th:only-of-type {\n",
       "        vertical-align: middle;\n",
       "    }\n",
       "\n",
       "    .dataframe tbody tr th {\n",
       "        vertical-align: top;\n",
       "    }\n",
       "\n",
       "    .dataframe thead th {\n",
       "        text-align: right;\n",
       "    }\n",
       "</style>\n",
       "<table border=\"1\" class=\"dataframe\">\n",
       "  <thead>\n",
       "    <tr style=\"text-align: right;\">\n",
       "      <th></th>\n",
       "      <th>Unnamed: 0</th>\n",
       "      <th>date</th>\n",
       "      <th>title</th>\n",
       "      <th>duration</th>\n",
       "      <th>text</th>\n",
       "    </tr>\n",
       "  </thead>\n",
       "  <tbody>\n",
       "    <tr>\n",
       "      <th>0</th>\n",
       "      <td>0</td>\n",
       "      <td>2020-06-03</td>\n",
       "      <td>#1485 - Krystal &amp; Saagar</td>\n",
       "      <td>[]</td>\n",
       "      <td>['Hey friends, how you doing this episode, the...</td>\n",
       "    </tr>\n",
       "    <tr>\n",
       "      <th>1</th>\n",
       "      <td>1</td>\n",
       "      <td>2020-06-02</td>\n",
       "      <td>&lt;a href=\"/joe-rogan-experience/1484-reggie-wat...</td>\n",
       "      <td>['2:46:32']</td>\n",
       "      <td>['Hello, friends, welcome to the show this epi...</td>\n",
       "    </tr>\n",
       "    <tr>\n",
       "      <th>2</th>\n",
       "      <td>2</td>\n",
       "      <td>2020-05-29</td>\n",
       "      <td>&lt;a href=\"/joe-rogan-experience/1483-jesus-trej...</td>\n",
       "      <td>['2:52:47']</td>\n",
       "      <td>['Pillow friends, welcome to the show this epi...</td>\n",
       "    </tr>\n",
       "    <tr>\n",
       "      <th>3</th>\n",
       "      <td>3</td>\n",
       "      <td>2020-05-28</td>\n",
       "      <td>&lt;a href=\"/joe-rogan-experience/1482-jordan-jon...</td>\n",
       "      <td>['2:22:39']</td>\n",
       "      <td>['Hello, friends, welcome to the show this epi...</td>\n",
       "    </tr>\n",
       "    <tr>\n",
       "      <th>4</th>\n",
       "      <td>4</td>\n",
       "      <td>2020-05-27</td>\n",
       "      <td>&lt;a href=\"/joe-rogan-experience/jre-mma-show-96...</td>\n",
       "      <td>['2:58:39']</td>\n",
       "      <td>['Oh hi, friends welcome to the show this absu...</td>\n",
       "    </tr>\n",
       "  </tbody>\n",
       "</table>\n",
       "</div>"
      ],
      "text/plain": [
       "   Unnamed: 0        date                                              title  \\\n",
       "0           0  2020-06-03                           #1485 - Krystal & Saagar   \n",
       "1           1  2020-06-02  <a href=\"/joe-rogan-experience/1484-reggie-wat...   \n",
       "2           2  2020-05-29  <a href=\"/joe-rogan-experience/1483-jesus-trej...   \n",
       "3           3  2020-05-28  <a href=\"/joe-rogan-experience/1482-jordan-jon...   \n",
       "4           4  2020-05-27  <a href=\"/joe-rogan-experience/jre-mma-show-96...   \n",
       "\n",
       "      duration                                               text  \n",
       "0           []  ['Hey friends, how you doing this episode, the...  \n",
       "1  ['2:46:32']  ['Hello, friends, welcome to the show this epi...  \n",
       "2  ['2:52:47']  ['Pillow friends, welcome to the show this epi...  \n",
       "3  ['2:22:39']  ['Hello, friends, welcome to the show this epi...  \n",
       "4  ['2:58:39']  ['Oh hi, friends welcome to the show this absu...  "
      ]
     },
     "execution_count": 10,
     "metadata": {},
     "output_type": "execute_result"
    }
   ],
   "source": [
    "jrecontent.head()"
   ]
  },
  {
   "cell_type": "code",
   "execution_count": 11,
   "metadata": {},
   "outputs": [
    {
     "data": {
      "text/html": [
       "<div>\n",
       "<style scoped>\n",
       "    .dataframe tbody tr th:only-of-type {\n",
       "        vertical-align: middle;\n",
       "    }\n",
       "\n",
       "    .dataframe tbody tr th {\n",
       "        vertical-align: top;\n",
       "    }\n",
       "\n",
       "    .dataframe thead th {\n",
       "        text-align: right;\n",
       "    }\n",
       "</style>\n",
       "<table border=\"1\" class=\"dataframe\">\n",
       "  <thead>\n",
       "    <tr style=\"text-align: right;\">\n",
       "      <th></th>\n",
       "      <th>Unnamed: 0</th>\n",
       "      <th>date</th>\n",
       "      <th>guest</th>\n",
       "      <th>duration</th>\n",
       "      <th>text</th>\n",
       "    </tr>\n",
       "  </thead>\n",
       "  <tbody>\n",
       "    <tr>\n",
       "      <th>0</th>\n",
       "      <td>0</td>\n",
       "      <td>2020-06-03</td>\n",
       "      <td>Krystal &amp; Saagar</td>\n",
       "      <td></td>\n",
       "      <td>hey friends, how you doing this episode, the p...</td>\n",
       "    </tr>\n",
       "    <tr>\n",
       "      <th>1</th>\n",
       "      <td>1</td>\n",
       "      <td>2020-06-02</td>\n",
       "      <td>Reggie Watts</td>\n",
       "      <td>2:46:32</td>\n",
       "      <td>hello, friends, welcome to the show this episo...</td>\n",
       "    </tr>\n",
       "    <tr>\n",
       "      <th>2</th>\n",
       "      <td>2</td>\n",
       "      <td>2020-05-29</td>\n",
       "      <td>Jesus Trejo</td>\n",
       "      <td>2:52:47</td>\n",
       "      <td>pillow friends, welcome to the show this episo...</td>\n",
       "    </tr>\n",
       "    <tr>\n",
       "      <th>3</th>\n",
       "      <td>3</td>\n",
       "      <td>2020-05-28</td>\n",
       "      <td>Jordan Jonas</td>\n",
       "      <td>2:22:39</td>\n",
       "      <td>hello, friends, welcome to the show this episo...</td>\n",
       "    </tr>\n",
       "    <tr>\n",
       "      <th>4</th>\n",
       "      <td>4</td>\n",
       "      <td>2020-05-27</td>\n",
       "      <td>wittman/JRE MMA Show  with Justin Gaethje &amp;amp...</td>\n",
       "      <td>2:58:39</td>\n",
       "      <td>oh hi, friends welcome to the show this absurd...</td>\n",
       "    </tr>\n",
       "  </tbody>\n",
       "</table>\n",
       "</div>"
      ],
      "text/plain": [
       "   Unnamed: 0        date                                              guest  \\\n",
       "0           0  2020-06-03                                   Krystal & Saagar   \n",
       "1           1  2020-06-02                                       Reggie Watts   \n",
       "2           2  2020-05-29                                        Jesus Trejo   \n",
       "3           3  2020-05-28                                       Jordan Jonas   \n",
       "4           4  2020-05-27  wittman/JRE MMA Show  with Justin Gaethje &amp...   \n",
       "\n",
       "  duration                                               text  \n",
       "0           hey friends, how you doing this episode, the p...  \n",
       "1  2:46:32  hello, friends, welcome to the show this episo...  \n",
       "2  2:52:47  pillow friends, welcome to the show this episo...  \n",
       "3  2:22:39  hello, friends, welcome to the show this episo...  \n",
       "4  2:58:39  oh hi, friends welcome to the show this absurd...  "
      ]
     },
     "execution_count": 11,
     "metadata": {},
     "output_type": "execute_result"
    }
   ],
   "source": [
    "jrecontent['title'] = jrecontent['title'].astype(str)\n",
    "jrecontent['title'] = jrecontent['title'].str.replace('<a href=\"/joe-rogan-experience/','')\n",
    "jrecontent['title'] = jrecontent['title'].str.replace('index.html\">','')\n",
    "jrecontent['title'] = jrecontent['title'].str.replace('</a>','')\n",
    "jrecontent['title'] = jrecontent['title'].str.replace('PODCAST','')\n",
    "jrecontent['title'] = jrecontent['title'].str.replace('#','')\n",
    "jrecontent['title'] = jrecontent['title'].str.replace('\\d+','')\n",
    "jrecontent['title'] = jrecontent['title'].str.replace('(.*)-[^-]*(.*)-','')\n",
    "jrecontent['title'] = jrecontent['title'].str.replace('-','')\n",
    "jrecontent.rename(columns={\"title\": \"guest\"}, inplace=True)\n",
    "jrecontent['duration'] = jrecontent['duration'].astype(str)\n",
    "jrecontent['duration'] = jrecontent['duration'].str.replace('[','')\n",
    "jrecontent['duration'] = jrecontent['duration'].str.replace(']','')\n",
    "jrecontent['duration'] = jrecontent['duration'].str.replace(\"'\",'')\n",
    "jrecontent['text'] = jrecontent['text'].str.replace('-','')\n",
    "jrecontent['text'] = jrecontent['text'].str.replace('\\d+','')\n",
    "jrecontent['text'] = jrecontent['text'].str.replace('[','')\n",
    "jrecontent['text'] = jrecontent['text'].str.replace(']','')\n",
    "jrecontent['text'] = jrecontent['text'].str.replace(\"'\",'')\n",
    "jrecontent['text'] = jrecontent['text'].str.lower() \n",
    "jrecontent=jrecontent[~jrecontent.guest.str.contains(\"January ,\")]\n",
    "jrecontent=jrecontent[~jrecontent.guest.str.contains(\"February ,\")]\n",
    "jrecontent=jrecontent[~jrecontent.guest.str.contains(\"Feb. ,\")]\n",
    "jrecontent=jrecontent[~jrecontent.guest.str.contains(\"March ,\")]\n",
    "jrecontent=jrecontent[~jrecontent.guest.str.contains(\"April ,\")]\n",
    "jrecontent=jrecontent[~jrecontent.guest.str.contains(\"May ,\")]\n",
    "jrecontent=jrecontent[~jrecontent.guest.str.contains(\"June ,\")]\n",
    "jrecontent=jrecontent[~jrecontent.guest.str.contains(\"July ,\")]\n",
    "jrecontent=jrecontent[~jrecontent.guest.str.contains(\"August ,\")]\n",
    "jrecontent=jrecontent[~jrecontent.guest.str.contains(\"September ,\")]\n",
    "jrecontent=jrecontent[~jrecontent.guest.str.contains(\"Sept. ,\")]\n",
    "jrecontent=jrecontent[~jrecontent.guest.str.contains(\"October ,\")]\n",
    "jrecontent=jrecontent[~jrecontent.guest.str.contains(\"November ,\")]\n",
    "jrecontent=jrecontent[~jrecontent.guest.str.contains(\"December ,\")]\n",
    "jrecontent.head()"
   ]
  },
  {
   "cell_type": "markdown",
   "metadata": {},
   "source": [
    "### IV. Formating the date and timestamp column"
   ]
  },
  {
   "cell_type": "code",
   "execution_count": 12,
   "metadata": {},
   "outputs": [],
   "source": [
    "jredata['date'] = pd.DatetimeIndex(jredata['date']).date\n",
    "jrecontent['date'] = pd.DatetimeIndex(jrecontent['date']).date"
   ]
  },
  {
   "cell_type": "code",
   "execution_count": 13,
   "metadata": {
    "scrolled": true
   },
   "outputs": [
    {
     "data": {
      "text/html": [
       "<div>\n",
       "<style scoped>\n",
       "    .dataframe tbody tr th:only-of-type {\n",
       "        vertical-align: middle;\n",
       "    }\n",
       "\n",
       "    .dataframe tbody tr th {\n",
       "        vertical-align: top;\n",
       "    }\n",
       "\n",
       "    .dataframe thead th {\n",
       "        text-align: right;\n",
       "    }\n",
       "</style>\n",
       "<table border=\"1\" class=\"dataframe\">\n",
       "  <thead>\n",
       "    <tr style=\"text-align: right;\">\n",
       "      <th></th>\n",
       "      <th>date</th>\n",
       "      <th>guest</th>\n",
       "      <th>duration</th>\n",
       "    </tr>\n",
       "  </thead>\n",
       "  <tbody>\n",
       "    <tr>\n",
       "      <th>0</th>\n",
       "      <td>2020-06-03</td>\n",
       "      <td>Krystal &amp; Saagar</td>\n",
       "      <td></td>\n",
       "    </tr>\n",
       "    <tr>\n",
       "      <th>1</th>\n",
       "      <td>2020-06-02</td>\n",
       "      <td>Reggie Watts</td>\n",
       "      <td>2:46:32</td>\n",
       "    </tr>\n",
       "    <tr>\n",
       "      <th>2</th>\n",
       "      <td>2020-05-29</td>\n",
       "      <td>Jesus Trejo</td>\n",
       "      <td>2:52:47</td>\n",
       "    </tr>\n",
       "    <tr>\n",
       "      <th>3</th>\n",
       "      <td>2020-05-28</td>\n",
       "      <td>Jordan Jonas</td>\n",
       "      <td>2:22:39</td>\n",
       "    </tr>\n",
       "    <tr>\n",
       "      <th>4</th>\n",
       "      <td>2020-05-27</td>\n",
       "      <td>wittman/JRE MMA Show  with Justin Gaethje &amp;amp...</td>\n",
       "      <td>2:58:39</td>\n",
       "    </tr>\n",
       "  </tbody>\n",
       "</table>\n",
       "</div>"
      ],
      "text/plain": [
       "         date                                              guest duration\n",
       "0  2020-06-03                                   Krystal & Saagar         \n",
       "1  2020-06-02                                       Reggie Watts  2:46:32\n",
       "2  2020-05-29                                        Jesus Trejo  2:52:47\n",
       "3  2020-05-28                                       Jordan Jonas  2:22:39\n",
       "4  2020-05-27  wittman/JRE MMA Show  with Justin Gaethje &amp...  2:58:39"
      ]
     },
     "execution_count": 13,
     "metadata": {},
     "output_type": "execute_result"
    }
   ],
   "source": [
    "jredata.head()"
   ]
  },
  {
   "cell_type": "markdown",
   "metadata": {},
   "source": [
    "### V. removing inconsistent data"
   ]
  },
  {
   "cell_type": "code",
   "execution_count": 14,
   "metadata": {},
   "outputs": [
    {
     "name": "stderr",
     "output_type": "stream",
     "text": [
      "C:\\Users\\benja\\anaconda3\\lib\\site-packages\\ipykernel_launcher.py:2: UserWarning: Boolean Series key will be reindexed to match DataFrame index.\n",
      "  \n"
     ]
    }
   ],
   "source": [
    "jredata = jredata[jredata.duration != 'NaT']\n",
    "jrecontent = jrecontent[jredata.duration != 'NaT']"
   ]
  },
  {
   "cell_type": "code",
   "execution_count": 15,
   "metadata": {},
   "outputs": [
    {
     "name": "stdout",
     "output_type": "stream",
     "text": [
      "(1608, 3)\n",
      "(1056, 5)\n"
     ]
    }
   ],
   "source": [
    "print(jredata.shape)\n",
    "print(jrecontent.shape)"
   ]
  },
  {
   "cell_type": "code",
   "execution_count": 16,
   "metadata": {},
   "outputs": [],
   "source": [
    "jredata.dropna(subset=['duration'], inplace=True)\n",
    "jrecontent.dropna(subset=['duration'], inplace=True)"
   ]
  },
  {
   "cell_type": "code",
   "execution_count": 17,
   "metadata": {},
   "outputs": [
    {
     "name": "stdout",
     "output_type": "stream",
     "text": [
      "(1608, 3)\n",
      "(1056, 5)\n"
     ]
    }
   ],
   "source": [
    "print(jredata.shape)\n",
    "print(jrecontent.shape)"
   ]
  },
  {
   "cell_type": "code",
   "execution_count": 21,
   "metadata": {},
   "outputs": [],
   "source": [
    "jredata.to_csv('jredataclean.csv')\n",
    "jrecontent.to_csv('jrecontentclean.csv')"
   ]
  },
  {
   "cell_type": "code",
   "execution_count": null,
   "metadata": {},
   "outputs": [],
   "source": []
  }
 ],
 "metadata": {
  "kernelspec": {
   "display_name": "Python 3",
   "language": "python",
   "name": "python3"
  },
  "language_info": {
   "codemirror_mode": {
    "name": "ipython",
    "version": 3
   },
   "file_extension": ".py",
   "mimetype": "text/x-python",
   "name": "python",
   "nbconvert_exporter": "python",
   "pygments_lexer": "ipython3",
   "version": "3.7.6"
  }
 },
 "nbformat": 4,
 "nbformat_minor": 4
}
